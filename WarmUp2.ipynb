{
  "nbformat": 4,
  "nbformat_minor": 0,
  "metadata": {
    "colab": {
      "provenance": [],
      "authorship_tag": "ABX9TyM5hIgSUEvMgWKA00L33fL1",
      "include_colab_link": true
    },
    "kernelspec": {
      "name": "python3",
      "display_name": "Python 3"
    },
    "language_info": {
      "name": "python"
    }
  },
  "cells": [
    {
      "cell_type": "markdown",
      "metadata": {
        "id": "view-in-github",
        "colab_type": "text"
      },
      "source": [
        "<a href=\"https://colab.research.google.com/github/joydeep-kamdar/PapersRepo/blob/master/WarmUp2.ipynb\" target=\"_parent\"><img src=\"https://colab.research.google.com/assets/colab-badge.svg\" alt=\"Open In Colab\"/></a>"
      ]
    },
    {
      "cell_type": "code",
      "execution_count": 4,
      "metadata": {
        "colab": {
          "base_uri": "https://localhost:8080/"
        },
        "id": "4aQRy4dxt0Pu",
        "outputId": "d88112f1-1c1b-4c68-f0f9-9e3808e00fd8"
      },
      "outputs": [
        {
          "output_type": "stream",
          "name": "stdout",
          "text": [
            "ChoChoCho\n"
          ]
        }
      ],
      "source": [
        "''' Given a string and a non-negative int n, we'll say that the front of the string is the first 3 chars,\n",
        "or whatever is there if the string is less than length 3. Return n copies of the front;\n",
        "\n",
        "\n",
        "front_times('Chocolate', 2) → 'ChoCho'\n",
        "front_times('Chocolate', 3) → 'ChoChoCho'\n",
        "front_times('Abc', 3) → 'AbcAbcAbc'\n",
        "'''\n",
        "str = 'Chocolate'\n",
        "n= 2\n",
        "def front_times(str,n):\n",
        "  if len(str)<=3:\n",
        "    result = str*n\n",
        "  else:\n",
        "    result = str[0:3]*3\n",
        "  return result\n",
        "\n",
        "answer = front_times(str,n)\n",
        "print (answer)"
      ]
    },
    {
      "cell_type": "code",
      "source": [
        "'''\n",
        "Given a string, return a new string made of every other char starting with the first, so \"Hello\" yields \"Hlo\".\n",
        "\n",
        "\n",
        "string_bits('Hello') → 'Hlo'\n",
        "string_bits('Hi') → 'H'\n",
        "string_bits('Heeololeo') → 'Hello'\n",
        "'''\n",
        "\n",
        "str = 'God'\n",
        "n= 2\n",
        "def string_bits(str):\n",
        "  result = ''\n",
        "  for i in range(len(str)):\n",
        "    if i % 2 ==0:\n",
        "      result = result+str[i]\n",
        "  return result\n",
        "\n",
        "answer = string_bits(str)\n",
        "print (answer)"
      ],
      "metadata": {
        "colab": {
          "base_uri": "https://localhost:8080/"
        },
        "id": "sWFoXL7XvGkG",
        "outputId": "0b87ae6d-cc29-4592-a219-c5ad18b602a2"
      },
      "execution_count": 13,
      "outputs": [
        {
          "output_type": "stream",
          "name": "stdout",
          "text": [
            "Gd\n"
          ]
        }
      ]
    },
    {
      "cell_type": "code",
      "source": [
        "'''\n",
        "Given a non-empty string like \"Code\" return a string like \"CCoCodCode\".\n",
        "\n",
        "\n",
        "string_splosion('Code') → 'CCoCodCode'\n",
        "string_splosion('abc') → 'aababc'\n",
        "string_splosion('ab') → 'aab'\n",
        "'''\n",
        "str = 'Code'\n",
        "n= 2\n",
        "def string_splosion(str):\n",
        "  result = ''\n",
        "  for i in range(len(str)+1):\n",
        "    result=result+str[:i]\n",
        "  return result\n",
        "\n",
        "answer = string_splosion(str)\n",
        "print (answer)\n"
      ],
      "metadata": {
        "colab": {
          "base_uri": "https://localhost:8080/"
        },
        "id": "PvzTS-kqv9NL",
        "outputId": "5cf1ce51-6ddc-4805-9c61-c5e695bc90c6"
      },
      "execution_count": 19,
      "outputs": [
        {
          "output_type": "stream",
          "name": "stdout",
          "text": [
            "CCoCodCode\n"
          ]
        }
      ]
    },
    {
      "cell_type": "code",
      "source": [
        "'''\n",
        "Given a string, return the count of the number of times that a substring length 2 appears in the string and also as the last 2 chars of the string, so \"hixxxhi\" yields 1 (we won't count the end substring).\n",
        "\n",
        "\n",
        "last2('hixxhi') → 1\n",
        "last2('xaxxaxaxx') → 1\n",
        "last2('axxxaaxx') → 2\n",
        "'''\n",
        "str = 'i'\n",
        "n= 2\n",
        "def last2(str):\n",
        "  count = 0\n",
        "  last2 = str[-2:]\n",
        "  for i in range(len(str)-2):\n",
        "    if str[i:i+2]==last2:\n",
        "      count += 1\n",
        "  return count\n",
        "\n",
        "answer = last2(str)\n",
        "print (answer)\n"
      ],
      "metadata": {
        "colab": {
          "base_uri": "https://localhost:8080/"
        },
        "id": "jAuxRyd3zM_a",
        "outputId": "63d4ac6e-f46e-41d1-fef5-0ac43b07897f"
      },
      "execution_count": 35,
      "outputs": [
        {
          "output_type": "stream",
          "name": "stdout",
          "text": [
            "0\n"
          ]
        }
      ]
    },
    {
      "cell_type": "code",
      "source": [
        "''' Given an array of ints, return the number of 9's in the array.\n",
        "\n",
        "\n",
        "array_count9([1, 2, 9]) → 1\n",
        "array_count9([1, 9, 9]) → 2\n",
        "array_count9([1, 9, 9, 3, 9]) → 3'''\n",
        "\n",
        "theArray = [1,2,4,9,4,5]\n",
        "def array_count9(theArray):\n",
        "  count = 0\n",
        "  for i in range(len(theArray)):\n",
        "    if theArray[i]==9:\n",
        "      print(theArray[i])\n",
        "      count += 1\n",
        "  return count\n",
        "\n",
        "answer = array_count9(theArray)\n",
        "print (answer)\n"
      ],
      "metadata": {
        "colab": {
          "base_uri": "https://localhost:8080/"
        },
        "id": "R0XnGbQMGAmO",
        "outputId": "2aa5801e-d37b-4098-9258-2e837e527561"
      },
      "execution_count": 38,
      "outputs": [
        {
          "output_type": "stream",
          "name": "stdout",
          "text": [
            "9\n",
            "1\n"
          ]
        }
      ]
    },
    {
      "cell_type": "code",
      "source": [
        "'''\n",
        "Given an array of ints, return True if one of the first 4 elements in the array is a 9. The array length may be less than 4.\n",
        "\n",
        "\n",
        "array_front9([1, 2, 9, 3, 4]) → True\n",
        "array_front9([1, 2, 3, 4, 9]) → False\n",
        "array_front9([1, 2, 3, 4, 5]) → False'''\n",
        "\n",
        "theArray = [1,2,4,9,4,5]\n",
        "def array_count9(theArray):\n",
        "  count = 0\n",
        "  for i in range(len(theArray)):\n",
        "    if theArray[i]==9:\n",
        "      print(theArray[i])\n",
        "      count += 1\n",
        "  return count\n",
        "\n",
        "answer = array_count9(theArray)\n",
        "print (answer)"
      ],
      "metadata": {
        "id": "pVCqfAo0KW2v"
      },
      "execution_count": null,
      "outputs": []
    }
  ]
}