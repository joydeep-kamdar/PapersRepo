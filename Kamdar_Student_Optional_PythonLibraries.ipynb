{
  "nbformat": 4,
  "nbformat_minor": 0,
  "metadata": {
    "colab": {
      "provenance": [],
      "toc_visible": true,
      "include_colab_link": true
    },
    "language_info": {
      "codemirror_mode": {
        "name": "ipython",
        "version": 3
      },
      "file_extension": ".py",
      "mimetype": "text/x-python",
      "name": "python",
      "nbconvert_exporter": "python",
      "pygments_lexer": "ipython3",
      "version": "3.6.0"
    },
    "kernelspec": {
      "name": "python3",
      "display_name": "Python 3"
    }
  },
  "cells": [
    {
      "cell_type": "markdown",
      "metadata": {
        "id": "view-in-github",
        "colab_type": "text"
      },
      "source": [
        "<a href=\"https://colab.research.google.com/github/joydeep-kamdar/PapersRepo/blob/master/Kamdar_Student_Optional_PythonLibraries.ipynb\" target=\"_parent\"><img src=\"https://colab.research.google.com/assets/colab-badge.svg\" alt=\"Open In Colab\"/></a>"
      ]
    },
    {
      "cell_type": "markdown",
      "metadata": {
        "id": "hdjb4-LEKKbo"
      },
      "source": [
        "# Introduction to NumPy, Pandas, Matplotlib and Seaborn, and Sci-Kit Learn"
      ]
    },
    {
      "cell_type": "code",
      "metadata": {
        "id": "O-AY4gAqGBj9",
        "outputId": "22aa3506-a10b-456e-bb06-d2d530c4138c",
        "colab": {
          "base_uri": "https://localhost:8080/"
        }
      },
      "source": [
        "#@title Run this to prepare your data! { display-mode: \"form\" }\n",
        "\n",
        "!wget -q --show-progress \"https://storage.googleapis.com/inspirit-ai-data-bucket-1/Data/AI%20Scholars/Sessions%201%20-%205/Session%201%20-%20Python%20Basics%20and%20Libraries/tips.csv\""
      ],
      "execution_count": null,
      "outputs": [
        {
          "output_type": "stream",
          "name": "stdout",
          "text": [
            "\rtips.csv.1            0%[                    ]       0  --.-KB/s               \rtips.csv.1          100%[===================>]   7.82K  --.-KB/s    in 0s      \n"
          ]
        }
      ]
    },
    {
      "cell_type": "markdown",
      "metadata": {
        "id": "N0p2aNMyKKbq"
      },
      "source": [
        "Before we set out on our journey into the land of artificial intelligence, we must first pack some gear.\n",
        "Some of the essentials include Numpy, Pandas, Matplotlib, and Seaborn. Let's discuss Python Packages first!\n",
        "\n",
        "### Note: In case of time constraint, only do the sections that have an emoji next to the title.\n",
        "\n",
        "## What are Python Packages?"
      ]
    },
    {
      "cell_type": "markdown",
      "metadata": {
        "id": "G9_3omm0KKbs"
      },
      "source": [
        "A Python package is simply an collection of modules — files consisting of Python code. The packages that we'll be looking at today include Numpy, Pandas, Matplotlib, and Seaborn. Let's begin with NumPy."
      ]
    },
    {
      "cell_type": "markdown",
      "metadata": {
        "id": "YUs6I5u5KKbv"
      },
      "source": [
        "# NumPy: An Introduction  🤖"
      ]
    },
    {
      "cell_type": "markdown",
      "metadata": {
        "id": "yn5x1HxkKKbx"
      },
      "source": [
        "Numpy is the core library for scientific computing in Python. Numpy provides the flexibility to create multidimensional array objects (arrays within arrays) and compute a wide variety of mathematical operations including basic linear algebra, basic statistical operations, random simulation and much more. We will represent all of our data which will be fed into our machine learning models using Numpy."
      ]
    },
    {
      "cell_type": "markdown",
      "metadata": {
        "id": "dNj5CzYeKKb0"
      },
      "source": [
        "We'll start with the standard NumPy import, under the alias np:"
      ]
    },
    {
      "cell_type": "code",
      "metadata": {
        "id": "e1NOvv47KKb1"
      },
      "source": [
        "import numpy as np"
      ],
      "execution_count": null,
      "outputs": []
    },
    {
      "cell_type": "markdown",
      "metadata": {
        "id": "0vkg7Br-KKcB"
      },
      "source": [
        "### Arrays 🚖"
      ]
    },
    {
      "cell_type": "markdown",
      "metadata": {
        "id": "NfnHIM-RKKcC"
      },
      "source": [
        "An **array** is simply a collection of items. At the heart of a Numpy library is the array object or the ndarray object (n-dimensional array).  Simply put, it is a table of elements (usually numbers and the same type) indexed by a tuple of positive integers. In NumPy dimensions are called **axes**. The number of axes is referred to as **rank**.\n",
        "<br/>\n",
        "Let's create an 1D array of  **taxi rates** (in dollars) by passing it through a list:"
      ]
    },
    {
      "cell_type": "code",
      "metadata": {
        "id": "nDUZfgg5KKcC"
      },
      "source": [
        "a = np.array([12.50, 10.20, 25])"
      ],
      "execution_count": null,
      "outputs": []
    },
    {
      "cell_type": "markdown",
      "metadata": {
        "id": "VeYSYKLwmTx3"
      },
      "source": [
        "We can view the contents of the array by running the following code:"
      ]
    },
    {
      "cell_type": "code",
      "metadata": {
        "id": "NjUHxfHJKKcE",
        "colab": {
          "base_uri": "https://localhost:8080/"
        },
        "outputId": "0a0a2c9c-a3b4-4b3a-abd1-4bc4053f1d2e"
      },
      "source": [
        "a"
      ],
      "execution_count": null,
      "outputs": [
        {
          "output_type": "execute_result",
          "data": {
            "text/plain": [
              "array([12.5, 10.2, 25. ])"
            ]
          },
          "metadata": {},
          "execution_count": 6
        }
      ]
    },
    {
      "cell_type": "markdown",
      "metadata": {
        "id": "Yw6X4FpkKKcH"
      },
      "source": [
        "Awesome! 👏 Let's now create an multi-dimensional array."
      ]
    },
    {
      "cell_type": "code",
      "metadata": {
        "id": "zXL1mAmiKKcI"
      },
      "source": [
        "b = np.array([\n",
        "    [19.50, 13, 12, 11 ],\n",
        "    [12.50, 10, 25, 14],\n",
        "    [12.50, 10, 25, 14]])"
      ],
      "execution_count": null,
      "outputs": []
    },
    {
      "cell_type": "code",
      "metadata": {
        "id": "kfjB-dPgKKcJ",
        "colab": {
          "base_uri": "https://localhost:8080/"
        },
        "outputId": "47a2a7a3-72f0-4fbd-c285-9b346b8db461"
      },
      "source": [
        "b"
      ],
      "execution_count": null,
      "outputs": [
        {
          "output_type": "execute_result",
          "data": {
            "text/plain": [
              "array([[19.5, 13. , 12. , 11. ],\n",
              "       [12.5, 10. , 25. , 14. ]])"
            ]
          },
          "metadata": {},
          "execution_count": 7
        }
      ]
    },
    {
      "cell_type": "markdown",
      "metadata": {
        "id": "I2dG_H82KKcL"
      },
      "source": [
        "## Exercise 1:  Arrays ⛷"
      ]
    },
    {
      "cell_type": "markdown",
      "metadata": {
        "id": "k_Bai-nKKKcM"
      },
      "source": [
        "**Exercise 1a:**\n",
        "\n",
        "Create a NumPy single - dimensional array and assign it to a variable that describes the following situation:\n",
        "- Find the weather for the next 5 days in your favorite city, and enter it into the array."
      ]
    },
    {
      "cell_type": "code",
      "source": [
        "w = np.array([82, 75, 87, 92, 84 ])"
      ],
      "metadata": {
        "id": "ukOV8eIgonQl"
      },
      "execution_count": null,
      "outputs": []
    },
    {
      "cell_type": "markdown",
      "source": [
        "**Exercise 1b:**\n",
        "\n",
        "Create another NumPy single - dimensional array and assign it to a variable that describes the following situation:\n",
        "* Write your 5 favorite numbers."
      ],
      "metadata": {
        "id": "q4zBdwL_ooOv"
      }
    },
    {
      "cell_type": "code",
      "source": [
        "f = np.array([46, 23, 18, 17, 5 ])"
      ],
      "metadata": {
        "id": "OOGHc5dJool1"
      },
      "execution_count": null,
      "outputs": []
    },
    {
      "cell_type": "markdown",
      "source": [
        "**Exercise 1c:**\n",
        "1. Add the two arrays you created!\n",
        "2. Subtract the two arrays."
      ],
      "metadata": {
        "id": "wYWPoSO6opSW"
      }
    },
    {
      "cell_type": "code",
      "source": [
        "print(w + f)\n",
        "print(w - f)"
      ],
      "metadata": {
        "id": "PmM6Ib2ZopcT",
        "colab": {
          "base_uri": "https://localhost:8080/"
        },
        "outputId": "ded59c5e-c8e8-4e21-a83f-9b7d6a2e3a30"
      },
      "execution_count": null,
      "outputs": [
        {
          "output_type": "stream",
          "name": "stdout",
          "text": [
            "[128  98 105 109  89]\n",
            "[36 52 69 75 79]\n"
          ]
        }
      ]
    },
    {
      "cell_type": "markdown",
      "metadata": {
        "id": "kvgbO5Z_KKcR"
      },
      "source": [
        "### Methods ⛵️"
      ]
    },
    {
      "cell_type": "markdown",
      "metadata": {
        "id": "7HZaOocAKKcR"
      },
      "source": [
        "#### 🎉 Let's now explore some of the methods in NumPy: ###\n",
        "\n",
        "The [**.shape**](https://docs.scipy.org/doc/numpy/reference/generated/numpy.ndarray.shape.html) method for nparray returns the dimensions of the given array. For example, `[x].shape` returns the (vertical, horizontal) dimensions of the variable `x`. Let's use `.shape` to find the dimensions of the multi-dimensional array that we've created above:\n",
        "\n",
        "_Can you guess the shape before running the command?_"
      ]
    },
    {
      "cell_type": "code",
      "metadata": {
        "id": "wqNlN3rOKKcS",
        "colab": {
          "base_uri": "https://localhost:8080/"
        },
        "outputId": "0da97f9f-24d6-4863-daac-6aee0f89e681"
      },
      "source": [
        "b.shape"
      ],
      "execution_count": null,
      "outputs": [
        {
          "output_type": "execute_result",
          "data": {
            "text/plain": [
              "(3, 4)"
            ]
          },
          "metadata": {},
          "execution_count": 15
        }
      ]
    },
    {
      "cell_type": "markdown",
      "metadata": {
        "id": "3jMyi9hVmynw"
      },
      "source": [
        "Note that multi-dimensional arrays can also have more than two dimensions. A three-dimensional array, for example, has arrays within arrays within arrays. Calling array.shape on a 3-dimensional array would return three numbers: (num1, num2, num3).\n",
        "\n",
        "**Make sure you understand the concept of shapes because this will come up again and again throughout your machine learning experience!**"
      ]
    },
    {
      "cell_type": "markdown",
      "metadata": {
        "id": "wc48ME-lKKcT"
      },
      "source": [
        "The [**.linspace**](https://docs.scipy.org/doc/numpy/reference/generated/numpy.linspace.html) method is used to return evenly spaced numbers over a specified interval. Let's create an array of 6 integers between 0 and 100 to demonstrate this method:"
      ]
    },
    {
      "cell_type": "code",
      "metadata": {
        "scrolled": true,
        "id": "FnUeQq9wKKcU",
        "colab": {
          "base_uri": "https://localhost:8080/"
        },
        "outputId": "55557824-9a16-462a-b9be-4fd92313ac02"
      },
      "source": [
        "np.linspace(100,600,3)"
      ],
      "execution_count": null,
      "outputs": [
        {
          "output_type": "execute_result",
          "data": {
            "text/plain": [
              "array([100., 350., 600.])"
            ]
          },
          "metadata": {},
          "execution_count": 20
        }
      ]
    },
    {
      "cell_type": "markdown",
      "metadata": {
        "id": "087T2UAcKKcW"
      },
      "source": [
        "How about if we wanted to decide the step? The [**.arange**](https://docs.scipy.org/doc/numpy/reference/generated/numpy.linspace.html) method allows us to return evenly spaced values within an given interval."
      ]
    },
    {
      "cell_type": "code",
      "metadata": {
        "id": "-f6sV7WmKKcW",
        "colab": {
          "base_uri": "https://localhost:8080/"
        },
        "outputId": "6052f038-13fe-4035-de33-3d3352fd6c6c"
      },
      "source": [
        "np.arange(0,16,3)"
      ],
      "execution_count": null,
      "outputs": [
        {
          "output_type": "execute_result",
          "data": {
            "text/plain": [
              "array([ 0,  3,  6,  9, 12, 15])"
            ]
          },
          "metadata": {},
          "execution_count": 25
        }
      ]
    },
    {
      "cell_type": "markdown",
      "metadata": {
        "id": "5S10euQrKKcY"
      },
      "source": [
        "Yay! 🙌 What if we didn't want to define the interval or the step? The [**.random.rand**](https://numpy.org/doc/stable/reference/random/generated/numpy.random.rand.html) method accomplishes this purpose by creating an array of a specified shape and fills it with random values. Let's create a 4 x 5 array of random floats between 0-1:"
      ]
    },
    {
      "cell_type": "code",
      "metadata": {
        "scrolled": true,
        "id": "GnqUmK-4KKcZ",
        "colab": {
          "base_uri": "https://localhost:8080/"
        },
        "outputId": "6f4bf38b-cf63-4ea2-c2bf-18e05e6735ee"
      },
      "source": [
        "np.random.rand(4,5)"
      ],
      "execution_count": null,
      "outputs": [
        {
          "output_type": "execute_result",
          "data": {
            "text/plain": [
              "array([[0.87888575, 0.1418235 , 0.51844649, 0.82138705, 0.9074733 ],\n",
              "       [0.9363611 , 0.7035813 , 0.75761691, 0.191289  , 0.2729663 ],\n",
              "       [0.81900022, 0.31739872, 0.02010152, 0.00263069, 0.11734307],\n",
              "       [0.76023193, 0.24015952, 0.87135369, 0.10539421, 0.14132   ]])"
            ]
          },
          "metadata": {},
          "execution_count": 26
        }
      ]
    },
    {
      "cell_type": "markdown",
      "metadata": {
        "id": "mA9K9rq_KKcb"
      },
      "source": [
        "If we want to increase the size of the floats between an certain interval (0-100), we can simply multiply by the highest digit in that interval:"
      ]
    },
    {
      "cell_type": "code",
      "metadata": {
        "id": "WNPNeWe7KKcc"
      },
      "source": [
        "np.random.rand(4,5)*100\n",
        "d = np.random.rand(4,5)*100"
      ],
      "execution_count": null,
      "outputs": []
    },
    {
      "cell_type": "markdown",
      "metadata": {
        "id": "syIDcJjWnaMl"
      },
      "source": [
        "Notice how the numbers when you call the random function are different the second time. This is because it generates new numbers each time."
      ]
    },
    {
      "cell_type": "markdown",
      "metadata": {
        "id": "C1huCd_VKKce"
      },
      "source": [
        "We can also explore some of the properties of the array. The [**.dtype**](https://docs.scipy.org/doc/numpy/reference/arrays.dtypes.html)  method outputs the type of elements in an given array:"
      ]
    },
    {
      "cell_type": "code",
      "metadata": {
        "id": "9iOKWg0RKKce"
      },
      "source": [
        "c = np.arange(0,10,3)"
      ],
      "execution_count": null,
      "outputs": []
    },
    {
      "cell_type": "code",
      "metadata": {
        "id": "epO-qdqMKKcf",
        "colab": {
          "base_uri": "https://localhost:8080/"
        },
        "outputId": "fcf7160e-5c33-4201-bd3a-3f01fc5c40c9"
      },
      "source": [
        "print(c)\n",
        "print(c.dtype)\n",
        "print(c.shape)\n",
        "print(d.shape)\n",
        "print(d.dtype)"
      ],
      "execution_count": null,
      "outputs": [
        {
          "output_type": "stream",
          "name": "stdout",
          "text": [
            "[0 3 6 9]\n",
            "int64\n",
            "(4,)\n",
            "(4, 5)\n",
            "float64\n"
          ]
        }
      ]
    },
    {
      "cell_type": "markdown",
      "metadata": {
        "id": "5t-BnlMuKKci"
      },
      "source": [
        "Kudos! **int64** simply means that the elements in the array are integers. Remember that NumPy arrays only support an *singular* data type for each array unlike Python arrays. Other data types include **float64** and **double64**, which are used to specify numbers with decimals (**int64**s must be whole numbers)."
      ]
    },
    {
      "cell_type": "markdown",
      "metadata": {
        "id": "7hw-t9USKKci"
      },
      "source": [
        "## Exercise 2: Methods 🏃"
      ]
    },
    {
      "cell_type": "markdown",
      "metadata": {
        "id": "XYiYhMliKKci"
      },
      "source": [
        "###Time to test our skills!"
      ]
    },
    {
      "cell_type": "markdown",
      "metadata": {
        "id": "McnS13TaKKcj"
      },
      "source": [
        "Using the **.shape** method, find the dimensions of the array containing the weather of your favorite city."
      ]
    },
    {
      "cell_type": "code",
      "metadata": {
        "id": "Hpl84uC_N9OU",
        "colab": {
          "base_uri": "https://localhost:8080/"
        },
        "outputId": "b99e0c31-c3cb-476b-c52a-729d3561528c"
      },
      "source": [
        "w.shape"
      ],
      "execution_count": null,
      "outputs": [
        {
          "output_type": "execute_result",
          "data": {
            "text/plain": [
              "(5,)"
            ]
          },
          "metadata": {},
          "execution_count": 38
        }
      ]
    },
    {
      "cell_type": "markdown",
      "source": [
        "Use the **.linspace** method to create an array of 5 evenly-spaced integers between 15 and 45."
      ],
      "metadata": {
        "id": "FTXRMk2fpTVr"
      }
    },
    {
      "cell_type": "code",
      "source": [
        "p= np.linspace(15,45,5)\n",
        "print(p)"
      ],
      "metadata": {
        "id": "11ZUhrDYpTiG",
        "colab": {
          "base_uri": "https://localhost:8080/"
        },
        "outputId": "ede75de9-f658-4dc2-d92d-3e9c8e0a92cd"
      },
      "execution_count": null,
      "outputs": [
        {
          "output_type": "stream",
          "name": "stdout",
          "text": [
            "[15.  22.5 30.  37.5 45. ]\n"
          ]
        }
      ]
    },
    {
      "cell_type": "markdown",
      "source": [
        "Create a 3x6 array using the **.random.rand()** method."
      ],
      "metadata": {
        "id": "-VFbIKc8pUZp"
      }
    },
    {
      "cell_type": "code",
      "source": [
        "np.random.rand(3,6)"
      ],
      "metadata": {
        "id": "tFAGOxn_pUo7",
        "colab": {
          "base_uri": "https://localhost:8080/"
        },
        "outputId": "588d15c6-902c-4826-d728-dc1925004fb3"
      },
      "execution_count": null,
      "outputs": [
        {
          "output_type": "execute_result",
          "data": {
            "text/plain": [
              "array([[0.88341867, 0.67979969, 0.04535767, 0.01840986, 0.83698429,\n",
              "        0.74232433],\n",
              "       [0.24755229, 0.56838152, 0.19441143, 0.65831155, 0.63426325,\n",
              "        0.79373307],\n",
              "       [0.97556257, 0.75454225, 0.60366077, 0.80133556, 0.81552439,\n",
              "        0.97000447]])"
            ]
          },
          "metadata": {},
          "execution_count": 43
        }
      ]
    },
    {
      "cell_type": "markdown",
      "metadata": {
        "id": "NMzjIw1KKKcl"
      },
      "source": [
        "## Operations"
      ]
    },
    {
      "cell_type": "markdown",
      "metadata": {
        "id": "CC561yHBKKcl"
      },
      "source": [
        "NumPy offers the ability to compute arrays together."
      ]
    },
    {
      "cell_type": "code",
      "metadata": {
        "id": "f33m7hEfKKcl"
      },
      "source": [
        "x = np.array([3,4,5])"
      ],
      "execution_count": null,
      "outputs": []
    },
    {
      "cell_type": "code",
      "metadata": {
        "id": "vw3NHRzzKKcm"
      },
      "source": [
        "y = np.array([1,2,3])"
      ],
      "execution_count": null,
      "outputs": []
    },
    {
      "cell_type": "markdown",
      "metadata": {
        "id": "S6lON11SKKcn"
      },
      "source": [
        "We can use traditional math symbols to add, subtract, multiply, and divide the two arrays:"
      ]
    },
    {
      "cell_type": "code",
      "metadata": {
        "id": "bQJyXZ7jKKcn",
        "colab": {
          "base_uri": "https://localhost:8080/"
        },
        "outputId": "8f383e0d-7adf-4aab-94c8-4fc3e538c1e8"
      },
      "source": [
        "print(x + y)\n",
        "print(x - y)\n",
        "print(x * y)\n",
        "print(x / y)\n",
        "print(x**2)"
      ],
      "execution_count": null,
      "outputs": [
        {
          "output_type": "stream",
          "name": "stdout",
          "text": [
            "[4 6 8]\n",
            "[2 2 2]\n",
            "[ 3  8 15]\n",
            "[3.         2.         1.66666667]\n",
            "[ 9 16 25]\n"
          ]
        }
      ]
    },
    {
      "cell_type": "markdown",
      "metadata": {
        "id": "NA9kJJ3WKKcp"
      },
      "source": [
        "## Scalar Math"
      ]
    },
    {
      "cell_type": "markdown",
      "metadata": {
        "id": "RU3du0U6KKcp"
      },
      "source": [
        "We can use basic functions to add, subtract, multiply, divide, and power the array:\n",
        "\n",
        "_Can you guess the output before running command?_"
      ]
    },
    {
      "cell_type": "code",
      "metadata": {
        "id": "Ty8_QhprKKcp",
        "colab": {
          "base_uri": "https://localhost:8080/"
        },
        "outputId": "0026c115-f4b7-49da-bb8d-8c712c49388b"
      },
      "source": [
        "np.add(x,1)"
      ],
      "execution_count": null,
      "outputs": [
        {
          "output_type": "execute_result",
          "data": {
            "text/plain": [
              "array([4, 5, 6])"
            ]
          },
          "metadata": {},
          "execution_count": 47
        }
      ]
    },
    {
      "cell_type": "code",
      "metadata": {
        "id": "6Z4nK4UDKKcr",
        "colab": {
          "base_uri": "https://localhost:8080/"
        },
        "outputId": "5c48c991-49f0-4087-f47c-54eb8e59f9de"
      },
      "source": [
        "np.subtract(x,2)"
      ],
      "execution_count": null,
      "outputs": [
        {
          "output_type": "execute_result",
          "data": {
            "text/plain": [
              "array([1, 2, 3])"
            ]
          },
          "metadata": {},
          "execution_count": 48
        }
      ]
    },
    {
      "cell_type": "code",
      "metadata": {
        "id": "W8xNSNODKKcs",
        "colab": {
          "base_uri": "https://localhost:8080/"
        },
        "outputId": "86137437-89a9-4907-fa27-c80782d41c1a"
      },
      "source": [
        "np.multiply(x,3)"
      ],
      "execution_count": null,
      "outputs": [
        {
          "output_type": "execute_result",
          "data": {
            "text/plain": [
              "array([ 9, 12, 15])"
            ]
          },
          "metadata": {},
          "execution_count": 49
        }
      ]
    },
    {
      "cell_type": "code",
      "metadata": {
        "id": "qTGgDdteKKct",
        "colab": {
          "base_uri": "https://localhost:8080/"
        },
        "outputId": "825671e7-2b9c-4517-83fe-cda17162ca1d"
      },
      "source": [
        "np.divide(x,4)"
      ],
      "execution_count": null,
      "outputs": [
        {
          "output_type": "execute_result",
          "data": {
            "text/plain": [
              "array([0.75, 1.  , 1.25])"
            ]
          },
          "metadata": {},
          "execution_count": 50
        }
      ]
    },
    {
      "cell_type": "code",
      "metadata": {
        "id": "u-Cf5OfBKKcu",
        "colab": {
          "base_uri": "https://localhost:8080/"
        },
        "outputId": "3e347014-d1c0-4ced-874e-96db9e7e5062"
      },
      "source": [
        "np.power(x,5)"
      ],
      "execution_count": null,
      "outputs": [
        {
          "output_type": "execute_result",
          "data": {
            "text/plain": [
              "array([ 243, 1024, 3125])"
            ]
          },
          "metadata": {},
          "execution_count": 51
        }
      ]
    },
    {
      "cell_type": "markdown",
      "metadata": {
        "id": "SfOGy3YXKKcv"
      },
      "source": [
        "## Indexing, Slicing and Reshaping 🔭"
      ]
    },
    {
      "cell_type": "markdown",
      "metadata": {
        "id": "oGZo5zPWKKcw"
      },
      "source": [
        "Now, we're going to explore some of the functions in Python. First, let's create an array with 12 numbers using the **arange** method in increments of 5:"
      ]
    },
    {
      "cell_type": "code",
      "metadata": {
        "id": "u8nJkGpqKKcw",
        "colab": {
          "base_uri": "https://localhost:8080/"
        },
        "outputId": "3881b787-834b-462a-a428-8323fe5efd7b"
      },
      "source": [
        "s = np.arange(12)*5 # note this is same as np.arange(0,12,1)*5\n",
        "s"
      ],
      "execution_count": null,
      "outputs": [
        {
          "output_type": "execute_result",
          "data": {
            "text/plain": [
              "array([ 0,  5, 10, 15, 20, 25, 30, 35, 40, 45, 50, 55])"
            ]
          },
          "metadata": {},
          "execution_count": 52
        }
      ]
    },
    {
      "cell_type": "markdown",
      "metadata": {
        "id": "KFKdNcVCKKcx"
      },
      "source": [
        "**Indexing** refers to retrieving a specific element of an array. Let's find the 3rd value in the above array:"
      ]
    },
    {
      "cell_type": "code",
      "metadata": {
        "id": "it-5rQ-AKKcx",
        "colab": {
          "base_uri": "https://localhost:8080/"
        },
        "outputId": "1e7cf4b1-d3d4-407c-869f-a1b09b12d501"
      },
      "source": [
        "s[2]"
      ],
      "execution_count": null,
      "outputs": [
        {
          "output_type": "execute_result",
          "data": {
            "text/plain": [
              "10"
            ]
          },
          "metadata": {},
          "execution_count": 53
        }
      ]
    },
    {
      "cell_type": "markdown",
      "metadata": {
        "id": "40b-h-2JKKcy"
      },
      "source": [
        "**Note**: The values of an array always start with x[0]. We can also retrieve values within an certain range using the **:** symbol:"
      ]
    },
    {
      "cell_type": "code",
      "metadata": {
        "id": "2BP_MEpXKKcz",
        "colab": {
          "base_uri": "https://localhost:8080/"
        },
        "outputId": "499955e8-a0c6-4bce-9bcd-2e217ab39fa7"
      },
      "source": [
        "s[2:5]"
      ],
      "execution_count": null,
      "outputs": [
        {
          "output_type": "execute_result",
          "data": {
            "text/plain": [
              "array([10, 15, 20])"
            ]
          },
          "metadata": {},
          "execution_count": 54
        }
      ]
    },
    {
      "cell_type": "markdown",
      "metadata": {
        "id": "0f4WW1dyKKc0"
      },
      "source": [
        "😎 Now, let's try combining two arrays using [**concatenate()**](https://docs.scipy.org/doc/numpy/reference/generated/numpy.concatenate.html) and add 'a' as rows to the end of 's':"
      ]
    },
    {
      "cell_type": "code",
      "metadata": {
        "id": "zZhuYVWVKKc0",
        "colab": {
          "base_uri": "https://localhost:8080/"
        },
        "outputId": "974ef8ec-8cb5-45d1-e99c-b5c4b5515daf"
      },
      "source": [
        "z = np.concatenate((s,a))\n",
        "print(z)"
      ],
      "execution_count": null,
      "outputs": [
        {
          "output_type": "stream",
          "name": "stdout",
          "text": [
            "[ 0.   5.  10.  15.  20.  25.  30.  35.  40.  45.  50.  55.  12.5 10.2\n",
            " 25. ]\n"
          ]
        }
      ]
    },
    {
      "cell_type": "markdown",
      "metadata": {
        "id": "Lzdq-SN9KKc1"
      },
      "source": [
        "🙌 How about splitting arrays? We can use the [**.split()**](https://numpy.org/doc/stable/reference/generated/numpy.split.html) method to split the s array in sub-arrays:"
      ]
    },
    {
      "cell_type": "code",
      "metadata": {
        "id": "iFxWISKcKKc2",
        "colab": {
          "base_uri": "https://localhost:8080/"
        },
        "outputId": "54d723d7-c555-49f4-9ed9-e29938684691"
      },
      "source": [
        "z = np.arange(9.0)\n",
        "z"
      ],
      "execution_count": null,
      "outputs": [
        {
          "output_type": "execute_result",
          "data": {
            "text/plain": [
              "array([0., 1., 2., 3., 4., 5., 6., 7., 8.])"
            ]
          },
          "metadata": {},
          "execution_count": 58
        }
      ]
    },
    {
      "cell_type": "code",
      "metadata": {
        "id": "_JM8BwQcKKc3"
      },
      "source": [
        "split_arr = np.split(z, 3)"
      ],
      "execution_count": null,
      "outputs": []
    },
    {
      "cell_type": "code",
      "metadata": {
        "id": "7hddEf4zFL7L",
        "colab": {
          "base_uri": "https://localhost:8080/"
        },
        "outputId": "97634c83-109d-42ee-f83e-80b425e02e05"
      },
      "source": [
        "split_arr"
      ],
      "execution_count": null,
      "outputs": [
        {
          "output_type": "execute_result",
          "data": {
            "text/plain": [
              "[array([0., 1., 2.]), array([3., 4., 5.]), array([6., 7., 8.])]"
            ]
          },
          "metadata": {},
          "execution_count": 61
        }
      ]
    },
    {
      "cell_type": "markdown",
      "metadata": {
        "id": "xxIhNlDNE28F"
      },
      "source": [
        "**What do y'all think the shape of the above array is?**"
      ]
    },
    {
      "cell_type": "code",
      "metadata": {
        "id": "Rv6OJqbZFOp6",
        "colab": {
          "base_uri": "https://localhost:8080/"
        },
        "outputId": "1e212863-a2b6-41a4-ace1-ac30c999751b"
      },
      "source": [
        "np.array(split_arr).shape"
      ],
      "execution_count": null,
      "outputs": [
        {
          "output_type": "execute_result",
          "data": {
            "text/plain": [
              "(3, 3)"
            ]
          },
          "metadata": {},
          "execution_count": 62
        }
      ]
    },
    {
      "cell_type": "code",
      "metadata": {
        "id": "x0YoJ4ylOwQ9",
        "colab": {
          "base_uri": "https://localhost:8080/"
        },
        "outputId": "76fd1236-aa2b-4962-fca2-a7b7567c2503"
      },
      "source": [
        "np.array(split_arr)"
      ],
      "execution_count": null,
      "outputs": [
        {
          "output_type": "execute_result",
          "data": {
            "text/plain": [
              "array([[0., 1., 2.],\n",
              "       [3., 4., 5.],\n",
              "       [6., 7., 8.]])"
            ]
          },
          "metadata": {},
          "execution_count": 63
        }
      ]
    },
    {
      "cell_type": "markdown",
      "metadata": {
        "id": "GAZ7v5w8KKc4"
      },
      "source": [
        "## Exercise: Indexing, Slicing and Reshaping"
      ]
    },
    {
      "cell_type": "markdown",
      "metadata": {
        "id": "5bAZWakZKKc4"
      },
      "source": [
        "###Time for a test!"
      ]
    },
    {
      "cell_type": "markdown",
      "metadata": {
        "id": "yGbwUaHwKKc4"
      },
      "source": [
        "Using the **arange** method, create an array of 5 numbers in increments of 10. Call it 'oreo'."
      ]
    },
    {
      "cell_type": "code",
      "metadata": {
        "id": "OEMDh_IgOE62",
        "colab": {
          "base_uri": "https://localhost:8080/"
        },
        "outputId": "8574b6e8-5d68-4f6c-db67-3c5339e2a922"
      },
      "source": [
        "oreo = np.arange(5)*10\n",
        "print(oreo)"
      ],
      "execution_count": null,
      "outputs": [
        {
          "output_type": "stream",
          "name": "stdout",
          "text": [
            "[ 0 10 20 30 40]\n"
          ]
        }
      ]
    },
    {
      "cell_type": "markdown",
      "source": [
        "Retrieve the 3rd number in the above array named 'oreo'."
      ],
      "metadata": {
        "id": "Q6TQvWQTqC7f"
      }
    },
    {
      "cell_type": "code",
      "source": [
        "oreo[2]"
      ],
      "metadata": {
        "id": "Yv2FD3xTqDFy",
        "colab": {
          "base_uri": "https://localhost:8080/"
        },
        "outputId": "62f93e5f-4164-43e7-b082-d7f5aa7c2087"
      },
      "execution_count": null,
      "outputs": [
        {
          "output_type": "execute_result",
          "data": {
            "text/plain": [
              "20"
            ]
          },
          "metadata": {},
          "execution_count": 77
        }
      ]
    },
    {
      "cell_type": "markdown",
      "source": [
        "Create another array of 5 numbers in increments of 15. Use any method you like and call it 'milk'."
      ],
      "metadata": {
        "id": "YkpMXa_LqD1L"
      }
    },
    {
      "cell_type": "code",
      "source": [
        "milk = np.arange(5)*15"
      ],
      "metadata": {
        "id": "N9tuUooUqD_1"
      },
      "execution_count": null,
      "outputs": []
    },
    {
      "cell_type": "markdown",
      "source": [
        "Retrieve the 1st number in the above array named 'milk'.\n",
        "\n",
        "Can you eat those many oreos and drink that many cups of milk? You decide! 🥛"
      ],
      "metadata": {
        "id": "xveJTG7jqEkS"
      }
    },
    {
      "cell_type": "code",
      "source": [
        "milk[1]"
      ],
      "metadata": {
        "id": "GK8ai0ksqEwS",
        "colab": {
          "base_uri": "https://localhost:8080/"
        },
        "outputId": "c61330e4-365b-4a94-e980-658e16a4ac60"
      },
      "execution_count": null,
      "outputs": [
        {
          "output_type": "execute_result",
          "data": {
            "text/plain": [
              "15"
            ]
          },
          "metadata": {},
          "execution_count": 76
        }
      ]
    },
    {
      "cell_type": "markdown",
      "metadata": {
        "id": "eqbcMLWOKKc4"
      },
      "source": [
        "😀 We've completed our review of NumPy! After you take a quick break - walk around, drink water - let's move on to Pandas."
      ]
    },
    {
      "cell_type": "markdown",
      "metadata": {
        "id": "WfqaMtQ-KKc4"
      },
      "source": [
        "# Pandas: An Introduction 🐼"
      ]
    },
    {
      "cell_type": "markdown",
      "metadata": {
        "id": "fdnANq-9KKc5"
      },
      "source": [
        "Pandas is an open source Python package that provides numerous tools for data analysis. Pandas provides </br> fast, flexible, and expressive data structures designed to make working with structured (tabular, multidimensional, potentially heterogeneous) and time series data both easy and intuitive. It aims to be the fundamental high-level building block for doing practical, real world data analysis in Python.\n",
        "\n",
        "We'll take look at some of the core ideas in Pandas here. You can learn more about Pandas in their official [documentation](http://pandas.pydata.org)."
      ]
    },
    {
      "cell_type": "markdown",
      "metadata": {
        "id": "4DM2GJ-9KKc5"
      },
      "source": [
        "## [Pandas Series](https://pandas.pydata.org/pandas-docs/stable/reference/api/pandas.Series.html) ❄️"
      ]
    },
    {
      "cell_type": "markdown",
      "metadata": {
        "id": "zqgi1nU3KKc5"
      },
      "source": [
        "A **Series** is similar to an one dimensional array and can store data of any type. The values of a Pandas Series are mutable but the size of a Series is immutable and cannot be changed.<br>\n",
        "The first element in the series is assigned the index 0, while the last element is at index N-1, where N is the total number of elements in the series."
      ]
    },
    {
      "cell_type": "markdown",
      "metadata": {
        "id": "6VIa2HCGKKc5"
      },
      "source": [
        "Let's first **import** pandas under the common alias **pd**:"
      ]
    },
    {
      "cell_type": "code",
      "metadata": {
        "id": "9VyI95ekKKc5"
      },
      "source": [
        "import pandas as pd"
      ],
      "execution_count": null,
      "outputs": []
    },
    {
      "cell_type": "markdown",
      "metadata": {
        "id": "EO-qBtXSKKc6"
      },
      "source": [
        "### Creating a Pandas Series"
      ]
    },
    {
      "cell_type": "markdown",
      "metadata": {
        "id": "EhnXEyJhKKc6"
      },
      "source": [
        "We can create a series by invoking the pd.Series( ) method, like this:"
      ]
    },
    {
      "cell_type": "code",
      "metadata": {
        "id": "M5ib0-EyKKc6"
      },
      "source": [
        "decades = pd.Series(np.array([10,20,30,40,50,60]))"
      ],
      "execution_count": null,
      "outputs": []
    },
    {
      "cell_type": "code",
      "metadata": {
        "id": "3ySUr90TKKc7",
        "colab": {
          "base_uri": "https://localhost:8080/"
        },
        "outputId": "55cc4008-d185-42d8-90c7-1b49ff778576"
      },
      "source": [
        "decades"
      ],
      "execution_count": null,
      "outputs": [
        {
          "output_type": "execute_result",
          "data": {
            "text/plain": [
              "0    10\n",
              "1    20\n",
              "2    30\n",
              "3    40\n",
              "4    50\n",
              "5    60\n",
              "dtype: int64"
            ]
          },
          "metadata": {},
          "execution_count": 85
        }
      ]
    },
    {
      "cell_type": "markdown",
      "metadata": {
        "id": "iQVRDE8hKKc8"
      },
      "source": [
        "As shown above, the index is assigned values from 0-5."
      ]
    },
    {
      "cell_type": "markdown",
      "metadata": {
        "id": "87_wqVs5KKc8"
      },
      "source": [
        "## Exercise: Pandas Series🎿"
      ]
    },
    {
      "cell_type": "markdown",
      "metadata": {
        "id": "nOpmyZmPKKc9"
      },
      "source": [
        "Create a Series for the GDP of the following countries:\n",
        "- Czech Republic: 264.50\n",
        "- Iraq:\t250.07\n",
        "- Romania: 248.84\n",
        "- Portugal:\t242.83\n",
        "\n",
        "Tip: See what arguments are available in [pd.Series](https://pandas.pydata.org/pandas-docs/stable/reference/api/pandas.Series.html) and use the countries as the index."
      ]
    },
    {
      "cell_type": "code",
      "metadata": {
        "id": "UK3reiwuOMZi",
        "colab": {
          "base_uri": "https://localhost:8080/"
        },
        "outputId": "245e87a5-b35d-44f6-d18b-9ce21014588e"
      },
      "source": [
        "import pandas as pd\n",
        "import numpy as np\n",
        "\n",
        "\n",
        "GDP = pd.Series({'Czech Republic':264.50, 'Iraq': 250.07, 'Romania': 248.84, 'Portugal': 242.83})\n",
        "GDP['Iraq']"
      ],
      "execution_count": null,
      "outputs": [
        {
          "output_type": "execute_result",
          "data": {
            "text/plain": [
              "250.07"
            ]
          },
          "metadata": {},
          "execution_count": 93
        }
      ]
    },
    {
      "cell_type": "markdown",
      "metadata": {
        "id": "2jjaY7yYKKc9"
      },
      "source": [
        "## [Pandas DataFrame](https://pandas.pydata.org/pandas-docs/stable/reference/api/pandas.DataFrame.html) 🐨"
      ]
    },
    {
      "cell_type": "markdown",
      "metadata": {
        "id": "ASC15gj_KKc9"
      },
      "source": [
        "The DataFrame is similar to a table. It organizes data into rows and columns as an two-dimensional data structure. The columns can be of different types, and the size of a DataFrame is modifiable. <br>\n",
        "Let's create a DataFrame of 14 animals, populated with age, weight, and length. <br> First, let's create a Python dictionary."
      ]
    },
    {
      "cell_type": "code",
      "metadata": {
        "id": "vNcT0_XVKKc9"
      },
      "source": [
        "animal_dict = {\n",
        "     'Animal' : [\"Hamster\", \"Alligator\", \"Hamster\",\"Cat\", \"Snake\", \"Cat\",\"Hamster\", \"Cat\", \"Cat\", \"Snake\", \"Hamster\", \"Hamster\", \"Cat\", \"Alligator\"],\n",
        "     'Age' : [1,9,4,13,14,10,2,4,14,7,14,2,1,7],\n",
        "     'Weight': [7,13,8,12,11,8,10,14,9,11,10,10,9,14],\n",
        "     'Length' : [8,6,9,1,8,9,5,6,6,6,5,3,4,5]\n",
        "}"
      ],
      "execution_count": null,
      "outputs": []
    },
    {
      "cell_type": "markdown",
      "metadata": {
        "id": "ZDTmV7eEKKc-"
      },
      "source": [
        "Now, let's turn our Python dictionary into a DataFrame:"
      ]
    },
    {
      "cell_type": "code",
      "metadata": {
        "id": "UzIddfJFKKc-",
        "colab": {
          "base_uri": "https://localhost:8080/",
          "height": 488
        },
        "outputId": "85257c71-0d35-4593-a66e-961b1e4f9a93"
      },
      "source": [
        "animal = pd.DataFrame(animal_dict)\n",
        "animal"
      ],
      "execution_count": null,
      "outputs": [
        {
          "output_type": "execute_result",
          "data": {
            "text/plain": [
              "       Animal  Age  Weight  Length\n",
              "0     Hamster    1       7       8\n",
              "1   Alligator    9      13       6\n",
              "2     Hamster    4       8       9\n",
              "3         Cat   13      12       1\n",
              "4       Snake   14      11       8\n",
              "5         Cat   10       8       9\n",
              "6     Hamster    2      10       5\n",
              "7         Cat    4      14       6\n",
              "8         Cat   14       9       6\n",
              "9       Snake    7      11       6\n",
              "10    Hamster   14      10       5\n",
              "11    Hamster    2      10       3\n",
              "12        Cat    1       9       4\n",
              "13  Alligator    7      14       5"
            ],
            "text/html": [
              "\n",
              "\n",
              "  <div id=\"df-f22c130f-d345-4d48-b39f-19be2807868c\">\n",
              "    <div class=\"colab-df-container\">\n",
              "      <div>\n",
              "<style scoped>\n",
              "    .dataframe tbody tr th:only-of-type {\n",
              "        vertical-align: middle;\n",
              "    }\n",
              "\n",
              "    .dataframe tbody tr th {\n",
              "        vertical-align: top;\n",
              "    }\n",
              "\n",
              "    .dataframe thead th {\n",
              "        text-align: right;\n",
              "    }\n",
              "</style>\n",
              "<table border=\"1\" class=\"dataframe\">\n",
              "  <thead>\n",
              "    <tr style=\"text-align: right;\">\n",
              "      <th></th>\n",
              "      <th>Animal</th>\n",
              "      <th>Age</th>\n",
              "      <th>Weight</th>\n",
              "      <th>Length</th>\n",
              "    </tr>\n",
              "  </thead>\n",
              "  <tbody>\n",
              "    <tr>\n",
              "      <th>0</th>\n",
              "      <td>Hamster</td>\n",
              "      <td>1</td>\n",
              "      <td>7</td>\n",
              "      <td>8</td>\n",
              "    </tr>\n",
              "    <tr>\n",
              "      <th>1</th>\n",
              "      <td>Alligator</td>\n",
              "      <td>9</td>\n",
              "      <td>13</td>\n",
              "      <td>6</td>\n",
              "    </tr>\n",
              "    <tr>\n",
              "      <th>2</th>\n",
              "      <td>Hamster</td>\n",
              "      <td>4</td>\n",
              "      <td>8</td>\n",
              "      <td>9</td>\n",
              "    </tr>\n",
              "    <tr>\n",
              "      <th>3</th>\n",
              "      <td>Cat</td>\n",
              "      <td>13</td>\n",
              "      <td>12</td>\n",
              "      <td>1</td>\n",
              "    </tr>\n",
              "    <tr>\n",
              "      <th>4</th>\n",
              "      <td>Snake</td>\n",
              "      <td>14</td>\n",
              "      <td>11</td>\n",
              "      <td>8</td>\n",
              "    </tr>\n",
              "    <tr>\n",
              "      <th>5</th>\n",
              "      <td>Cat</td>\n",
              "      <td>10</td>\n",
              "      <td>8</td>\n",
              "      <td>9</td>\n",
              "    </tr>\n",
              "    <tr>\n",
              "      <th>6</th>\n",
              "      <td>Hamster</td>\n",
              "      <td>2</td>\n",
              "      <td>10</td>\n",
              "      <td>5</td>\n",
              "    </tr>\n",
              "    <tr>\n",
              "      <th>7</th>\n",
              "      <td>Cat</td>\n",
              "      <td>4</td>\n",
              "      <td>14</td>\n",
              "      <td>6</td>\n",
              "    </tr>\n",
              "    <tr>\n",
              "      <th>8</th>\n",
              "      <td>Cat</td>\n",
              "      <td>14</td>\n",
              "      <td>9</td>\n",
              "      <td>6</td>\n",
              "    </tr>\n",
              "    <tr>\n",
              "      <th>9</th>\n",
              "      <td>Snake</td>\n",
              "      <td>7</td>\n",
              "      <td>11</td>\n",
              "      <td>6</td>\n",
              "    </tr>\n",
              "    <tr>\n",
              "      <th>10</th>\n",
              "      <td>Hamster</td>\n",
              "      <td>14</td>\n",
              "      <td>10</td>\n",
              "      <td>5</td>\n",
              "    </tr>\n",
              "    <tr>\n",
              "      <th>11</th>\n",
              "      <td>Hamster</td>\n",
              "      <td>2</td>\n",
              "      <td>10</td>\n",
              "      <td>3</td>\n",
              "    </tr>\n",
              "    <tr>\n",
              "      <th>12</th>\n",
              "      <td>Cat</td>\n",
              "      <td>1</td>\n",
              "      <td>9</td>\n",
              "      <td>4</td>\n",
              "    </tr>\n",
              "    <tr>\n",
              "      <th>13</th>\n",
              "      <td>Alligator</td>\n",
              "      <td>7</td>\n",
              "      <td>14</td>\n",
              "      <td>5</td>\n",
              "    </tr>\n",
              "  </tbody>\n",
              "</table>\n",
              "</div>\n",
              "      <button class=\"colab-df-convert\" onclick=\"convertToInteractive('df-f22c130f-d345-4d48-b39f-19be2807868c')\"\n",
              "              title=\"Convert this dataframe to an interactive table.\"\n",
              "              style=\"display:none;\">\n",
              "\n",
              "  <svg xmlns=\"http://www.w3.org/2000/svg\" height=\"24px\"viewBox=\"0 0 24 24\"\n",
              "       width=\"24px\">\n",
              "    <path d=\"M0 0h24v24H0V0z\" fill=\"none\"/>\n",
              "    <path d=\"M18.56 5.44l.94 2.06.94-2.06 2.06-.94-2.06-.94-.94-2.06-.94 2.06-2.06.94zm-11 1L8.5 8.5l.94-2.06 2.06-.94-2.06-.94L8.5 2.5l-.94 2.06-2.06.94zm10 10l.94 2.06.94-2.06 2.06-.94-2.06-.94-.94-2.06-.94 2.06-2.06.94z\"/><path d=\"M17.41 7.96l-1.37-1.37c-.4-.4-.92-.59-1.43-.59-.52 0-1.04.2-1.43.59L10.3 9.45l-7.72 7.72c-.78.78-.78 2.05 0 2.83L4 21.41c.39.39.9.59 1.41.59.51 0 1.02-.2 1.41-.59l7.78-7.78 2.81-2.81c.8-.78.8-2.07 0-2.86zM5.41 20L4 18.59l7.72-7.72 1.47 1.35L5.41 20z\"/>\n",
              "  </svg>\n",
              "      </button>\n",
              "\n",
              "\n",
              "\n",
              "    <div id=\"df-5fc08bee-d21a-424d-9223-08a973c842c9\">\n",
              "      <button class=\"colab-df-quickchart\" onclick=\"quickchart('df-5fc08bee-d21a-424d-9223-08a973c842c9')\"\n",
              "              title=\"Suggest charts.\"\n",
              "              style=\"display:none;\">\n",
              "\n",
              "<svg xmlns=\"http://www.w3.org/2000/svg\" height=\"24px\"viewBox=\"0 0 24 24\"\n",
              "     width=\"24px\">\n",
              "    <g>\n",
              "        <path d=\"M19 3H5c-1.1 0-2 .9-2 2v14c0 1.1.9 2 2 2h14c1.1 0 2-.9 2-2V5c0-1.1-.9-2-2-2zM9 17H7v-7h2v7zm4 0h-2V7h2v10zm4 0h-2v-4h2v4z\"/>\n",
              "    </g>\n",
              "</svg>\n",
              "      </button>\n",
              "    </div>\n",
              "\n",
              "<style>\n",
              "  .colab-df-quickchart {\n",
              "    background-color: #E8F0FE;\n",
              "    border: none;\n",
              "    border-radius: 50%;\n",
              "    cursor: pointer;\n",
              "    display: none;\n",
              "    fill: #1967D2;\n",
              "    height: 32px;\n",
              "    padding: 0 0 0 0;\n",
              "    width: 32px;\n",
              "  }\n",
              "\n",
              "  .colab-df-quickchart:hover {\n",
              "    background-color: #E2EBFA;\n",
              "    box-shadow: 0px 1px 2px rgba(60, 64, 67, 0.3), 0px 1px 3px 1px rgba(60, 64, 67, 0.15);\n",
              "    fill: #174EA6;\n",
              "  }\n",
              "\n",
              "  [theme=dark] .colab-df-quickchart {\n",
              "    background-color: #3B4455;\n",
              "    fill: #D2E3FC;\n",
              "  }\n",
              "\n",
              "  [theme=dark] .colab-df-quickchart:hover {\n",
              "    background-color: #434B5C;\n",
              "    box-shadow: 0px 1px 3px 1px rgba(0, 0, 0, 0.15);\n",
              "    filter: drop-shadow(0px 1px 2px rgba(0, 0, 0, 0.3));\n",
              "    fill: #FFFFFF;\n",
              "  }\n",
              "</style>\n",
              "\n",
              "    <script>\n",
              "      async function quickchart(key) {\n",
              "        const containerElement = document.querySelector('#' + key);\n",
              "        const charts = await google.colab.kernel.invokeFunction(\n",
              "            'suggestCharts', [key], {});\n",
              "      }\n",
              "    </script>\n",
              "\n",
              "      <script>\n",
              "\n",
              "function displayQuickchartButton(domScope) {\n",
              "  let quickchartButtonEl =\n",
              "    domScope.querySelector('#df-5fc08bee-d21a-424d-9223-08a973c842c9 button.colab-df-quickchart');\n",
              "  quickchartButtonEl.style.display =\n",
              "    google.colab.kernel.accessAllowed ? 'block' : 'none';\n",
              "}\n",
              "\n",
              "        displayQuickchartButton(document);\n",
              "      </script>\n",
              "      <style>\n",
              "    .colab-df-container {\n",
              "      display:flex;\n",
              "      flex-wrap:wrap;\n",
              "      gap: 12px;\n",
              "    }\n",
              "\n",
              "    .colab-df-convert {\n",
              "      background-color: #E8F0FE;\n",
              "      border: none;\n",
              "      border-radius: 50%;\n",
              "      cursor: pointer;\n",
              "      display: none;\n",
              "      fill: #1967D2;\n",
              "      height: 32px;\n",
              "      padding: 0 0 0 0;\n",
              "      width: 32px;\n",
              "    }\n",
              "\n",
              "    .colab-df-convert:hover {\n",
              "      background-color: #E2EBFA;\n",
              "      box-shadow: 0px 1px 2px rgba(60, 64, 67, 0.3), 0px 1px 3px 1px rgba(60, 64, 67, 0.15);\n",
              "      fill: #174EA6;\n",
              "    }\n",
              "\n",
              "    [theme=dark] .colab-df-convert {\n",
              "      background-color: #3B4455;\n",
              "      fill: #D2E3FC;\n",
              "    }\n",
              "\n",
              "    [theme=dark] .colab-df-convert:hover {\n",
              "      background-color: #434B5C;\n",
              "      box-shadow: 0px 1px 3px 1px rgba(0, 0, 0, 0.15);\n",
              "      filter: drop-shadow(0px 1px 2px rgba(0, 0, 0, 0.3));\n",
              "      fill: #FFFFFF;\n",
              "    }\n",
              "  </style>\n",
              "\n",
              "      <script>\n",
              "        const buttonEl =\n",
              "          document.querySelector('#df-f22c130f-d345-4d48-b39f-19be2807868c button.colab-df-convert');\n",
              "        buttonEl.style.display =\n",
              "          google.colab.kernel.accessAllowed ? 'block' : 'none';\n",
              "\n",
              "        async function convertToInteractive(key) {\n",
              "          const element = document.querySelector('#df-f22c130f-d345-4d48-b39f-19be2807868c');\n",
              "          const dataTable =\n",
              "            await google.colab.kernel.invokeFunction('convertToInteractive',\n",
              "                                                     [key], {});\n",
              "          if (!dataTable) return;\n",
              "\n",
              "          const docLinkHtml = 'Like what you see? Visit the ' +\n",
              "            '<a target=\"_blank\" href=https://colab.research.google.com/notebooks/data_table.ipynb>data table notebook</a>'\n",
              "            + ' to learn more about interactive tables.';\n",
              "          element.innerHTML = '';\n",
              "          dataTable['output_type'] = 'display_data';\n",
              "          await google.colab.output.renderOutput(dataTable, element);\n",
              "          const docLink = document.createElement('div');\n",
              "          docLink.innerHTML = docLinkHtml;\n",
              "          element.appendChild(docLink);\n",
              "        }\n",
              "      </script>\n",
              "    </div>\n",
              "  </div>\n"
            ]
          },
          "metadata": {},
          "execution_count": 96
        }
      ]
    },
    {
      "cell_type": "markdown",
      "metadata": {
        "id": "HhGkmv6eu9PP"
      },
      "source": [
        "We turned a dictionary into a dataframe! Can you tell which parts of the dictionary became the headers and what became the values?"
      ]
    },
    {
      "cell_type": "markdown",
      "metadata": {
        "id": "1Pwq8wEQKKdA"
      },
      "source": [
        "### Pandas Methods 🐢"
      ]
    },
    {
      "cell_type": "markdown",
      "metadata": {
        "id": "4lADsQJFKKdB"
      },
      "source": [
        "Great! 👍 Pandas has many unique methods that we can use for data analysis and filtering. Let's first explore [**.unique( )**](https://pandas.pydata.org/pandas-docs/stable/reference/api/pandas.Series.unique.html). This method returns all the unique values in an given series or column:"
      ]
    },
    {
      "cell_type": "code",
      "metadata": {
        "id": "1cj0wYKYKKdB",
        "colab": {
          "base_uri": "https://localhost:8080/"
        },
        "outputId": "90c17486-0f02-457a-ce7b-b70eb99934e1"
      },
      "source": [
        "pd.unique(animal[\"Animal\"])"
      ],
      "execution_count": null,
      "outputs": [
        {
          "output_type": "execute_result",
          "data": {
            "text/plain": [
              "array(['Hamster', 'Alligator', 'Cat', 'Snake'], dtype=object)"
            ]
          },
          "metadata": {},
          "execution_count": 97
        }
      ]
    },
    {
      "cell_type": "markdown",
      "metadata": {
        "id": "pb8JvqIjKKdC"
      },
      "source": [
        "Let's now look at the [**describe()**](https://pandas.pydata.org/pandas-docs/stable/reference/api/pandas.DataFrame.describe.html)  method. This method returns the summary statistics of numerical columns. To return the numerical statistics, we write:"
      ]
    },
    {
      "cell_type": "code",
      "metadata": {
        "id": "252W6c8HKKdC",
        "colab": {
          "base_uri": "https://localhost:8080/",
          "height": 300
        },
        "outputId": "3339b29a-debe-45f9-d1f6-841c4c6ff4fa"
      },
      "source": [
        "animal.describe(include=[np.number])"
      ],
      "execution_count": null,
      "outputs": [
        {
          "output_type": "execute_result",
          "data": {
            "text/plain": [
              "             Age     Weight     Length\n",
              "count  14.000000  14.000000  14.000000\n",
              "mean    7.285714  10.428571   5.785714\n",
              "std     5.075258   2.208873   2.259291\n",
              "min     1.000000   7.000000   1.000000\n",
              "25%     2.500000   9.000000   5.000000\n",
              "50%     7.000000  10.000000   6.000000\n",
              "75%    12.250000  11.750000   7.500000\n",
              "max    14.000000  14.000000   9.000000"
            ],
            "text/html": [
              "\n",
              "\n",
              "  <div id=\"df-2e7b54b4-9919-4680-b938-e8c197187e09\">\n",
              "    <div class=\"colab-df-container\">\n",
              "      <div>\n",
              "<style scoped>\n",
              "    .dataframe tbody tr th:only-of-type {\n",
              "        vertical-align: middle;\n",
              "    }\n",
              "\n",
              "    .dataframe tbody tr th {\n",
              "        vertical-align: top;\n",
              "    }\n",
              "\n",
              "    .dataframe thead th {\n",
              "        text-align: right;\n",
              "    }\n",
              "</style>\n",
              "<table border=\"1\" class=\"dataframe\">\n",
              "  <thead>\n",
              "    <tr style=\"text-align: right;\">\n",
              "      <th></th>\n",
              "      <th>Age</th>\n",
              "      <th>Weight</th>\n",
              "      <th>Length</th>\n",
              "    </tr>\n",
              "  </thead>\n",
              "  <tbody>\n",
              "    <tr>\n",
              "      <th>count</th>\n",
              "      <td>14.000000</td>\n",
              "      <td>14.000000</td>\n",
              "      <td>14.000000</td>\n",
              "    </tr>\n",
              "    <tr>\n",
              "      <th>mean</th>\n",
              "      <td>7.285714</td>\n",
              "      <td>10.428571</td>\n",
              "      <td>5.785714</td>\n",
              "    </tr>\n",
              "    <tr>\n",
              "      <th>std</th>\n",
              "      <td>5.075258</td>\n",
              "      <td>2.208873</td>\n",
              "      <td>2.259291</td>\n",
              "    </tr>\n",
              "    <tr>\n",
              "      <th>min</th>\n",
              "      <td>1.000000</td>\n",
              "      <td>7.000000</td>\n",
              "      <td>1.000000</td>\n",
              "    </tr>\n",
              "    <tr>\n",
              "      <th>25%</th>\n",
              "      <td>2.500000</td>\n",
              "      <td>9.000000</td>\n",
              "      <td>5.000000</td>\n",
              "    </tr>\n",
              "    <tr>\n",
              "      <th>50%</th>\n",
              "      <td>7.000000</td>\n",
              "      <td>10.000000</td>\n",
              "      <td>6.000000</td>\n",
              "    </tr>\n",
              "    <tr>\n",
              "      <th>75%</th>\n",
              "      <td>12.250000</td>\n",
              "      <td>11.750000</td>\n",
              "      <td>7.500000</td>\n",
              "    </tr>\n",
              "    <tr>\n",
              "      <th>max</th>\n",
              "      <td>14.000000</td>\n",
              "      <td>14.000000</td>\n",
              "      <td>9.000000</td>\n",
              "    </tr>\n",
              "  </tbody>\n",
              "</table>\n",
              "</div>\n",
              "      <button class=\"colab-df-convert\" onclick=\"convertToInteractive('df-2e7b54b4-9919-4680-b938-e8c197187e09')\"\n",
              "              title=\"Convert this dataframe to an interactive table.\"\n",
              "              style=\"display:none;\">\n",
              "\n",
              "  <svg xmlns=\"http://www.w3.org/2000/svg\" height=\"24px\"viewBox=\"0 0 24 24\"\n",
              "       width=\"24px\">\n",
              "    <path d=\"M0 0h24v24H0V0z\" fill=\"none\"/>\n",
              "    <path d=\"M18.56 5.44l.94 2.06.94-2.06 2.06-.94-2.06-.94-.94-2.06-.94 2.06-2.06.94zm-11 1L8.5 8.5l.94-2.06 2.06-.94-2.06-.94L8.5 2.5l-.94 2.06-2.06.94zm10 10l.94 2.06.94-2.06 2.06-.94-2.06-.94-.94-2.06-.94 2.06-2.06.94z\"/><path d=\"M17.41 7.96l-1.37-1.37c-.4-.4-.92-.59-1.43-.59-.52 0-1.04.2-1.43.59L10.3 9.45l-7.72 7.72c-.78.78-.78 2.05 0 2.83L4 21.41c.39.39.9.59 1.41.59.51 0 1.02-.2 1.41-.59l7.78-7.78 2.81-2.81c.8-.78.8-2.07 0-2.86zM5.41 20L4 18.59l7.72-7.72 1.47 1.35L5.41 20z\"/>\n",
              "  </svg>\n",
              "      </button>\n",
              "\n",
              "\n",
              "\n",
              "    <div id=\"df-c1f39fa0-833b-4f80-abb3-b5aedf8990a2\">\n",
              "      <button class=\"colab-df-quickchart\" onclick=\"quickchart('df-c1f39fa0-833b-4f80-abb3-b5aedf8990a2')\"\n",
              "              title=\"Suggest charts.\"\n",
              "              style=\"display:none;\">\n",
              "\n",
              "<svg xmlns=\"http://www.w3.org/2000/svg\" height=\"24px\"viewBox=\"0 0 24 24\"\n",
              "     width=\"24px\">\n",
              "    <g>\n",
              "        <path d=\"M19 3H5c-1.1 0-2 .9-2 2v14c0 1.1.9 2 2 2h14c1.1 0 2-.9 2-2V5c0-1.1-.9-2-2-2zM9 17H7v-7h2v7zm4 0h-2V7h2v10zm4 0h-2v-4h2v4z\"/>\n",
              "    </g>\n",
              "</svg>\n",
              "      </button>\n",
              "    </div>\n",
              "\n",
              "<style>\n",
              "  .colab-df-quickchart {\n",
              "    background-color: #E8F0FE;\n",
              "    border: none;\n",
              "    border-radius: 50%;\n",
              "    cursor: pointer;\n",
              "    display: none;\n",
              "    fill: #1967D2;\n",
              "    height: 32px;\n",
              "    padding: 0 0 0 0;\n",
              "    width: 32px;\n",
              "  }\n",
              "\n",
              "  .colab-df-quickchart:hover {\n",
              "    background-color: #E2EBFA;\n",
              "    box-shadow: 0px 1px 2px rgba(60, 64, 67, 0.3), 0px 1px 3px 1px rgba(60, 64, 67, 0.15);\n",
              "    fill: #174EA6;\n",
              "  }\n",
              "\n",
              "  [theme=dark] .colab-df-quickchart {\n",
              "    background-color: #3B4455;\n",
              "    fill: #D2E3FC;\n",
              "  }\n",
              "\n",
              "  [theme=dark] .colab-df-quickchart:hover {\n",
              "    background-color: #434B5C;\n",
              "    box-shadow: 0px 1px 3px 1px rgba(0, 0, 0, 0.15);\n",
              "    filter: drop-shadow(0px 1px 2px rgba(0, 0, 0, 0.3));\n",
              "    fill: #FFFFFF;\n",
              "  }\n",
              "</style>\n",
              "\n",
              "    <script>\n",
              "      async function quickchart(key) {\n",
              "        const containerElement = document.querySelector('#' + key);\n",
              "        const charts = await google.colab.kernel.invokeFunction(\n",
              "            'suggestCharts', [key], {});\n",
              "      }\n",
              "    </script>\n",
              "\n",
              "      <script>\n",
              "\n",
              "function displayQuickchartButton(domScope) {\n",
              "  let quickchartButtonEl =\n",
              "    domScope.querySelector('#df-c1f39fa0-833b-4f80-abb3-b5aedf8990a2 button.colab-df-quickchart');\n",
              "  quickchartButtonEl.style.display =\n",
              "    google.colab.kernel.accessAllowed ? 'block' : 'none';\n",
              "}\n",
              "\n",
              "        displayQuickchartButton(document);\n",
              "      </script>\n",
              "      <style>\n",
              "    .colab-df-container {\n",
              "      display:flex;\n",
              "      flex-wrap:wrap;\n",
              "      gap: 12px;\n",
              "    }\n",
              "\n",
              "    .colab-df-convert {\n",
              "      background-color: #E8F0FE;\n",
              "      border: none;\n",
              "      border-radius: 50%;\n",
              "      cursor: pointer;\n",
              "      display: none;\n",
              "      fill: #1967D2;\n",
              "      height: 32px;\n",
              "      padding: 0 0 0 0;\n",
              "      width: 32px;\n",
              "    }\n",
              "\n",
              "    .colab-df-convert:hover {\n",
              "      background-color: #E2EBFA;\n",
              "      box-shadow: 0px 1px 2px rgba(60, 64, 67, 0.3), 0px 1px 3px 1px rgba(60, 64, 67, 0.15);\n",
              "      fill: #174EA6;\n",
              "    }\n",
              "\n",
              "    [theme=dark] .colab-df-convert {\n",
              "      background-color: #3B4455;\n",
              "      fill: #D2E3FC;\n",
              "    }\n",
              "\n",
              "    [theme=dark] .colab-df-convert:hover {\n",
              "      background-color: #434B5C;\n",
              "      box-shadow: 0px 1px 3px 1px rgba(0, 0, 0, 0.15);\n",
              "      filter: drop-shadow(0px 1px 2px rgba(0, 0, 0, 0.3));\n",
              "      fill: #FFFFFF;\n",
              "    }\n",
              "  </style>\n",
              "\n",
              "      <script>\n",
              "        const buttonEl =\n",
              "          document.querySelector('#df-2e7b54b4-9919-4680-b938-e8c197187e09 button.colab-df-convert');\n",
              "        buttonEl.style.display =\n",
              "          google.colab.kernel.accessAllowed ? 'block' : 'none';\n",
              "\n",
              "        async function convertToInteractive(key) {\n",
              "          const element = document.querySelector('#df-2e7b54b4-9919-4680-b938-e8c197187e09');\n",
              "          const dataTable =\n",
              "            await google.colab.kernel.invokeFunction('convertToInteractive',\n",
              "                                                     [key], {});\n",
              "          if (!dataTable) return;\n",
              "\n",
              "          const docLinkHtml = 'Like what you see? Visit the ' +\n",
              "            '<a target=\"_blank\" href=https://colab.research.google.com/notebooks/data_table.ipynb>data table notebook</a>'\n",
              "            + ' to learn more about interactive tables.';\n",
              "          element.innerHTML = '';\n",
              "          dataTable['output_type'] = 'display_data';\n",
              "          await google.colab.output.renderOutput(dataTable, element);\n",
              "          const docLink = document.createElement('div');\n",
              "          docLink.innerHTML = docLinkHtml;\n",
              "          element.appendChild(docLink);\n",
              "        }\n",
              "      </script>\n",
              "    </div>\n",
              "  </div>\n"
            ]
          },
          "metadata": {},
          "execution_count": 98
        }
      ]
    },
    {
      "cell_type": "markdown",
      "metadata": {
        "id": "BsKjmT16KKdD"
      },
      "source": [
        "Super simple! 🥳  **np.number** simply returns the numerical columns and excludes other data types. Now, let's attempt to filter columns in Pandas. <br>\n",
        "To filter in Pandas, we simply use brackets. Let's try one example:"
      ]
    },
    {
      "cell_type": "code",
      "metadata": {
        "id": "BPvwh15bKKdD",
        "colab": {
          "base_uri": "https://localhost:8080/",
          "height": 238
        },
        "outputId": "85620cf4-adb4-4f18-93c8-74fc6168f2a0"
      },
      "source": [
        "animal[animal[\"Weight\"] > 10]"
      ],
      "execution_count": null,
      "outputs": [
        {
          "output_type": "execute_result",
          "data": {
            "text/plain": [
              "       Animal  Age  Weight  Length\n",
              "1   Alligator    9      13       6\n",
              "3         Cat   13      12       1\n",
              "4       Snake   14      11       8\n",
              "7         Cat    4      14       6\n",
              "9       Snake    7      11       6\n",
              "13  Alligator    7      14       5"
            ],
            "text/html": [
              "\n",
              "\n",
              "  <div id=\"df-9a52e625-4c93-4086-b990-38d67ddbfccc\">\n",
              "    <div class=\"colab-df-container\">\n",
              "      <div>\n",
              "<style scoped>\n",
              "    .dataframe tbody tr th:only-of-type {\n",
              "        vertical-align: middle;\n",
              "    }\n",
              "\n",
              "    .dataframe tbody tr th {\n",
              "        vertical-align: top;\n",
              "    }\n",
              "\n",
              "    .dataframe thead th {\n",
              "        text-align: right;\n",
              "    }\n",
              "</style>\n",
              "<table border=\"1\" class=\"dataframe\">\n",
              "  <thead>\n",
              "    <tr style=\"text-align: right;\">\n",
              "      <th></th>\n",
              "      <th>Animal</th>\n",
              "      <th>Age</th>\n",
              "      <th>Weight</th>\n",
              "      <th>Length</th>\n",
              "    </tr>\n",
              "  </thead>\n",
              "  <tbody>\n",
              "    <tr>\n",
              "      <th>1</th>\n",
              "      <td>Alligator</td>\n",
              "      <td>9</td>\n",
              "      <td>13</td>\n",
              "      <td>6</td>\n",
              "    </tr>\n",
              "    <tr>\n",
              "      <th>3</th>\n",
              "      <td>Cat</td>\n",
              "      <td>13</td>\n",
              "      <td>12</td>\n",
              "      <td>1</td>\n",
              "    </tr>\n",
              "    <tr>\n",
              "      <th>4</th>\n",
              "      <td>Snake</td>\n",
              "      <td>14</td>\n",
              "      <td>11</td>\n",
              "      <td>8</td>\n",
              "    </tr>\n",
              "    <tr>\n",
              "      <th>7</th>\n",
              "      <td>Cat</td>\n",
              "      <td>4</td>\n",
              "      <td>14</td>\n",
              "      <td>6</td>\n",
              "    </tr>\n",
              "    <tr>\n",
              "      <th>9</th>\n",
              "      <td>Snake</td>\n",
              "      <td>7</td>\n",
              "      <td>11</td>\n",
              "      <td>6</td>\n",
              "    </tr>\n",
              "    <tr>\n",
              "      <th>13</th>\n",
              "      <td>Alligator</td>\n",
              "      <td>7</td>\n",
              "      <td>14</td>\n",
              "      <td>5</td>\n",
              "    </tr>\n",
              "  </tbody>\n",
              "</table>\n",
              "</div>\n",
              "      <button class=\"colab-df-convert\" onclick=\"convertToInteractive('df-9a52e625-4c93-4086-b990-38d67ddbfccc')\"\n",
              "              title=\"Convert this dataframe to an interactive table.\"\n",
              "              style=\"display:none;\">\n",
              "\n",
              "  <svg xmlns=\"http://www.w3.org/2000/svg\" height=\"24px\"viewBox=\"0 0 24 24\"\n",
              "       width=\"24px\">\n",
              "    <path d=\"M0 0h24v24H0V0z\" fill=\"none\"/>\n",
              "    <path d=\"M18.56 5.44l.94 2.06.94-2.06 2.06-.94-2.06-.94-.94-2.06-.94 2.06-2.06.94zm-11 1L8.5 8.5l.94-2.06 2.06-.94-2.06-.94L8.5 2.5l-.94 2.06-2.06.94zm10 10l.94 2.06.94-2.06 2.06-.94-2.06-.94-.94-2.06-.94 2.06-2.06.94z\"/><path d=\"M17.41 7.96l-1.37-1.37c-.4-.4-.92-.59-1.43-.59-.52 0-1.04.2-1.43.59L10.3 9.45l-7.72 7.72c-.78.78-.78 2.05 0 2.83L4 21.41c.39.39.9.59 1.41.59.51 0 1.02-.2 1.41-.59l7.78-7.78 2.81-2.81c.8-.78.8-2.07 0-2.86zM5.41 20L4 18.59l7.72-7.72 1.47 1.35L5.41 20z\"/>\n",
              "  </svg>\n",
              "      </button>\n",
              "\n",
              "\n",
              "\n",
              "    <div id=\"df-5109c463-a6cd-4d75-8393-2b9e7c0d623a\">\n",
              "      <button class=\"colab-df-quickchart\" onclick=\"quickchart('df-5109c463-a6cd-4d75-8393-2b9e7c0d623a')\"\n",
              "              title=\"Suggest charts.\"\n",
              "              style=\"display:none;\">\n",
              "\n",
              "<svg xmlns=\"http://www.w3.org/2000/svg\" height=\"24px\"viewBox=\"0 0 24 24\"\n",
              "     width=\"24px\">\n",
              "    <g>\n",
              "        <path d=\"M19 3H5c-1.1 0-2 .9-2 2v14c0 1.1.9 2 2 2h14c1.1 0 2-.9 2-2V5c0-1.1-.9-2-2-2zM9 17H7v-7h2v7zm4 0h-2V7h2v10zm4 0h-2v-4h2v4z\"/>\n",
              "    </g>\n",
              "</svg>\n",
              "      </button>\n",
              "    </div>\n",
              "\n",
              "<style>\n",
              "  .colab-df-quickchart {\n",
              "    background-color: #E8F0FE;\n",
              "    border: none;\n",
              "    border-radius: 50%;\n",
              "    cursor: pointer;\n",
              "    display: none;\n",
              "    fill: #1967D2;\n",
              "    height: 32px;\n",
              "    padding: 0 0 0 0;\n",
              "    width: 32px;\n",
              "  }\n",
              "\n",
              "  .colab-df-quickchart:hover {\n",
              "    background-color: #E2EBFA;\n",
              "    box-shadow: 0px 1px 2px rgba(60, 64, 67, 0.3), 0px 1px 3px 1px rgba(60, 64, 67, 0.15);\n",
              "    fill: #174EA6;\n",
              "  }\n",
              "\n",
              "  [theme=dark] .colab-df-quickchart {\n",
              "    background-color: #3B4455;\n",
              "    fill: #D2E3FC;\n",
              "  }\n",
              "\n",
              "  [theme=dark] .colab-df-quickchart:hover {\n",
              "    background-color: #434B5C;\n",
              "    box-shadow: 0px 1px 3px 1px rgba(0, 0, 0, 0.15);\n",
              "    filter: drop-shadow(0px 1px 2px rgba(0, 0, 0, 0.3));\n",
              "    fill: #FFFFFF;\n",
              "  }\n",
              "</style>\n",
              "\n",
              "    <script>\n",
              "      async function quickchart(key) {\n",
              "        const containerElement = document.querySelector('#' + key);\n",
              "        const charts = await google.colab.kernel.invokeFunction(\n",
              "            'suggestCharts', [key], {});\n",
              "      }\n",
              "    </script>\n",
              "\n",
              "      <script>\n",
              "\n",
              "function displayQuickchartButton(domScope) {\n",
              "  let quickchartButtonEl =\n",
              "    domScope.querySelector('#df-5109c463-a6cd-4d75-8393-2b9e7c0d623a button.colab-df-quickchart');\n",
              "  quickchartButtonEl.style.display =\n",
              "    google.colab.kernel.accessAllowed ? 'block' : 'none';\n",
              "}\n",
              "\n",
              "        displayQuickchartButton(document);\n",
              "      </script>\n",
              "      <style>\n",
              "    .colab-df-container {\n",
              "      display:flex;\n",
              "      flex-wrap:wrap;\n",
              "      gap: 12px;\n",
              "    }\n",
              "\n",
              "    .colab-df-convert {\n",
              "      background-color: #E8F0FE;\n",
              "      border: none;\n",
              "      border-radius: 50%;\n",
              "      cursor: pointer;\n",
              "      display: none;\n",
              "      fill: #1967D2;\n",
              "      height: 32px;\n",
              "      padding: 0 0 0 0;\n",
              "      width: 32px;\n",
              "    }\n",
              "\n",
              "    .colab-df-convert:hover {\n",
              "      background-color: #E2EBFA;\n",
              "      box-shadow: 0px 1px 2px rgba(60, 64, 67, 0.3), 0px 1px 3px 1px rgba(60, 64, 67, 0.15);\n",
              "      fill: #174EA6;\n",
              "    }\n",
              "\n",
              "    [theme=dark] .colab-df-convert {\n",
              "      background-color: #3B4455;\n",
              "      fill: #D2E3FC;\n",
              "    }\n",
              "\n",
              "    [theme=dark] .colab-df-convert:hover {\n",
              "      background-color: #434B5C;\n",
              "      box-shadow: 0px 1px 3px 1px rgba(0, 0, 0, 0.15);\n",
              "      filter: drop-shadow(0px 1px 2px rgba(0, 0, 0, 0.3));\n",
              "      fill: #FFFFFF;\n",
              "    }\n",
              "  </style>\n",
              "\n",
              "      <script>\n",
              "        const buttonEl =\n",
              "          document.querySelector('#df-9a52e625-4c93-4086-b990-38d67ddbfccc button.colab-df-convert');\n",
              "        buttonEl.style.display =\n",
              "          google.colab.kernel.accessAllowed ? 'block' : 'none';\n",
              "\n",
              "        async function convertToInteractive(key) {\n",
              "          const element = document.querySelector('#df-9a52e625-4c93-4086-b990-38d67ddbfccc');\n",
              "          const dataTable =\n",
              "            await google.colab.kernel.invokeFunction('convertToInteractive',\n",
              "                                                     [key], {});\n",
              "          if (!dataTable) return;\n",
              "\n",
              "          const docLinkHtml = 'Like what you see? Visit the ' +\n",
              "            '<a target=\"_blank\" href=https://colab.research.google.com/notebooks/data_table.ipynb>data table notebook</a>'\n",
              "            + ' to learn more about interactive tables.';\n",
              "          element.innerHTML = '';\n",
              "          dataTable['output_type'] = 'display_data';\n",
              "          await google.colab.output.renderOutput(dataTable, element);\n",
              "          const docLink = document.createElement('div');\n",
              "          docLink.innerHTML = docLinkHtml;\n",
              "          element.appendChild(docLink);\n",
              "        }\n",
              "      </script>\n",
              "    </div>\n",
              "  </div>\n"
            ]
          },
          "metadata": {},
          "execution_count": 99
        }
      ]
    },
    {
      "cell_type": "markdown",
      "metadata": {
        "id": "Pey_gUxLKKdF"
      },
      "source": [
        "🐍 Python is wonderful because it's so intuitive. We pointed to **animal**, and then to the **\"Weight\"** column. At this point, we filtered for numbers greater than 10\n",
        "."
      ]
    },
    {
      "cell_type": "markdown",
      "metadata": {
        "id": "CgYln5WbKKdF"
      },
      "source": [
        "What if we want to find rows between a certain subset? We can use the '&' operator:"
      ]
    },
    {
      "cell_type": "code",
      "metadata": {
        "id": "dVlSA9sZKKdF",
        "colab": {
          "base_uri": "https://localhost:8080/",
          "height": 1000
        },
        "outputId": "0f886585-b251-4eda-a0ac-81a980d064ab"
      },
      "source": [
        "animal[(animal[\"Length\"] > 4) & (animal[\"Length\"] < 8)]"
      ],
      "execution_count": null,
      "outputs": [
        {
          "output_type": "execute_result",
          "data": {
            "text/plain": [
              "       Animal  Age  Weight  Length\n",
              "1   Alligator    9      13       6\n",
              "6     Hamster    2      10       5\n",
              "7         Cat    4      14       6\n",
              "8         Cat   14       9       6\n",
              "9       Snake    7      11       6\n",
              "10    Hamster   14      10       5\n",
              "13  Alligator    7      14       5"
            ],
            "text/html": [
              "\n",
              "\n",
              "  <div id=\"df-d033a95b-ebdc-4bd3-8d68-d33b5899b516\">\n",
              "    <div class=\"colab-df-container\">\n",
              "      <div>\n",
              "<style scoped>\n",
              "    .dataframe tbody tr th:only-of-type {\n",
              "        vertical-align: middle;\n",
              "    }\n",
              "\n",
              "    .dataframe tbody tr th {\n",
              "        vertical-align: top;\n",
              "    }\n",
              "\n",
              "    .dataframe thead th {\n",
              "        text-align: right;\n",
              "    }\n",
              "</style>\n",
              "<table border=\"1\" class=\"dataframe\">\n",
              "  <thead>\n",
              "    <tr style=\"text-align: right;\">\n",
              "      <th></th>\n",
              "      <th>Animal</th>\n",
              "      <th>Age</th>\n",
              "      <th>Weight</th>\n",
              "      <th>Length</th>\n",
              "    </tr>\n",
              "  </thead>\n",
              "  <tbody>\n",
              "    <tr>\n",
              "      <th>1</th>\n",
              "      <td>Alligator</td>\n",
              "      <td>9</td>\n",
              "      <td>13</td>\n",
              "      <td>6</td>\n",
              "    </tr>\n",
              "    <tr>\n",
              "      <th>6</th>\n",
              "      <td>Hamster</td>\n",
              "      <td>2</td>\n",
              "      <td>10</td>\n",
              "      <td>5</td>\n",
              "    </tr>\n",
              "    <tr>\n",
              "      <th>7</th>\n",
              "      <td>Cat</td>\n",
              "      <td>4</td>\n",
              "      <td>14</td>\n",
              "      <td>6</td>\n",
              "    </tr>\n",
              "    <tr>\n",
              "      <th>8</th>\n",
              "      <td>Cat</td>\n",
              "      <td>14</td>\n",
              "      <td>9</td>\n",
              "      <td>6</td>\n",
              "    </tr>\n",
              "    <tr>\n",
              "      <th>9</th>\n",
              "      <td>Snake</td>\n",
              "      <td>7</td>\n",
              "      <td>11</td>\n",
              "      <td>6</td>\n",
              "    </tr>\n",
              "    <tr>\n",
              "      <th>10</th>\n",
              "      <td>Hamster</td>\n",
              "      <td>14</td>\n",
              "      <td>10</td>\n",
              "      <td>5</td>\n",
              "    </tr>\n",
              "    <tr>\n",
              "      <th>13</th>\n",
              "      <td>Alligator</td>\n",
              "      <td>7</td>\n",
              "      <td>14</td>\n",
              "      <td>5</td>\n",
              "    </tr>\n",
              "  </tbody>\n",
              "</table>\n",
              "</div>\n",
              "      <button class=\"colab-df-convert\" onclick=\"convertToInteractive('df-d033a95b-ebdc-4bd3-8d68-d33b5899b516')\"\n",
              "              title=\"Convert this dataframe to an interactive table.\"\n",
              "              style=\"display:none;\">\n",
              "\n",
              "  <svg xmlns=\"http://www.w3.org/2000/svg\" height=\"24px\"viewBox=\"0 0 24 24\"\n",
              "       width=\"24px\">\n",
              "    <path d=\"M0 0h24v24H0V0z\" fill=\"none\"/>\n",
              "    <path d=\"M18.56 5.44l.94 2.06.94-2.06 2.06-.94-2.06-.94-.94-2.06-.94 2.06-2.06.94zm-11 1L8.5 8.5l.94-2.06 2.06-.94-2.06-.94L8.5 2.5l-.94 2.06-2.06.94zm10 10l.94 2.06.94-2.06 2.06-.94-2.06-.94-.94-2.06-.94 2.06-2.06.94z\"/><path d=\"M17.41 7.96l-1.37-1.37c-.4-.4-.92-.59-1.43-.59-.52 0-1.04.2-1.43.59L10.3 9.45l-7.72 7.72c-.78.78-.78 2.05 0 2.83L4 21.41c.39.39.9.59 1.41.59.51 0 1.02-.2 1.41-.59l7.78-7.78 2.81-2.81c.8-.78.8-2.07 0-2.86zM5.41 20L4 18.59l7.72-7.72 1.47 1.35L5.41 20z\"/>\n",
              "  </svg>\n",
              "      </button>\n",
              "\n",
              "\n",
              "\n",
              "    <div id=\"df-6b2ff0c3-8866-454c-adc5-075c94bb40b2\">\n",
              "      <button class=\"colab-df-quickchart\" onclick=\"quickchart('df-6b2ff0c3-8866-454c-adc5-075c94bb40b2')\"\n",
              "              title=\"Suggest charts.\"\n",
              "              style=\"display:none;\">\n",
              "\n",
              "<svg xmlns=\"http://www.w3.org/2000/svg\" height=\"24px\"viewBox=\"0 0 24 24\"\n",
              "     width=\"24px\">\n",
              "    <g>\n",
              "        <path d=\"M19 3H5c-1.1 0-2 .9-2 2v14c0 1.1.9 2 2 2h14c1.1 0 2-.9 2-2V5c0-1.1-.9-2-2-2zM9 17H7v-7h2v7zm4 0h-2V7h2v10zm4 0h-2v-4h2v4z\"/>\n",
              "    </g>\n",
              "</svg>\n",
              "      </button>\n",
              "    </div>\n",
              "\n",
              "<style>\n",
              "  .colab-df-quickchart {\n",
              "    background-color: #E8F0FE;\n",
              "    border: none;\n",
              "    border-radius: 50%;\n",
              "    cursor: pointer;\n",
              "    display: none;\n",
              "    fill: #1967D2;\n",
              "    height: 32px;\n",
              "    padding: 0 0 0 0;\n",
              "    width: 32px;\n",
              "  }\n",
              "\n",
              "  .colab-df-quickchart:hover {\n",
              "    background-color: #E2EBFA;\n",
              "    box-shadow: 0px 1px 2px rgba(60, 64, 67, 0.3), 0px 1px 3px 1px rgba(60, 64, 67, 0.15);\n",
              "    fill: #174EA6;\n",
              "  }\n",
              "\n",
              "  [theme=dark] .colab-df-quickchart {\n",
              "    background-color: #3B4455;\n",
              "    fill: #D2E3FC;\n",
              "  }\n",
              "\n",
              "  [theme=dark] .colab-df-quickchart:hover {\n",
              "    background-color: #434B5C;\n",
              "    box-shadow: 0px 1px 3px 1px rgba(0, 0, 0, 0.15);\n",
              "    filter: drop-shadow(0px 1px 2px rgba(0, 0, 0, 0.3));\n",
              "    fill: #FFFFFF;\n",
              "  }\n",
              "</style>\n",
              "\n",
              "    <script>\n",
              "      async function quickchart(key) {\n",
              "        const containerElement = document.querySelector('#' + key);\n",
              "        const charts = await google.colab.kernel.invokeFunction(\n",
              "            'suggestCharts', [key], {});\n",
              "      }\n",
              "    </script>\n",
              "\n",
              "      <script>\n",
              "\n",
              "function displayQuickchartButton(domScope) {\n",
              "  let quickchartButtonEl =\n",
              "    domScope.querySelector('#df-6b2ff0c3-8866-454c-adc5-075c94bb40b2 button.colab-df-quickchart');\n",
              "  quickchartButtonEl.style.display =\n",
              "    google.colab.kernel.accessAllowed ? 'block' : 'none';\n",
              "}\n",
              "\n",
              "        displayQuickchartButton(document);\n",
              "      </script>\n",
              "      <style>\n",
              "    .colab-df-container {\n",
              "      display:flex;\n",
              "      flex-wrap:wrap;\n",
              "      gap: 12px;\n",
              "    }\n",
              "\n",
              "    .colab-df-convert {\n",
              "      background-color: #E8F0FE;\n",
              "      border: none;\n",
              "      border-radius: 50%;\n",
              "      cursor: pointer;\n",
              "      display: none;\n",
              "      fill: #1967D2;\n",
              "      height: 32px;\n",
              "      padding: 0 0 0 0;\n",
              "      width: 32px;\n",
              "    }\n",
              "\n",
              "    .colab-df-convert:hover {\n",
              "      background-color: #E2EBFA;\n",
              "      box-shadow: 0px 1px 2px rgba(60, 64, 67, 0.3), 0px 1px 3px 1px rgba(60, 64, 67, 0.15);\n",
              "      fill: #174EA6;\n",
              "    }\n",
              "\n",
              "    [theme=dark] .colab-df-convert {\n",
              "      background-color: #3B4455;\n",
              "      fill: #D2E3FC;\n",
              "    }\n",
              "\n",
              "    [theme=dark] .colab-df-convert:hover {\n",
              "      background-color: #434B5C;\n",
              "      box-shadow: 0px 1px 3px 1px rgba(0, 0, 0, 0.15);\n",
              "      filter: drop-shadow(0px 1px 2px rgba(0, 0, 0, 0.3));\n",
              "      fill: #FFFFFF;\n",
              "    }\n",
              "  </style>\n",
              "\n",
              "      <script>\n",
              "        const buttonEl =\n",
              "          document.querySelector('#df-d033a95b-ebdc-4bd3-8d68-d33b5899b516 button.colab-df-convert');\n",
              "        buttonEl.style.display =\n",
              "          google.colab.kernel.accessAllowed ? 'block' : 'none';\n",
              "\n",
              "        async function convertToInteractive(key) {\n",
              "          const element = document.querySelector('#df-d033a95b-ebdc-4bd3-8d68-d33b5899b516');\n",
              "          const dataTable =\n",
              "            await google.colab.kernel.invokeFunction('convertToInteractive',\n",
              "                                                     [key], {});\n",
              "          if (!dataTable) return;\n",
              "\n",
              "          const docLinkHtml = 'Like what you see? Visit the ' +\n",
              "            '<a target=\"_blank\" href=https://colab.research.google.com/notebooks/data_table.ipynb>data table notebook</a>'\n",
              "            + ' to learn more about interactive tables.';\n",
              "          element.innerHTML = '';\n",
              "          dataTable['output_type'] = 'display_data';\n",
              "          await google.colab.output.renderOutput(dataTable, element);\n",
              "          const docLink = document.createElement('div');\n",
              "          docLink.innerHTML = docLinkHtml;\n",
              "          element.appendChild(docLink);\n",
              "        }\n",
              "      </script>\n",
              "    </div>\n",
              "  </div>\n"
            ]
          },
          "metadata": {},
          "execution_count": 100
        },
        {
          "output_type": "display_data",
          "data": {
            "text/plain": [
              "<google.colab._quickchart_helpers.SectionTitle at 0x7dde640ed300>"
            ],
            "text/html": [
              "<h4 class=\"colab-quickchart-section-title\">Values</h4>\n",
              "<style>\n",
              "  .colab-quickchart-section-title {\n",
              "      clear: both;\n",
              "  }\n",
              "</style>"
            ]
          },
          "metadata": {}
        },
        {
          "output_type": "display_data",
          "data": {
            "text/plain": [
              "import numpy as np\n",
              "from google.colab import autoviz\n",
              "df_8785923528690381692 = autoviz.get_registered_df('df_8785923528690381692')\n",
              "\n",
              "def value_plot(df, y, sort_ascending=False, figsize=(2, 1)):\n",
              "  from matplotlib import pyplot as plt\n",
              "  if sort_ascending:\n",
              "    df = df.sort_values(y).reset_index(drop=True)\n",
              "  _, ax = plt.subplots(figsize=figsize)\n",
              "  df[y].plot(kind='line')\n",
              "  plt.title(y)\n",
              "  ax.spines[['top', 'right',]].set_visible(False)\n",
              "  plt.tight_layout()\n",
              "  return autoviz.MplChart.from_current_mpl_state()\n",
              "\n",
              "chart = value_plot(df_8785923528690381692, *['Age'], **{})\n",
              "chart"
            ],
            "text/html": [
              "      <div class=\"colab-quickchart-chart-with-code\" id=\"chart-34be4c15-2c86-4b8f-86df-24b38be63d19\">\n",
              "        <img src=\"data:image/png;base64,iVBORw0KGgoAAAANSUhEUgAAAMQAAABgCAYAAABCK92TAAAAOXRFWHRTb2Z0d2FyZQBNYXRwbG90\n",
              "bGliIHZlcnNpb24zLjcuMSwgaHR0cHM6Ly9tYXRwbG90bGliLm9yZy/bCgiHAAAACXBIWXMAAA9h\n",
              "AAAPYQGoP6dpAAARTUlEQVR4nO3deVhTd77H8XcCJKCyKPsiUIVYUSRWQa1bcV9abGtnamurdtpb\n",
              "+7iPrdM6baf7rc+93ejToXWe6aVjtQ61vbdS8fYqtC44WFcWRSFUhWDYhYAgS5Jz/0BjKGpBAgn4\n",
              "ez3P+SPJyS+/E/LhnN/vfJMjkyRJQhAEAOS27oAg2BMRCEGwIAIhCBZEIATBggiEIFgQgRAECyIQ\n",
              "gmBBBEIQLIhACIIFEQhBsCACYWcSExORyWS89NJLtu7KHUkmapnsS3R0NOfPn0cul6PValEqlbbu\n",
              "0h1F7CHsyNGjRzl27Bhbt25Fr9ezY8cO82N1dXUsW7YMT09PgoKCiI+PJygoiC+++MK8ztmzZ7n/\n",
              "/vvx9fUlMDCQFStWUF9fb4Mt6b1EIOxIQkICarWaOXPm8NBDD5GQkGB+bO3ateTm5pKTk0N+fj45\n",
              "OTmUlZWZH6+srGTy5MlMnz6doqIisrKyyM/PZ926dTbYkl5MEuzCpUuXJBcXFykhIUGSJElKS0uT\n",
              "ACkzM1MyGAySQqGQUlJSzOvr9XpJLpdLiYmJkiRJ0vvvvy+NHz++TZvp6emSQqGQDAZDj21Hbyf2\n",
              "EHbi2mB68eLFAMTGxhIWFkZCQgKVlZU0NzcTEhJiXt/NzY2BAweab2s0Go4fP46Hh4d5mTdvHjKZ\n",
              "jNLS0h7fnt5KBMIOSJLEZ599RnNzMyqVCj8/P/z9/SkuLmbbtm04OzujUCgoLCw0P6e2tpbq6mrz\n",
              "bT8/PyZNmkRNTY150ev1NDY2EhgYaIvN6pVEIOzA3r170Wg07Nmzh8zMTPOSnZ0NwJYtW3j88cd5\n",
              "8803KSkpoaGhgQ0bNiCXX//zPfXUU5w8eZKEhAQaGhqQJAmtVst3331no63qnUQg7MCnn37KjBkz\n",
              "iI2Nxc/Pz7yEh4fzzDPP8OmnnxIfH49KpWLEiBGEh4cTERHBoEGDcHZ2BiA4OJiMjAz27t3L0KFD\n",
              "8fDwYPbs2eTk5Nh463oXcR6il6qursbT05NDhw4xYcIEW3enzxB7iF6iqKiI/fv3YzQaqaqqYsWK\n",
              "FYSHhxMdHW3rrvUpIhC9RHNzM6tXr8bDw4Pw8HBqampITk7G0dHR1l3rU8QhkyBYEHsIQbAgAiEI\n",
              "FkQgBMGCCIQgWLCbQMTHx9u6C4JgP4GwrNMRrOfro1omvJvGkfOXrN72rmwd4/49lbd35VLb2GL1\n",
              "9m3BbgIhWJ/BaOL9vXmU6Bv58//k0GI0Wa1tfUMLr353irLaJv6efp5p7+0j6WgRJlPvnsUXgejD\n",
              "fjxbTlltEwAF5ZfZdth6e+GP0vKpbmgh1LMfQ7z7U3m5mRe/zWHBXw9x7IL190Y9RQSiD9t+pAiA\n",
              "u7z6A/BhqoaahuYut1tQfpkvM1rD9daDI/m/dVN4Zf5wXJWO5FzU88hnGaz950lK9Fe6/Fo9TQSi\n",
              "jyqubmBffgUAf186lmG+ruivtPBRqqbLbb+TkovBJDFjuA+Tw71xcpDzzOQh/LThPhZFD0Ymg52Z\n",
              "Oqa9t59PftTQ2GLs8mv2FBGIPirpqBZJgolhngz1HsBfHogA4MvDhWjK6m673X155fyUV4GTg4yX\n",
              "50e0ecxrgJJNC0eRvHISY0IGcqXFyHt78pn54X5+OFVKb6gSEoHog1qMJpKOagF4LCYYgIlhXsyM\n",
              "8MVokngr5cxtfThbjCbe2pULwNIJoeZDsV+LDHLnm+cmEL9IjZ+bM9pLV3hu63Ge+Pxn8kpvP4w9\n",
              "QQSiD/rxbDnldU14DVAwK8LPfP/L84bj5CDjQH4F+/IqOt3utsOF/FJRz6D+ClZPD7/lujKZjAXq\n",
              "QH58YSqrp4WhcJRzqKCKeR8f5LWdp6wylukOIhB90Fc/tw6mHxkzGIXj9T9xqFd//jDxLgDeSsnt\n",
              "1DRsdX0zH14dfzw/S4W7i1OHntdP4cjzs4aRtn4qc0b4YTRJ/COjkNj39vHl4UKMdjZN26lArFmz\n",
              "htDQUGQyGZmZmeb7NRoN9957LyqViujoaE6fPm3tfgodpL3UwAFN63//x2IGt3t85bQwPPsrOFdR\n",
              "z5aMjk/DfpSaj/5KC3f7ubIoOrjT/Ro8qB+fPTmGbc+MY5ivK9VXz2PM//ggh89Vdbq97tKpQDzy\n",
              "yCOkp6e3+TkUgOXLl/Pss8+Sn5/Piy++yLJly6zZR6ET/nm0CEmCSWFehHi2P8Z3c3bihdnDAIhP\n",
              "zedS/W8fuuSX1bH16l7nLw9E4CCX3Xb/JoZ5kbJmEm/EjcDdxYmzpXUs+tthVm47QXF1w223ay2d\n",
              "CsSUKVMICgpqc195eTnHjh3jiSeeAGDhwoVotVoKCgqs10uhQ1qMJr4+VgzA4+Nu/l/892MHM9zf\n",
              "jdpGAx/szbtlm5Ik8dauXIwmiVkRvtw71KvL/XR0kLP03lD2vXAfT4wPRi6DlJwSpr+/nw/25nOl\n",
              "2XbTtF0eQ2i1Wvz9/c1fZZTJZAQHB1NUVHTT5zQ1NVFbW9tmMRp7z1y1vUo7U0ZFXRNeA5TMjPC9\n",
              "6XoOchmvXZ2G/ernolvO/PyUV85BTSUKBzkvzx9u1f4O7K/g7QcjSVkzmfFDBtFkMPFxmobp7+/j\n",
              "+yydTaZpbTKofvfdd3F3d2+zHDlyxBZd6VO2XT2s+d3YIJwcbv2nHT/Ek7kj/TBJ8Nau3Bt++JoN\n",
              "Jt7edQaApyaF3vAQzBqG+7ux/d/Gk7D4HgI9XNDpG1m9/SSPbj7MqYv6bnnNm+lyIAYPHkxJSQkG\n",
              "gwFo3cUWFRURHHzzXfbGjRvR6/VtlpiYmHbrXais58nPf2bHMW2fqabsLtpLDRzUVALwWAcHvRvn\n",
              "DkfhICe9oJLUM+XtHt+ScYFzlfV4DVCwKjbMqv39NZlMxrxIf9Ken8ofZ6hwdpJz5MIlHvgknY3/\n",
              "nUPV5aZuff1ruhwIHx8f7rnnHrZu3QrAt99+S1BQEGFhN38DlUolbm5ubRYHB4d26yVn6TioqWTD\n",
              "N9mMfTuV5748zu6ckl5VCtBTrtUtTQ73ItizX4eeE+zZj6cnt07DvpOSS5Ph+vtadbmJ+LTWadYX\n",
              "Zg3D1blj06xd5ezkwNoZ4aQ9fx/3j/JHklq3Lfa9ffxX+nmrVuzeSKcCsXz5coKCgiguLmb27Nnm\n",
              "D/3mzZvZvHkzKpWKTZs2kZiYaJXOPTQ6kOdnqgj3GUCzwcQPp0tZse0EY99OZX1SJvvyyrv9DeoN\n",
              "LAfTi28xmL6RlbFheLsquVDVwJZ/XZ+G/TA1n7pGAxH+bvxubPvp2+4W6OHCJ4/fw9fLJxBxdQLg\n",
              "zV25zIs/yEFN508qdpTd/AzN+vXr+eCDD274mCRJnC2tY2emju+zdFysuV5FOai/gnmRfixQBzIm\n",
              "eCDyLkwJ9la7c0pYse0E3q5K/vXStN8cP/za18e0/OmbbFyVjvy04T4qLzcxL/4gJgmSnh3PuCGe\n",
              "3dTzjjGaJJKOanlvT555mnhmhC+vzB9u9XFNrwiEJUmSOFFUzc5MHSnZJVRZzKMHuDvzQFQAceoA\n",
              "IvzdkMnujHA8+fnPHNRUsjJ2KBtm393p55tMEnF/TefUxVoeiwmm6FJ9a5lFpB8Ji8d0Q49vj76h\n",
              "hY/S8tmS0XqGW+Eg5+nJd7EqNoz+Suv8YFuvC4Qlg9HEv36pYmemjj2nS6lrMpgfG+rdn7ioQOLU\n",
              "ATctQusLCqvqmfqf+5DJ4MCGWAYP6tj44deOnL/E7zdnmG8rHOWkrZ962+11J01ZHW/uyjVPIvi4\n",
              "Knlp7t08qA7s8hFCrw6EpcYWI/vyyknO0pF6ppxmw/Wxxaggd+KiArh/VAB+7s7W6K7d2PS/Z/ls\n",
              "/y9MVXnzjz+0n6nrjJVfnSAluwSAFfcN5U9zOr+36SmSJJF6ppy3U3IprGo9wz062IP/WDiKcF/X\n",
              "2263z/wwqLOTA3NG+jNnpD91jS3sOV1GcpaO9IJKsov1ZBfreWf3GcbdNYi4qEDmjvRjYH+Frbvd\n",
              "Jc0GE98cb1vm3RUb597NgfwK3JydWNHN06xdJZPJmBnhyxSVF5+nn+eTHws4ratF6dh+trJT7faV\n",
              "PcTNVF1uYndOCclZOo5euH7FHUe5jKkqb+LUAcwY7mu1Y9CelJJdwsqvTuDjquTQbQymb6TychNO\n",
              "DvIOV7Pai7LaRk4UVjM30r9L7Vj1UxAaGopSqcTFxQVoPQH36KOPWvMlOs1zgJInJ4Ty5IRQLtZc\n",
              "4fssHcmZOnJLakk7W07a2XJcnByYPtyHBepApqi8uvxfpqd8daR1mvTR6MFWCQO0fuutN/J1c+5y\n",
              "GKAbDpmSkpJQq9XWbtYqAj1ceG7qUJ6bOpSC8jqSM3UkZ+m4UNXAruwSdmWX4ObsyNyR/ixQBzBu\n",
              "iGeXKju704XK1pkgmaw1EIJ19L7jBCsJ83Fl/axh/HGmiuxiPclZOnZl6yirbSLpmJakY1p8XJXM\n",
              "H+XPAnUgUUHudjWNu/1o65npqSpvggba30xQb2X1QCxZsgRJkoiJiWHTpk14e3u3W6epqYmmpra1\n",
              "KbaqdpXJZEQN9iBqsAd/njecI+cvkZx1kd05pZTXNZF46AKJhy4Q4tmPB0YFsEAd0KVZDGtoNpj4\n",
              "5lqZtxUG08J1Vh1UXyvqa2lp4ZVXXiEnJ4fdu3e3W+/111/njTfeaHPf+PHjycjIaLeurTQbTBzU\n",
              "VLAzU8fe3DKuWNRP3e3nSpw6gAdGBdhknv77LB2rt5/E103JoRen4Wil8YPQjbNMJSUlqFQq6ura\n",
              "19rfaA/x6quv2u0PHjc0G0g9U05ypo79+eW0GK+/ZWNCBhIXFcC8SH+8XXtmQPrY3w6Tca6KNdPC\n",
              "WD9rWI+85p3CaodM9fX1tLS04OHhAcD27dsZPXr0DddVKpUolW0/PDeqdrUX/RSOxEUFEBcVQE1D\n",
              "Mz+cKiU5S0fGuSqOF1ZzvLCaN74/zcQwL+KiApg90g+3bqgOPXVRT3yahoxzVchl8Kg4XLI6qwWi\n",
              "rKyMhQsXYjQakSSJIUOGsGXLFms1bzc8+ilYFBPMophgymob2ZXdeo4jS1vDQU0lBzWVvPzdKaYN\n",
              "8yFOHcC0u31wdupa2K8FYW9uGQAyGayKDSPQw8UamyRY6PMn5nrKhcp6vs/SsTNLR0H5ZfP9A5SO\n",
              "zBrhS1xUABPDvDp1vuDURT0fpWpIPdMaBLkM4qICWDUtnDCfAVbfBkEEwuokSeJMSR3JWTcuVZ8f\n",
              "6U+cOuCWpeo5xXri0/LN32ITQeg5IhDdyGSSOKnteKl6dnEN8aka0s5eD8ICdSCrpoUx1FsEoSeI\n",
              "QPSQ3ypVD/BwMZczy2Xw4NUgDBFB6FF37JnqnuboIGeKypspKm8aW0a2KVX/paKeXyrqW4MwOpBV\n",
              "sSIItiICYQM3KlUvrr7S57/M1BvYzSHTww8/TGhoqK27YTVGo5EjR44QExNj1+dYuqI3bWNISAhr\n",
              "1679zfXsJhB9TW1tLe7u7uj1etzc3GzdnW7RF7dRFMEIggURCEGwIAIhCBZEILqJUqnktddea1fE\n",
              "2Jf0xW0Ug2pBsCD2EIJgQQRCECyIQAiCBRGIbhAaGsqwYcNQq9Wo1WqSkpJs3SWruCOuQisJVhcS\n",
              "EiKdPHnS1t2wuv3790tarbbd9sXGxkqJiYmSJEnSjh07pLFjx9qmg1Yg9hBCh90JV6EVgegmS5Ys\n",
              "ITIykqeffpqKiu674o2t3c5VaO2ZCEQ3OHDgANnZ2Zw4cQIvLy+WLl1q6y4JHSS+D9ENrl2B1cnJ\n",
              "iXXr1qFSqWzco+5jeRVaR0fHDl2F1p6JPYSV1dfXU1NTY759q9+n6gtu5yq09kyUbljZuXPn2v0+\n",
              "VXx8fJ/48tPy5ctJSUmhtLQUT09PXF1dKSgoIC8vj2XLllFVVYWbmxuJiYlERkbauru3RQRCECyI\n",
              "QyZBsCACIQgWRCAEwYIIhCBYEIEQBAsiEIJgQQRCECyIQAiCBREIQbAgAiEIFkQgBMHC/wPWmrj4\n",
              "x02wnAAAAABJRU5ErkJggg==\n",
              "\">\n",
              "        \n",
              "      </div>\n",
              "      <script></script>\n",
              "      <script type=\"text/javascript\">\n",
              "        (() => {\n",
              "          const chartElement = document.getElementById(\"chart-34be4c15-2c86-4b8f-86df-24b38be63d19\");\n",
              "          async function getCodeForChartHandler(event) {\n",
              "            const chartCodeResponse =  await google.colab.kernel.invokeFunction(\n",
              "                'getCodeForChart', [\"chart-34be4c15-2c86-4b8f-86df-24b38be63d19\"], {});\n",
              "            const responseJson = chartCodeResponse.data['application/json'];\n",
              "            await google.colab.notebook.addCell(responseJson.code, 'code');\n",
              "          }\n",
              "          chartElement.onclick = getCodeForChartHandler;\n",
              "        })();\n",
              "      </script>\n",
              "      <style>\n",
              "        .colab-quickchart-chart-with-code  {\n",
              "            display: block;\n",
              "            float: left;\n",
              "            border: 1px solid transparent;\n",
              "        }\n",
              "\n",
              "        .colab-quickchart-chart-with-code:hover {\n",
              "            cursor: pointer;\n",
              "            border: 1px solid #aaa;\n",
              "        }\n",
              "      </style>"
            ]
          },
          "metadata": {}
        },
        {
          "output_type": "display_data",
          "data": {
            "text/plain": [
              "import numpy as np\n",
              "from google.colab import autoviz\n",
              "df_8785923528690381692 = autoviz.get_registered_df('df_8785923528690381692')\n",
              "\n",
              "def value_plot(df, y, sort_ascending=False, figsize=(2, 1)):\n",
              "  from matplotlib import pyplot as plt\n",
              "  if sort_ascending:\n",
              "    df = df.sort_values(y).reset_index(drop=True)\n",
              "  _, ax = plt.subplots(figsize=figsize)\n",
              "  df[y].plot(kind='line')\n",
              "  plt.title(y)\n",
              "  ax.spines[['top', 'right',]].set_visible(False)\n",
              "  plt.tight_layout()\n",
              "  return autoviz.MplChart.from_current_mpl_state()\n",
              "\n",
              "chart = value_plot(df_8785923528690381692, *['Weight'], **{})\n",
              "chart"
            ],
            "text/html": [
              "      <div class=\"colab-quickchart-chart-with-code\" id=\"chart-d864fb81-c928-4744-921e-2106b3f76815\">\n",
              "        <img src=\"data:image/png;base64,iVBORw0KGgoAAAANSUhEUgAAAM4AAABgCAYAAABVCU1aAAAAOXRFWHRTb2Z0d2FyZQBNYXRwbG90\n",
              "bGliIHZlcnNpb24zLjcuMSwgaHR0cHM6Ly9tYXRwbG90bGliLm9yZy/bCgiHAAAACXBIWXMAAA9h\n",
              "AAAPYQGoP6dpAAAVS0lEQVR4nO3de1xUZf7A8c8w4IBcFeQuECB4SQGTQklB5bKaJqltrqa5q4nX\n",
              "ctsu28VKf63UpvZz7aK2yq+yXFdTUlFbMFEwE0NUNEVQabiKQAwCMsBwfn+MshJgMIwO4PN+vc4f\n",
              "njnznO/B+c5zOc9zRiZJkoQgCO1iZOgABKErEokjCDoQiSMIOhCJIwg6EIkjCDoQiSMIOhCJIwg6\n",
              "EIkjCDoQiSMIOhCJ041ZWFiQlJTU5uNDQ0N544037l5A3YhInE5i3bp1ODo6cvsMqO+++w6ZTMaK\n",
              "FSuaHDt58mRmzJjxm2VWVlYSGhqqtxiTkpKQyWTU19frrcyuSiROJxEeHs7Vq1fJyMho3JeQkMCD\n",
              "Dz5IYmJi4z6NRsOhQ4eIiIgwRJjCTSJxOon+/fvj5uZGQkJC476EhATefvtt0tLSqKysBODEiROU\n",
              "l5cTFhbG8ePHCQ0NxdbWFnd3d5YtW9akNpDJZE2SLjY2Fm9vbywtLZk8eTKLFy9uViNdv36d6dOn\n",
              "Y21tTd++ffnkk08AUCqVjBs3DgAbGxssLCxYuXLl3fpzdH6S0GnMmTNHioyMlCRJkkpKSiQzMzOp\n",
              "urpaCg4Olvbs2SNJkiStWLFCGjhwoHThwgXJ3Nxc2rp1q1RXVyfl5ORIQ4YMkd55553G8gApISFB\n",
              "kiRJOnz4sNSjRw9p3759Un19vRQfHy+ZmZlJISEhjceHhIRIVlZW0sGDByWNRiPt2LFDMjIykrKy\n",
              "siRJkqRDhw5JgFRXV3eP/iKdl6hxOpGIiAiOHDmCWq3m4MGDBAUFYWZmRlhYWGNNlJCQQEREBB99\n",
              "9BETJ05k2rRpGBsb4+7uzssvv0xsbGyLZX/++edMmjSJcePGIZfLGT9+POPHj2923JQpUxgzZgxG\n",
              "RkZMmTKF3r17k5aWdlevuysSidOJjB07FrVazdGjR0lISCAsLKxxf0JCApWVlfzwww+Eh4eTlZXF\n",
              "rl27sLGxadwWLFhAUVFRi2Xn5+fj7u7eZJ+Hh0ez45ydnZv829zcnOvXr+vnArsRkTidiK2tLUOH\n",
              "DiUhIaFJ4gQFBZGbm8uWLVuQyWSEhITg6OjI9OnTKS8vb9wqKioa+0K/5uLiws8//9xk36///VuM\n",
              "jMTH5Rbxl+hkIiIi+Oyzz1CpVAwbNgwAExMTRo4cyYoVKxgxYgTm5uYsXLiQHTt2sH37dmpra9Fo\n",
              "NGRnZ3PgwIEWy505cybffPMN3377LRqNhgMHDrBv3752xebo6AhAZmZmxy6yGxCJ08lERERQWFjI\n",
              "6NGjm3zDh4WFUVhYSHh4OACBgYEkJCTw6aef4uLigq2tLVOnTm21FgkJCeHjjz9m4cKF2NjYsGHD\n",
              "BmbMmIGpqWmbY/Px8WHJkiWMHj0aGxsb3n333Y5dbBcmkyTxzIH7VVRUFA4ODmzYsMHQoXQ5osa5\n",
              "j3z99ddUVFRQV1fHtm3b2Lt3b5tmIAjNGRs6AOHe2bNnD88++yy1tbW4u7uzefNmRo0aZeiwuiTR\n",
              "VBMEHYimmiDoQCSOIOhAJI4g6EAkjiDooMslztq1aw0dgtDFXb5Wibpe06EyulzitHd+1f3s+0sl\n",
              "DI85yIGzhYYOpdM4cLaQietSWL7npw6V0+USR2i71f+5SKGqho+TLhk6FIPTNEis+jaT+VtOUlWr\n",
              "4fK1SmrqdK91xA3QbupcgYq0n38B4Eyeityyavr27mngqAxDdaOOpf9K51DmNQDmPPoAr47rj7Fc\n",
              "93pD1Djd1BfHmjZp4zPuz+ZaZtF1Jn2YwqHMayiMjfjfp/xZNmFgh5IGROJ0S6rqOuJO5QMQ5a9d\n",
              "mBZ/5v5LnH0ZhTzx8VFySqtxsTHj6wUjiApw0UvZInG6oe1pudTUNeDrYMkbEwZiJIOMfBXK0mpD\n",
              "h3ZPaBok3jtwgYVfnqS6VkOwty17ljzKgy7WejtHt0mcIlUNeb/cHx+MO2lokNjyg7aZNnO4O3YW\n",
              "CoZ72QL3R3OtvLqWP/7fCT65OSAyb5Qnn/3xYXqb99DredqVOM899xweHh7IZDJOnToFQE1NDVFR\n",
              "Ufj4+ODn50d4eDjZ2dktvj8nJwe5XI6/v3/jdumSfkZ8Pk2+zKPvHeL3G46xNVWJqrpOL+V2NcnZ\n",
              "JeSUVmOpMOaJm82SxwZrm2v7unniXCiq4PEPj3Lk4jVMTYz4xx8CeG38gA73Z1rSrhKnTp1KSkpK\n",
              "s4c+zJs3j8zMTE6fPs2kSZOYO3duq2VYWlpy6tSpxs3Ly0u3yH+l+LoamQxSr5Tx6s4MAv+WyPwv\n",
              "0jhwtqjDN7u6ki+O5QAw5SFXzBXaQdPIQQ7IjWTdurm290wBT3z0Pcqyalx7mbFzQTCP+zn/9ht1\n",
              "1K7EGTVqFK6urk32mZqaMn78eGQyGaB9sEROTo7eAmyrdX8I4OgrY/jruP74OlhSq2ngwLki5m9J\n",
              "I/CdRF7dmUHqlTIaGrrvKorcsmoOXigG4Omg/3652VooGO7ZPZtrmgaJmP3nWfxVOjfqNIzsZ8ee\n",
              "xY8y0Nnqrp5X7/dx1q5dy6RJk1p9vaqqisDAQDQaDVFRUbz++uvI5fIWj1Wr1ajV6ib7NJrWaw9n\n",
              "GzPmh3gxP8SL84UVxKXnE3cqn6sVaramKtmaqsTFxoyoAGeeCHDB295St4vspL5KVSJJEOxti7e9\n",
              "RZPXxg92IiW7hPiMAhaE6qeWN7Rfqmp57l/pJGeVABAd4slLEb53pWn2a3o9w8qVK8nOziYmJqbF\n",
              "152cnMjPz+fEiRMkJiaSnJzM6tWrWy0vJiYGa2vrJltqamqbYhngZMWr4wfw/V/H8tXcR3jyIVcs\n",
              "FMbkl9/go0OXCFtzhAnrkvln8mWKK2p0ut7OpKZOw7YTuQDMDPJo9vqt5trZ/Ap+Lq26x9Hp308F\n",
              "FTz+UQrJWSWYmcj5cHoAr467O/2ZlujtLKtWrWLnzp3s37+fnj1bvkOtUCiwt7cHoHfv3vzpT38i\n",
              "OTm51TJfffVVVCpVk+3hhx9uV1xyIxkjvO14/0k/fnwjjA+nBxA2wB7jmx+id+LPExRzkJmbjvN1\n",
              "Wh6V6q75JP59GYWUVdXibG1K2AD7Zq/bWigY0U1G13afLmDyJ0fJLbuBW++e7Fo0gglD7l5/piV6\n",
              "aaqtWbOGrVu3kpiYiI2NTavHFRcX06tXL0xMTFCr1ezcuZOAgIBWj1coFCgUiib7WmvWtYWpiZwJ\n",
              "Q5yZMMSZsqpa4s8UsCs9n5PKcpKzSkjOKuH1uAwiBjryRIALj/azw+QefYN11Oc3ZwpMf8St1W/d\n",
              "8YOdSM4qIf5MIQtDve9leHpRr2ng799msvHIZQBG+fThH9P8semp36HmtmjXMweio6OJj4+nqKgI\n",
              "W1tbLC0tSUpKom/fvnh6emJpqe0zKBQKjh8/DsCbb76Js7Mz8+fPZ+fOnbz55pvI5XLq6+sZM2YM\n",
              "q1atapYcd/LCCy+wZs2adl7mnf1cWkVcegFxp/K5UvLfZoyteQ8m+jkTFeCCn6t14wBIZ5ORp2Li\n",
              "hymYyGV8/9ex9LFs+e9ZVlVL4N8S0TRIJL0Yioed+T2OVHdlVbUs2XqSo9mlACwM9eIvEb7IjQzz\n",
              "f9LlHtZxNxLnFkmSOJOnYld6PntOF1BaVdv42gN25kT5uxAV4Iy7bef6wL20/TTb0/KY5O/M2mmt\n",
              "1+AAMzcdJzmrhJcifVk0umvUOucKVMz7PI388hv07CFn1ZN+jB/sZNCYukY75B6RyWT49bXh7ccH\n",
              "8cNrY4n9YyCT/J0xNTHiSkkVHyReJOT9JCZ/fJQvjuVQdltiGcovVbXsPl0AwKzh7r9xNDx28wPX\n",
              "VW6GfnMqnymffE9++Q3cbXuya2GwwZMGxLKCVpnIjRjta89oX3sq1fX851wRu9LzOZpdwkllOSeV\n",
              "5Szf8xOhvn2ICnAhbIADpia69790tT0tF3V9AwOcrBjq1us3j48Y5MjrcWc5V1BBTklVp22u1Wsa\n",
              "iNl/gU0pVwAI9e3D2qcCsO5pYuDItETitIGFwpjJQ12ZPNSV4ooadp/W9ofO5leQeL6YxPPFWCiM\n",
              "+d2D2kGFIE/be9L21s5LUwLa2qYtfbDe5j0Y4WWrHSTIKOyUzbXSSjWLv0rn2GVtf2bxaG/+HO5j\n",
              "sP5MS0TitJO9lSlzR3oyd6Qn2cXXiUvXjszll99gR1oeO9LycLBSMMnfhSh/l7t6B/vwxWsoy6qx\n",
              "NDVmkn/bh2Mfu210rbMlztl8FdFfaPsz5j3krP69H7970PBNs18TfZwO8La35MVIX5JfHs32+cOZ\n",
              "/ogb1mYmXK1Qs/HIZcb/I5nID47wSdIlCspv6P38n9+cl/bkQ33p2aPt34GRgxyRG8n4qbCiyShi\n",
              "e0iSxNl8FTdq9TcPcOfJvMb+zAN25sQtCu6USQMicfTCyEhGoEdvVj4xmNTXx7Jh5kOMe9CRHnIj\n",
              "Mq9e570DFwh+7zumbTzGthNKVDc6PnNbWVpN0kXtUuCZbRgUuF2vm8010H2QIGb/BSasS2Hs6iT2\n",
              "ZxTSkcHZOk0Dy/ec44V/n0Zd38DY/vbELQqmn0PnnRIlmmp6pjCWEznIkchBjqhu1LE/o5Bd6fkc\n",
              "v1LGD5e127JvzhE2wJ4ofxdCfe3pYdz+768vj/+MJMHIfnY8oEMHf8IQbXNtrw7NtW0nlI03IQtU\n",
              "NSz48iQj+9nx9uOD8Opj8RvvbqqkUs2iL09y/EoZAM+N8WZpmA9Gnag/0xJxH+ceyS+/we5TBexK\n",
              "z+Pi1f/+3KBNTxMeG+zEEwEuPOTeq00d/Jo6DUExBymvruPTWcMIH+jQ7nh+qapl2M2bod/9JQTP\n",
              "Nn7gf7hcysxNx6nTSCwM9cJYbsT6w5eorW/ARC5jzqOeLBnj3bik4U7O5JUT/UUahaoaLBTGrP69\n",
              "H5GDHNt9LYYgmmr3iIuNGQtCvfh26Sj2PTeSeaM8cbBSUF5dx5fHlUxdf4yRfz/Eqm8zyS5u+Xc8\n",
              "b9lzuoDy6jpcbMwY07/5vLS26GXeg2BvO6DtzTVlaTULtqRRp5F4bIgTL0b48kK4Dwl/HsWY/vbU\n",
              "aSTWH75E2JrDxJ+5c/Nt+4+5TF1/jEJVDZ59zIlbNKLLJA3oYQUoQFZWFiNGjMDHx4fAwEDOnTvX\n",
              "ahmbNm2iX79+eHl58eyzz1JXd3+t1JTJZAx0tuK1mzO3v5z7CFNvztzO++UGHx7KJmzNYSauS2FT\n",
              "yhWKrzefuf3FzaXRM4LcOjRE+9hg7Qc1PqPlX6q+XUVNHXM+O8Ev1XUMcbVm1VS/xuaUu605m2cH\n",
              "8s9Zw3DtZUahqoZFX53k6U3Hm30J1GkaeOubs7y04wy19Q2EDXAgblFwl1vioZcVoNHR0cybN4+L\n",
              "Fy/yyiuvMHv27Bbff+XKFZYtW0ZycjLZ2dlcvXqVjRs36hx8Vyc3khHsbceqJ/048XoY6/4QwNj+\n",
              "2pnbGfkq/mfvTwStPMiszansSs+jSl3PqdxyzuSp6CE34qlhfTt0/oiBjhgbyThfWMHla63XcvWa\n",
              "BpZ8lU5WcSUOVgo2zhyGWY/mN3vDBjqQ+EIIz4/tRw9jI45mlzJu7RFi9p+nSl3PtetqZnx6nM9u\n",
              "Tkj9c5gPG2c+hJVp57ip2R469XE8PDyIi4vD39+f4uJivL29KSsrw9jYGEmScHJyIiUlBW/vpp3O\n",
              "999/n0uXLrF+/XoA9u3bx8qVK0lJSWnzubtqH6c9SivVxN8cVEhXljfuNzOR08dSgbKsmskBLqx5\n",
              "yr/D55q1OZUjF6/xYoQPi8f0a/GYFXt+YvPRK5iaGPHv6OEMcbX5zXKVpdWs2HuOxPPaFamOVtof\n",
              "6S2qqMFSYcwHT/kTpkPfrLPocB8nNzcXJycnjI21nUGZTIabmxtKpbLZsUqlsklt5eHh0eJxt6jV\n",
              "aioqKppsd1oB2l3YWiiYNdyDXQuDSXoxlKVh/fCw7cmNOg3KMu0zA9o7BN2aCTfnfe1t5blrW1OV\n",
              "bD6qnfay+kn/NiUNgJttT/75TCCbZw/DrXdPiipqKKqowauPOXGLg7t00kAnH46OiYlh+fLlTfYF\n",
              "BQUZKBrD8LAzZ2mYD8+P7cfpPBV7Txdgb6XAv6+NXsqPGOTAa7tkXCi6zqVrlU2Gk49dKmVZ3FkA\n",
              "Xgj34bEh7b8ZOaa/AyO87Ig9mkNJpZqlYf2w7IJNs1/rcI3Tt29fCgsLqa/XrpyUJAmlUombm1uz\n",
              "Y93c3Jr82kBOTk6Lx92ijxWg3YVMJsO/rw1vTBjIvFFeelsbZNPzttG122qdnJIqFnyZRn2DxEQ/\n",
              "Z5aM0X1qjqmJnAWhXiybMLBbJA3oIXHs7e0ZOnQoW7ZsAbQ/Ce7q6tqsfwMwZcoUdu/eTVFREZIk\n",
              "sX79eqZNm9Zq2QqFAisrqyZbR1aACi27tdTg1pJq1Q3tCFp5dR1+fW14f+qQTruIz1DalTjR0dG4\n",
              "urqSl5dHZGRkY3Js2LCBDRs24OPjw7vvvktsbGzje+bOncvu3bsB8PT0ZPny5QQHB+Pt7U2fPn2I\n",
              "jo7W4+UIuogY5ICxkba5dvHqdRZ/dZJL16pwsjbl05kPGWS5RGcnZg4IADyzOZXDF6/hbG1KgaoG\n",
              "MxM52+cP1+vzlrsTMXNAAGjs+BeotDdcP3jKTyTNHYjEEQCIHOiIiVzbj3kp0rfTTufvLDr1cLRw\n",
              "71j3NOGj6UO5el3N04+0PtIpaHW5Ps7kyZPx8PAwdBh6o9FoSE1N5eGHH+7WI4Zd6Trd3d15/vnn\n",
              "73hMl0uc7qaiogJra2tUKhVWVnf3QeGG1N2uU/RxBEEHInEEQQcicQRBByJxDEyhUPDWW2+16/nZ\n",
              "XVF3u04xOCAIOhA1jiDoQCSOIOhAJI4g6EAkjoF5eHjg6+uLv78//v7+bNu2zdAhdZg+nobU6UmC\n",
              "Qbm7u0vp6emGDkOvDh8+LOXm5ja7ttGjR0uxsbGSJEnS9u3bpWHDhhkmQD0QNY6gd6NGjcLV1bXJ\n",
              "vuLiYn788UeefvppQLsaODc3l+zsbEOE2GEicTqBWbNmMXjwYObMmcO1a9cMHc5d0Z6nIXUFInEM\n",
              "7MiRI5w5c4aTJ09iZ2fHM888Y+iQhDYQ63EM7NZTfkxMTFi6dCk+Pj4GjujuuP1pSLceXNna05C6\n",
              "AlHjGFBVVRXl5eWN/966dSsBAXf+1eiuqj1PQ+oKxJQbA7p8+TJTpkxBo9EgSRKenp6sXbu2yy/U\n",
              "i46OJj4+nqKiImxtbbG0tCQ7O5vMzExmz55NaWkpVlZWxMbGMnjwYEOHqxOROIKgA9FUEwQdiMQR\n",
              "BB2IxBEEHYjEEQQdiMQRBB2IxBEEHYjEEQQdiMQRBB2IxBEEHYjEEQQdiMQRBB38P9HX3Jis9VA4\n",
              "AAAAAElFTkSuQmCC\n",
              "\">\n",
              "        \n",
              "      </div>\n",
              "      <script></script>\n",
              "      <script type=\"text/javascript\">\n",
              "        (() => {\n",
              "          const chartElement = document.getElementById(\"chart-d864fb81-c928-4744-921e-2106b3f76815\");\n",
              "          async function getCodeForChartHandler(event) {\n",
              "            const chartCodeResponse =  await google.colab.kernel.invokeFunction(\n",
              "                'getCodeForChart', [\"chart-d864fb81-c928-4744-921e-2106b3f76815\"], {});\n",
              "            const responseJson = chartCodeResponse.data['application/json'];\n",
              "            await google.colab.notebook.addCell(responseJson.code, 'code');\n",
              "          }\n",
              "          chartElement.onclick = getCodeForChartHandler;\n",
              "        })();\n",
              "      </script>\n",
              "      <style>\n",
              "        .colab-quickchart-chart-with-code  {\n",
              "            display: block;\n",
              "            float: left;\n",
              "            border: 1px solid transparent;\n",
              "        }\n",
              "\n",
              "        .colab-quickchart-chart-with-code:hover {\n",
              "            cursor: pointer;\n",
              "            border: 1px solid #aaa;\n",
              "        }\n",
              "      </style>"
            ]
          },
          "metadata": {}
        },
        {
          "output_type": "display_data",
          "data": {
            "text/plain": [
              "import numpy as np\n",
              "from google.colab import autoviz\n",
              "df_8785923528690381692 = autoviz.get_registered_df('df_8785923528690381692')\n",
              "\n",
              "def value_plot(df, y, sort_ascending=False, figsize=(2, 1)):\n",
              "  from matplotlib import pyplot as plt\n",
              "  if sort_ascending:\n",
              "    df = df.sort_values(y).reset_index(drop=True)\n",
              "  _, ax = plt.subplots(figsize=figsize)\n",
              "  df[y].plot(kind='line')\n",
              "  plt.title(y)\n",
              "  ax.spines[['top', 'right',]].set_visible(False)\n",
              "  plt.tight_layout()\n",
              "  return autoviz.MplChart.from_current_mpl_state()\n",
              "\n",
              "chart = value_plot(df_8785923528690381692, *['Length'], **{})\n",
              "chart"
            ],
            "text/html": [
              "      <div class=\"colab-quickchart-chart-with-code\" id=\"chart-b872f77e-cfdf-41a2-974f-8af342750f15\">\n",
              "        <img src=\"data:image/png;base64,iVBORw0KGgoAAAANSUhEUgAAALkAAABgCAYAAABBnNO7AAAAOXRFWHRTb2Z0d2FyZQBNYXRwbG90\n",
              "bGliIHZlcnNpb24zLjcuMSwgaHR0cHM6Ly9tYXRwbG90bGliLm9yZy/bCgiHAAAACXBIWXMAAA9h\n",
              "AAAPYQGoP6dpAAAP30lEQVR4nO3de1zUdb7H8ddvAIf7ICKXQJgQUUwMr5GWN7x39mjreizXrI7r\n",
              "yd1KbW09ex6Z2umknm3VaLdOrp2jtV3W7bKWJZqSghqpmBdEEBAUkJuACnIdhu/5A4ckMpmBYWZ+\n",
              "fJ+Px/wxM7/5/j4/Hu/58f19f9/f/BQhhECSVExj6wIkydpkyCXVkyGXVE+GXFI9GXJJ9WTIJdWT\n",
              "IZdUT4ZcUj0Zckn1ZMhVRlEU9u/fb+sy7IoMeSdMmDCBVatW2WTd27dvJyQkxCbrdjQy5JLqyZBb\n",
              "gdFoZOPGjURFRaHT6RgxYgSJiYmt75v2wlu2bEGv16PT6Zg7dy5VVVWty2RnZzNx4kS8vb2Jiopi\n",
              "69atKIrCxYsXOXToEEuWLKGoqAhPT088PT15//33Wz+bkZHB2LFj8fT0JDo6msOHD3fr9tsdIVls\n",
              "/Pjx4oUXXmj3+po1a8S9994rMjMzhdFoFJ9++qlwd3cXOTk5Qgghtm3bJpycnMTy5ctFbW2tKCoq\n",
              "EhEREWL16tVCCCEMBoOIjIwUixcvFjU1NaKwsFDExsYKQOTl5bW2ERwc3G7dgBg6dKjIzs4WBoNB\n",
              "LFu2TISGhlrvj+AAZMg74XYh9/b2Fnv27Gnz2uTJk8XLL78shGgJqFarFY2Nja3vP//882L69OlC\n",
              "CCEOHTokNBqNqKqqan1/165dHQ75O++80/r87NmzAhAlJSWWb6iDc7bpvxEVKi0tpaqqirlz56LR\n",
              "fN8bNBgMREREtD738/PDxcWl9bmHhwfV1dUAXL58GV9fX7y8vFrf1+v1Ha7hrrvuatMuQHV1NQEB\n",
              "AWZvjxrIkHcxHx8fXF1d+eKLLxg3bpxFbQQHB1NZWUl1dXVr0C9dutRmmVu/QNJPk3+pTjIajdTX\n",
              "17c+hBAsWbKElStXkpGRgRCCuro6kpOTycrK6lCbsbGx9O/fn5UrV1JbW0tRURHr1q1rs0xgYCDl\n",
              "5eVUVFRYY7NURYa8kzZs2ICbm1ubx/Tp03n00UeZO3cuPj4+6PV61q9fj8Fg6FCbzs7O7Nq1i4yM\n",
              "DAICAoiLi2P+/PkAuLq6AjBp0iRmzZpFZGQkPj4+fPDBB1bbRkenCCGv8XQEO3fu5JFHHqGurg5F\n",
              "UWxdjkORe3I7lZKSQlZWFkIIzp8/z+rVq5k/f74MuAVkyO1UcXExU6dOxcPDg7i4OGJjY9m8ebOt\n",
              "y3JIsrsiqZ7ck0uqJ0MuqZ7ZIW9oaOCZZ55hwIABREdHs2DBAmvUJUldxuwznr///e9RFIWsrCwU\n",
              "RaGkpMQadUlSlzHrwLOmpoagoCAKCwvx9vY2e2Xx8fEsW7aszWvNzYK8ihr69/U0uz1J6giz9uQX\n",
              "LlzA19eXdevWsX//ftzc3Fi7di1xcXHtlm1oaKChoaHNa7m5ue2W+/B4Pqs/S2fRA3ezLG4AHtqe\n",
              "O51GCMG/bj9Ocna5Vdrv5aThlYeH8PPhPeuKIrP65E1NTVy6dInBgweTmprK66+/zrx58ygtLW23\n",
              "7Pr169HpdG0ex44da7fc6YJrGJsFf0nOZcqmJPacLaGnjmqmF1Vx4PwVjM3CKo86g5Gth/JsvZnd\n",
              "zqzuSnl5OQEBATQ2NuLk5ATAqFGjWL9+PZMnT26z7I/tyV988UXi4+PbtZuYUcqaz9MpvFoHwKRB\n",
              "/rz0z/fQz9fd7A1yZK/uzeSNAxeYHBXAKw8P6dK2q+ubmPZaMsZmwcHnJ6D38+jS9u2ZWX0DPz8/\n",
              "4uLi2Lt3LzNnziQvL4+8vDyioqLaLavVatFqtW1eM30xfiguKoAx/f3484Fs/pKcy9eZZRzJKefZ\n",
              "SREsHheO1vnHP6cmQggS0loO4n92bxAB3q5d2n6AN9wf3ofDOeUknC3h1xP6d2n79szsIcS33nqL\n",
              "V199lejoaGbPns2WLVsIDg7udCFuvZz43bRBJCx7kPvD+9DQ1Mwfv8piRvwhvrlgnT6qPckqvUFu\n",
              "eQ29nDVMGuRvlXXMiA4EYM/ZYqu0b6/MDnl4eDgHDhwgLS2N06dPM2fOnC4tKMLfiw8W38dr82Lw\n",
              "8+xF7pUa5m89yvK/neRKdcOdG3BQu9NagjdugB9eri53WNoyUwcHoihwuvA6hVdrrbIOe2SXZzwV\n",
              "RWH2sGASV0zgsdgwFAV2nipi0saD/DXlIsZm9R2YJtzcu84YEmS1dfT10jJa7wvAnrM95/yGXYbc\n",
              "ROfmwsuzh7DzN2OJDtZRXd/Ei5+l8/CbRzhTeM3W5XWZnLIbZJXewMVJYXKUda/DnBnd8iVKkCG3\n",
              "L/f282Hn02P5z1n34KV15kzhdWa9cYTVn53lel3HrraxZ6Y+8pj+fujcrdNVMZl2T0u//MSlq5Rc\n",
              "r7fquuyFQ4QcwEmjsPB+PYnPj2dWzF0IAe+mXCJuYxKfnbrs0GPrpr3qzJsHhtYUqHNlRFhvAPam\n",
              "94y9ucOE3MTfy5X4R4bx/q/uI9zPg/IbDSz72yl++fZRcspu2Lo8s+VX1JJeVIWTRmHKYOuHHGDG\n",
              "kJb1mA521c7hQm4yNsKPhOUPsmJKJFpnDd9cqGBGfDJ/3HueeoPR1uV1mOmAMzbcF1+PXt2yzuk3\n",
              "Q378YqWqR6xMHDbkAFpnJ56NG8C+58YzcWBfDEbBnw/kMGVzEgcyy2xdXofsvtlVmW7FUZUfCunt\n",
              "ztAQHc0Cvjqn/i6LQ4fcJLSPO//3xCjeWjCcIJ0rBZV1PLn9OEv+eoKia3W2Lu+2Ll+r43TBNRQF\n",
              "pt3Tvb9uZRqqNJ1lVTNVhBxaxtanDwli/2/Hs/jBu3HSKOxJL2HypiS2JudiMDbbusR2TGPVo/S+\n",
              "+Ht17Wn8OzH1y1NyK7ha09it6+5uqgm5iYfWmRceGsyXSx9gZFhvahuNvLI7g5/96TCpFyttXV4b\n",
              "CWmmE0Ddc8B5K72fB1FB3hibBfvOtZ9FqiaqC7nJoEBv/v7U/fxhzlB6u7uQWVLNL95KYeXHp6m0\n",
              "gz1XaVU9J/KvAt8fCHa3mTfXm6DyuSyqDTmARqPwL6P6kbhiAvNG9gPg76mFTNp4kB3H82m24fSA\n",
              "veklCAHDQn0I0rnZpAbThK3DOeWqOKl2O6oOuYmvRy/++xdD+XjJ/QwK9OJarYF//ySNuVtSyCiu\n",
              "unMDVmA64JvZjaMqPxTh78UAf08MRkFihnq7LD0i5CYj9b7sevYBVj0UhXsvJ05cuso//ekw//XF\n",
              "OW40NHVbHRU3Gjia1/JrtLbqqpjM6AFzWXpUyAFcnDT86sFwEleMZ8aQQIzNgrcP5zF5YxIJacXd\n",
              "Mj3gq3OlNAuIDtbZ/Oon00FvUtaVbv2id6ceF3KTIJ0b/7NgBNueHEWorzslVfX8+v3veHL7cfIr\n",
              "rDvX2nQ6fUY3zFW5k0GBXtzt50FjU7PDnEAzV48NucnEgf589dw4lk6KoJeThoPnrzBlcxKvJ2bT\n",
              "0NT10wOu1TaScqGlq2LNueMd1XJ+Qd2jLD0+5ACuLk78dupAEpY/yNiIlkvvNu3LYsZrhziS07WX\n",
              "3u07V0pTs2jdg9oD08Hvgcwr1DU6zryfjpIhv0X/vp68t+g+4h+Joa+XltzyGn759lGWfniSsqqu\n",
              "mXttOsCzh724yZBgb0J6u1FnMJKUpb4uiwz5DyiKwqyYYBJXjOfx+8PQKPD56SLiNibxzjedu/Su\n",
              "qt7A4Zs/HNQdc8c7SlGUW6bfqm+URYb8NrxdXXhp1hA+e/oBhoboqG5oYs3n6cx+4winC65Z1ObX\n",
              "GWU0GpuJ8PdkQIDXnT/QjUxDiV9nljnUVOWOkCG/g+gQHf/4zVhenj0EL1dn0i5fZ/abR1i1M83s\n",
              "s4TfX6xsP3txk5gQHwK9XbnR0NT630YtZMg7wEmj8FhsGF+vmMDDw4IRAt77Np+4jQf5x8nCDo2t\n",
              "1zQ0cfD8FcC++uMmGs2toyzq6rLIkJuhr5eWzfNi+GDxffTv60H5jUae23GaR7d+S05Z9U9+9sD5\n",
              "Mhqamgnr405UkH11VUxM/2H2nSuhscn+piZbSobcAmP6+5GwbBy/mzYQVxcN3+ZWMiP+EH/Yk3nb\n",
              "IbhbR1Xs9Q5uI/W++HlqqapvIiVXPTfBlSG3UC9nDU9PjGDfc+OJG+SPwSh48+AFpmxOajfZqd5g\n",
              "bD2baE+jKj/kpFGYPqTlCqUEFV3kbHbI9Xo9AwcOJCYmhpiYGHbs2GGNuhxGP1933n58JFseG8Fd\n",
              "OlcKr9ax6J1U/u3dVC7fvPQuKesKtY1Ggn3ciA7W2bjin2Y6XtibXkKTHV5NZQmLfvF+x44dxMTE\n",
              "dHEpjktRFKbdE8gDEX68npjN/x7O46tzpRzKLmf55AGcuXwdaOnz2mtXxeS+u33p7e7C1VoDx/Iq\n",
              "GRPhZ+uSOq3n3tbBCjy0zvzHzCh+PjyEF3ee5djFStYnZLa+bw8Tsu7E2UnD1MGB7EgtID4xm9RL\n",
              "V21dEgP8PVvH8S1hUcgXLlyIEILRo0ezYcMG+vbt226ZH/sRfqNRXScZbmdgoBc7norl4xOFrE/I\n",
              "pLKmkUBvV4b1623r0jpk5tAgdqQWcDSvkqN5tr8u9qGhQZ0Kudl3ZM7Pzyc0NBSDwcCqVatIS0tj\n",
              "9+7d7ZZbu3YtL730UpvXYmNjSUlJsbhYR3S1ppGPThQwSu/LsFDHCLkQLbe3uVRpHz/vHB2s49HR\n",
              "oRZ/vlO3HS8uLiYyMpLq6vZjxD+2J1+4cCHh4eGWrs6uGI1Gjh07xujRo297Bw1H5gjbFxYW1u5u\n",
              "gj/G7FscGgwGfHx8ANi0aRM7d+4kOTnZ4kIdVVVVFTqdjuvXr1t0u0d7p6btM6tPXlpaypw5czAa\n",
              "jQghCA8P591337VWbZLUJcwKeXh4OCdPnrRWLZJkFfKMp6R6MuQW0mq1rFmzpt1tHNVCTdvXqdEV\n",
              "SXIEck8uqZ4MuaR6MuSS6smQW0Bt042XLl2KXq9HURROnTrV+np2djZjxowhMjKSUaNGkZ6ebrsi\n",
              "O0NIZgsLCxMnT560dRldJikpSRQUFLTbrokTJ4pt27YJIYT46KOPxMiRI21TYCfJPbnEuHHjCAkJ\n",
              "afNaWVkZqampLFiwAIA5c+ZQUFBATk6OLUrsFBlyCy1cuJDo6GgWLVrElStXbF1OlysoKCAoKAhn\n",
              "55aT4oqiEBoaSn5+vo0rM58MuQWSk5M5c+YM3333HX5+fjz++OO2Lkn6CfLKIAuEhrbMbXZxcWH5\n",
              "8uVERkbauKKu169fP4qLi2lqasLZ2RkhROu1BI5G7snNVFNTw7Vr11qff/jhhwwbNsx2BVmJv78/\n",
              "w4cP57333gPgk08+ISQkhIiICBtXZj55Wt9Mubm57aYbx8fHo9frbV2axZ566im+/PJLSkpK6NOn\n",
              "D15eXuTk5HD+/HmeeOIJKioq8Pb2Ztu2bURHR9u6XLPJkEuqJ7srkurJkEuqJ0MuqZ4MuaR6MuSS\n",
              "6smQS6onQy6pngy5pHoy5JLqyZBLqidDLqne/wOvk62ciMNJVAAAAABJRU5ErkJggg==\n",
              "\">\n",
              "        \n",
              "      </div>\n",
              "      <script></script>\n",
              "      <script type=\"text/javascript\">\n",
              "        (() => {\n",
              "          const chartElement = document.getElementById(\"chart-b872f77e-cfdf-41a2-974f-8af342750f15\");\n",
              "          async function getCodeForChartHandler(event) {\n",
              "            const chartCodeResponse =  await google.colab.kernel.invokeFunction(\n",
              "                'getCodeForChart', [\"chart-b872f77e-cfdf-41a2-974f-8af342750f15\"], {});\n",
              "            const responseJson = chartCodeResponse.data['application/json'];\n",
              "            await google.colab.notebook.addCell(responseJson.code, 'code');\n",
              "          }\n",
              "          chartElement.onclick = getCodeForChartHandler;\n",
              "        })();\n",
              "      </script>\n",
              "      <style>\n",
              "        .colab-quickchart-chart-with-code  {\n",
              "            display: block;\n",
              "            float: left;\n",
              "            border: 1px solid transparent;\n",
              "        }\n",
              "\n",
              "        .colab-quickchart-chart-with-code:hover {\n",
              "            cursor: pointer;\n",
              "            border: 1px solid #aaa;\n",
              "        }\n",
              "      </style>"
            ]
          },
          "metadata": {}
        },
        {
          "output_type": "display_data",
          "data": {
            "text/plain": [
              "<google.colab._quickchart_helpers.SectionTitle at 0x7dde641abfa0>"
            ],
            "text/html": [
              "<h4 class=\"colab-quickchart-section-title\">Distributions</h4>\n",
              "<style>\n",
              "  .colab-quickchart-section-title {\n",
              "      clear: both;\n",
              "  }\n",
              "</style>"
            ]
          },
          "metadata": {}
        },
        {
          "output_type": "display_data",
          "data": {
            "text/plain": [
              "import numpy as np\n",
              "from google.colab import autoviz\n",
              "df_8785923528690381692 = autoviz.get_registered_df('df_8785923528690381692')\n",
              "\n",
              "def histogram(df, colname, num_bins=20, figsize=(2, 1)):\n",
              "  from matplotlib import pyplot as plt\n",
              "  _, ax = plt.subplots(figsize=figsize)\n",
              "  plt.hist(df[colname], bins=num_bins, histtype='stepfilled')\n",
              "  plt.ylabel('count')\n",
              "  plt.title(colname)\n",
              "  ax.spines[['top', 'right',]].set_visible(False)\n",
              "  plt.tight_layout()\n",
              "  return autoviz.MplChart.from_current_mpl_state()\n",
              "\n",
              "chart = histogram(df_8785923528690381692, *['Age'], **{})\n",
              "chart"
            ],
            "text/html": [
              "      <div class=\"colab-quickchart-chart-with-code\" id=\"chart-db95343e-87a8-4923-bcea-cae3c4813127\">\n",
              "        <img src=\"data:image/png;base64,iVBORw0KGgoAAAANSUhEUgAAAMQAAABgCAYAAABCK92TAAAAOXRFWHRTb2Z0d2FyZQBNYXRwbG90\n",
              "bGliIHZlcnNpb24zLjcuMSwgaHR0cHM6Ly9tYXRwbG90bGliLm9yZy/bCgiHAAAACXBIWXMAAA9h\n",
              "AAAPYQGoP6dpAAAJjUlEQVR4nO3da0gUbRsH8P+Ypw7qblqutKmUu0YlWaRpJ7B6qHwjNb9V5Eah\n",
              "EJhlFEVIZVARFW3B1jcrConSIpCg8oNRGp5rqbSVDrthupm6Rmrier8fonlG0qdGd3Z2p+sHA85h\n",
              "3etW/94zs/fMcIwxBkIIAMBH7gII8SQUCEIEKBCECFAgCBGgQBAiQIEgRIACQYgABYIQAQoEIQIU\n",
              "CEIEKBAeqqioCBzH4eDBg3KX8lfhaCyTZ0pISMC7d+/g4+MDm82GgIAAuUv6K1AP4YFqampQW1uL\n",
              "69evw+Fw4NatW/y6r1+/wmAwIDQ0FFqtFkajEVqtFleuXOG3aWpqwoYNGxAeHo4ZM2Zg165d+Pbt\n",
              "mwwt8T4UCA9kMpkQHx+PdevWISMjAyaTiV+Xl5eHV69ewWw2482bNzCbzWhvb+fXd3R0YMWKFVi9\n",
              "ejWsViueP3+ON2/eYM+ePTK0xAsx4lE6OzvZxIkTmclkYowxVl5ezgCwxsZGNjg4yPz9/VlZWRm/\n",
              "vcPhYD4+PqyoqIgxxtjZs2dZUlLSsO/55MkT5u/vzwYHB93WDm9FPYSH+XkwvWXLFgBASkoKYmJi\n",
              "YDKZ0NHRgYGBAURFRfHbBwcHQ61W8/MWiwV1dXVQqVT8lJqaCo7j0NbW5vb2eBsKhAdhjOHy5csY\n",
              "GBiAXq+HRqNBREQEPn78iBs3biAwMBD+/v748OED/5qenh50dXXx8xqNBsuXL0d3dzc/ORwO9Pf3\n",
              "Y8aMGXI0y6tQIDzIw4cPYbFY8ODBAzQ2NvLTixcvAADXrl3D5s2bUVhYiE+fPqG3txf79++Hj8+/\n",
              "v8bt27ejoaEBJpMJvb29YIzBZrPh7t27MrXKu1AgPMilS5ewZs0apKSkQKPR8JNOp8POnTtx6dIl\n",
              "GI1G6PV6zJs3DzqdDnPnzsXUqVMRGBgIAIiMjERVVRUePnyI2bNnQ6VSYe3atTCbzTK3zjvQ5xBe\n",
              "rqurC6GhoXj69CmSk5PlLsfrUQ/hZaxWKyoqKuB0OvHlyxfs2rULOp0OCQkJcpemCBQILzMwMIDc\n",
              "3FyoVCrodDp0d3fj3r178PX1lbs0RaBdJkIEqIcgRIACQYiAZIHo7+9Heno69Ho9FixYgH/++Qct\n",
              "LS1SvR0hLiFpD5GdnY3m5mY8f/4caWlp2Llzp5RvR8i4SRaIwMBAfgwNACQlJeH9+/d//Hqj0ShR\n",
              "ZYSMzm3n6oxGI9LS0kZc9/37d3z//n3Ysrdv37qjLEKGcUsgTpw4gZaWFpSXl4+4/uTJkzh27Niw\n",
              "ZUlJSe4ozaNEHywbcfn7U/9zcyWeTcqfk+Rnmc6cOYPS0lLcv38fkyZNGnGbQ4cOweFwDJsSExOl\n",
              "Lo2QX0jaQ5w7dw7FxcV49OgRVCrVqNsFBAT8cs3whAkTpCyNkBGJ7iF+DkX+3bKPHz9i37596O7u\n",
              "RkpKCuLj47FkyZKxVUmIm4juIQwGA+rr63+7TKvVgkaFEG/zx4Gw2+1oa2tDX18fzGYz/8fucDjo\n",
              "jg5EMf44EMXFxTh//jxaW1uxceNGfnlISAgOHDggSXGEuNsfByIvLw95eXk4fvw4CgoKpKyJENmI\n",
              "PoYoKCjA0NAQ2traMDg4yC+PjIx0aWGEyEF0IK5evYrc3Fz4+fnxF7dzHAe73e7y4ghxN9GBKCws\n",
              "RE1NDWJjY6WohxBZif4cIiwsjMJAFEt0INLT03H+/HnY7Xb09PTwEyFKIHqX6fDhwwCA/Px8cBwH\n",
              "xhg4joPT6XR5cYS4m+hADA0NSVEHIR6BrqkmREB0D+Hj48NfBSdEu0xECUQH4uvXr/zXfX19uHbt\n",
              "GoWBKIboQEyePHnY1/n5+ViyZAn279/v0sL+y2hXTAFju2rK1d/PUyi1XVIa9zFEU1MTOjo6XFEL\n",
              "IbIT3UOo1Wr+GOLnWKaLFy+6tipCZCI6EI2Njf++2NcXGo2GLvckiiE6EFFRUejt7eWDoVarR715\n",
              "ACHeRnQgKisrkZmZCY1GAwBob29HSUkJPayDKILoQOTn5+P27dtYtmwZgB8B2bt3L549e+by4ghx\n",
              "N9Fnmfr6+vgwAMDSpUvR39/v0qIIkYvoQEyZMgWPHj3i58vLy4d9NkGINxO9y3ThwgVs2rSJP7M0\n",
              "NDSE0tJSlxdGiBxEB6K1tRW1tbVob28HAISHh6O6utrlhREiB9G7TAUFBZg2bRrmz5+P+fPnIyws\n",
              "jO7CQRRj3EM36OIgoiSiAxEUFITKykp+/unTpwgKCnJpUYTIRfQxxOnTp5GRkYE5c+YAACwWC+7c\n",
              "uTPithaLBVlZWejo6EBISAiuXLmCefPmja9iQiQkOhDJycl4/fo1qqqqAPz4HGK0W93n5OQgOzsb\n",
              "BoMBt2/fhsFgQE1NzbgKJkRKYzqGUKvVSE1NRWpq6qhhsNvtqK2txdatWwEAmZmZsNls9CRS4tEk\n",
              "e2CKzWZDREQEfH1/vAXHcYiMjITVakVMTMywbUd6xhwdqBM5cEyihzjU1dVh8+bNaG5u5pclJibi\n",
              "1KlTWLVq1bBtjx49+ssz5ubMmYP169dLUZpLOJ1OVFdXIzExUZHD35XWvqioKOTl5f12O8kCYbfb\n",
              "ERMTg87OTvj6+oIxhoiICDx58uSPeoiRHrPlSXp6ehASEgKHw4Hg4GC5y3E5pbdvNJLdhmb69OlY\n",
              "tGgRrl+/DgAoKSmBVqv9JQzAjz/+4ODgYZMnh4Eol2Q9BAA0NzfDYDDgy5cvCA4ORlFREeLi4qR6\n",
              "O7dS+n9QpbdvNJI+hTQ2NpY/PUuIN6A7941RQEAAjhw5othdO6W3bzSS7jIR4m2ohyBEgAJBiAAF\n",
              "ghABCsQYREdHIzY2FvHx8YiPj8fNmzflLmlcdu/ejejoaHAcN+xGdBaLBUuXLoVer0dCQgJevnwp\n",
              "X5HuwohoUVFRrKGhQe4yXKaiooLZbLZf2pWSksKKiooYY4zdunWLLV68WJ4C3Yh6CIKVK1dCq9UO\n",
              "W/a3jlamQIzRtm3bEBcXhx07duDz589yl+Ny/zVaWckoEGPw+PFjvHjxAvX19QgLC0NWVpbcJREX\n",
              "kXTohlJFRkYCAPz8/LBnzx7o9XqZK3K9mTNn4tOnTxgcHORHK1utVr7tSkU9hEjfvn1Dd3c3P19c\n",
              "XIyFCxfKV5BExIxWVhIauiHS27dvkZmZCafTCcYYZs2aBaPRiOjoaLlLG7OcnByUlZWhra0NoaGh\n",
              "CAoKQktLi6JHK4+GAkGIAO0yESJAgSBEgAJBiAAFghABCgQhAhQIQgQoEIQIUCAIEaBAECJAgSBE\n",
              "gAJBiMD/AWGvHMFN8YkNAAAAAElFTkSuQmCC\n",
              "\">\n",
              "        \n",
              "      </div>\n",
              "      <script></script>\n",
              "      <script type=\"text/javascript\">\n",
              "        (() => {\n",
              "          const chartElement = document.getElementById(\"chart-db95343e-87a8-4923-bcea-cae3c4813127\");\n",
              "          async function getCodeForChartHandler(event) {\n",
              "            const chartCodeResponse =  await google.colab.kernel.invokeFunction(\n",
              "                'getCodeForChart', [\"chart-db95343e-87a8-4923-bcea-cae3c4813127\"], {});\n",
              "            const responseJson = chartCodeResponse.data['application/json'];\n",
              "            await google.colab.notebook.addCell(responseJson.code, 'code');\n",
              "          }\n",
              "          chartElement.onclick = getCodeForChartHandler;\n",
              "        })();\n",
              "      </script>\n",
              "      <style>\n",
              "        .colab-quickchart-chart-with-code  {\n",
              "            display: block;\n",
              "            float: left;\n",
              "            border: 1px solid transparent;\n",
              "        }\n",
              "\n",
              "        .colab-quickchart-chart-with-code:hover {\n",
              "            cursor: pointer;\n",
              "            border: 1px solid #aaa;\n",
              "        }\n",
              "      </style>"
            ]
          },
          "metadata": {}
        },
        {
          "output_type": "display_data",
          "data": {
            "text/plain": [
              "import numpy as np\n",
              "from google.colab import autoviz\n",
              "df_8785923528690381692 = autoviz.get_registered_df('df_8785923528690381692')\n",
              "\n",
              "def histogram(df, colname, num_bins=20, figsize=(2, 1)):\n",
              "  from matplotlib import pyplot as plt\n",
              "  _, ax = plt.subplots(figsize=figsize)\n",
              "  plt.hist(df[colname], bins=num_bins, histtype='stepfilled')\n",
              "  plt.ylabel('count')\n",
              "  plt.title(colname)\n",
              "  ax.spines[['top', 'right',]].set_visible(False)\n",
              "  plt.tight_layout()\n",
              "  return autoviz.MplChart.from_current_mpl_state()\n",
              "\n",
              "chart = histogram(df_8785923528690381692, *['Weight'], **{})\n",
              "chart"
            ],
            "text/html": [
              "      <div class=\"colab-quickchart-chart-with-code\" id=\"chart-2ea5ba76-532b-4ca7-85ea-8d7cf44e9801\">\n",
              "        <img src=\"data:image/png;base64,iVBORw0KGgoAAAANSUhEUgAAAMQAAABgCAYAAABCK92TAAAAOXRFWHRTb2Z0d2FyZQBNYXRwbG90\n",
              "bGliIHZlcnNpb24zLjcuMSwgaHR0cHM6Ly9tYXRwbG90bGliLm9yZy/bCgiHAAAACXBIWXMAAA9h\n",
              "AAAPYQGoP6dpAAALfElEQVR4nO3de0xbdRsH8O8BJkNuReZgslGijBElYnZhBaKFjdbQNwqCfxim\n",
              "kUTFsDiJGJfXKHGiwcUsZEjUoIl1yxJixkUzmTOHuotuzgFeNo2QEq1UV2iIAYYDBu3z/rF3fU+3\n",
              "snGgp2ft+3ySJvTXw6/Pr+2359JzEYiIwBgDAISpXQBjNxMOBGMSHAjGJDgQjElwIBiT4EAwJsGB\n",
              "YEyCA8GYBAeCMQkORJCKiYnBsWPHFjx9QUEBXn31VeUKChEciABobm5GcnIypHvJfPXVVxAEAfX1\n",
              "9V7TlpWVYdu2bTfsc3JyEgUFBX6r8dixYxAEAXNzc37rMxhxIALAYDBgZGQE586d87SJooisrCx0\n",
              "d3d72lwuF44ePQqj0ahGmQwciIDIzMxEamoqRFH0tImiiF27dqGvrw+Tk5MAgJ6eHoyNjaGoqAjf\n",
              "ffcdCgoKkJiYCK1Wi7q6Oq9vb0EQvMJkNpuRnp6O2NhYlJWV4bnnnrtmDnLhwgVUVFQgPj4ea9as\n",
              "wfvvvw8AGBoaQnFxMQBAo9EgJiYGDQ0NSr0cNzdiAfHUU0/Rgw8+SEREo6OjFBUVRRcvXqT8/Hw6\n",
              "dOgQERHV19fT3XffTf39/RQdHU2tra00OztLNpuN7r33XnrzzTc9/QEgURSJiOj48eN0yy230OHD\n",
              "h2lubo66urooKiqK9Hq9Z3q9Xk9xcXFksVjI5XJRW1sbhYWFkdVqJSKio0ePEgCanZ0N0Ctyc+I5\n",
              "RIAYjUacOHECMzMzsFgs0Ol0iIqKQlFRkWfOIYoijEYj3n33XTz00EN47LHHEBERAa1Wi507d8Js\n",
              "Nvvse//+/SgpKUFxcTHCw8NhMplgMpmuma68vBxbtmxBWFgYysvLcdttt6Gvr0/RcQcbDkSAbN26\n",
              "FTMzMzh58iREUURRUZGnXRRFTE5O4vTp0zAYDLBarejs7IRGo/HcqqurMTw87LPvv/76C1qt1qst\n",
              "LS3tmunuuOMOr/vR0dG4cOGCfwYYIjgQAZKYmIj169dDFEWvQOh0Otjtdhw4cACCIECv1yM5ORkV\n",
              "FRUYGxvz3CYmJjzrGldLSUnBH3/84dV29f0bCQvjjwLAgQgoo9GIffv2YXx8HBs3bgQALFu2DPff\n",
              "fz/q6+uRl5eH6OhobN++HW1tbTh48CAuXboEl8uFwcFBHDlyxGe/TzzxBD777DN8+eWXcLlcOHLk\n",
              "CA4fPiyrtuTkZADAwMDA0gYZ5DgQAWQ0GuFwOFBYWOj1jVxUVASHwwGDwQAA2LRpE0RRxIcffoiU\n",
              "lBQkJibi0UcfnfdbX6/X47333sP27duh0WjQ0tKCbdu2Yfny5QuuLSMjAzt27EBhYSE0Gg127969\n",
              "tMEGKYGIj6kORaWlpUhKSkJLS4vapQQVnkOEiPb2dkxMTGB2dhaffPIJPv/88wX94s28RahdAPOP\n",
              "Q4cO4ZlnnsGlS5eg1Wrx0Ucf4YEHHlC7rKDDi0yMSfAiE2MSHAjGJBQLxPT0NEpLS5GRkYHs7GwY\n",
              "DAYMDg4q9XSM+YWic4iqqioMDAzgp59+QklJCZ5++mkln46xJVMsEMuXL4fJZIIgCAAu76Jgs9kW\n",
              "/P9NTU0KVcbY/AK22bWpqQklJSU+H5uZmcHMzIxX22+//RaIshjzEpBANDQ0YHBwEBaLxefjb731\n",
              "Fl5//XWvNp1OF4jSbijt313zPmbb/a8AVsKumO898cf7ofhWpj179qCjowNffPEFbr31Vp/TvPzy\n",
              "yxgfH/e65eTkKF0aY9dQdA7R2NiI1tZWdHd3Q6PRzDtdZGQkIiMjvdrCw8OVLI0xn2TPIc6ePbug\n",
              "tj///BMvvvgixsbGUFhYiPvuuw+bN29eXJWMBYjsOURlZSW+//77G7atXr0avFcICzYLDoTT6cTw\n",
              "8DCmpqZw7tw5z4d9fHwc//zzj2IFMhZICw5Ea2sr9u7di/Pnz+Phhx/2tMfHx2Pnzp2KFMdYoC04\n",
              "EDU1NaipqcEbb7yBuro6JWtiTDWy1yHq6urgdrsxPDzsdeKs1NRUvxbGmBpkB2Lfvn3YsWMHli1b\n",
              "5jkuWBAEOJ1OvxfHWKDJDkR9fT16enqwbt06JephTFWyf4dYsWIFh4GFLNmBKC0txd69e+F0OjEx\n",
              "MeG5MRYKZC8yvfLKKwCA2tpaCIIAIoIgCHC5XH4vjrFAkx0It9utRB2M3RT4mGrGJGTPIcLCwjxH\n",
              "wUnxIhMLBbIDIT19+tTUFPbv389hYCFDdiCio6O9/q6trcXmzZvx0ksv+bWw6wnVo9iUPBJMLcH2\n",
              "Xi15HaK/vx+jo6P+qIUx1cmeQyQkJHjWIa7sy9Tc3OzfqhhTiexA/Pjjj//754gIJCcn8+GeLGTI\n",
              "DoRWq8XFixc9wUhISJj35AGMBRvZgTh16hTKy8s9l2AaGRlBe3s7cnNz/V4cY4EmOxC1tbVoa2tD\n",
              "fn4+gMsBeeGFF3D69Gm/F8dYoMneyjQ1NeUJAwDk5eVhenrar0UxphbZgYiJiUF3d7fnvsVi8fpt\n",
              "grFgJnuR6Z133kFZWZlny5Lb7UZHR4ffC2NMDbIDcf78efT29mJkZAQAkJSUhDNnzvi9MMbUIHuR\n",
              "qa6uDrfffjuysrKQlZWFFStW8Fk4WMhY8q4bfHAQCyWyAxEbG4tTp0557p88eRKxsbF+LYoxtche\n",
              "h3j77bfxyCOPIDMzEwBgtVrR2dnpc1qr1Yonn3wSo6OjiI+Px8cff4x77rlnaRUzpiDZgcjNzcWv\n",
              "v/6Kb7/9FsDl3yHmO9X9s88+i6qqKlRWVqKtrQ2VlZXo6elZUsGMKWlR6xAJCQkwmUwwmUzzhsHp\n",
              "dKK3txePP/44AKC8vBx2u52vRMpuaopdMMVut2PVqlWIiLj8FIIgIDU1FUNDQ0hPT/ea1tc15nhF\n",
              "nalBIIUu4tDX14eKigoMDAx42nJycrB7925s2bLFa9pdu3Zdc425zMxMFBcXK1HagrlcLpw5cwY5\n",
              "OTkhtYt7KI7rRmPSarWoqam5YT+KBcLpdCI9PR1///03IiIiQERYtWoVvvnmmwXNIXxdZivQJiYm\n",
              "EB8fj/HxccTFxalaiz+F4rj8NSbFTkOzcuVKrF+/HgcOHAAAtLe3Y/Xq1deEAbj84Y+Li/O6qR0G\n",
              "9v9J0YsutrS0oLKyEg0NDYiLi4PZbFby6RhbMkUDsW7dOs/mWcaCAZ+57zoiIyPx2muvhdziWyiO\n",
              "y19jUmylmrFgxHMIxiQ4EIxJcCAYk+BA/Nfzzz+PtLQ0CILgdTI2q9WKvLw8ZGRkYNOmTfjll1/U\n",
              "K3IRfI1renoapaWlyMjIQHZ2NgwGQ1DtYzbfe3WF2WyGIAj49NNP5XdOjIiIjh8/Tna7nbRaLf3w\n",
              "ww+e9sLCQjKbzUREdPDgQdq4caM6BS6Sr3FNTU1RV1cXud1uIiJqbm4mvV6vXpEyzfdeERH9/vvv\n",
              "lJubSzqdjjo7O2X3zYG4ivRFHhkZodjYWJqdnSUiIrfbTUlJSWS1WlWscHF8fXiu6OnpIa1WG9B6\n",
              "/OHqMblcLtq6dSv19vaSXq9fVCB4kek6rrfHbihpampCSUmJ2mUsWWNjI/Lz87Fhw4ZF96HoL9Xs\n",
              "5tfQ0IDBwUFYLBa1S1mSn3/+Ge3t7Thx4sSS+uFAXMeaNWvgcDgwNzfn2WN3aGgIqampapfmF3v2\n",
              "7EFHRwe6u7uD/oTVX3/9NWw2G9auXQsAGB4eRlVVFRwOB6qrqxfcDy8yXYecPXaDTWNjI1pbWyGK\n",
              "4rxHPQaT6upqOBwO2Gw22Gw26HQ6fPDBB7LCAIC3Ml1RVVVFKSkpFB4eTitXrqS77rqLiIj6+/tJ\n",
              "p9PR2rVracOGDXT27FmVK5XH17jsdjsBoDvvvJOys7MpOzubcnJy1C51weZ7r6QWu1LN+zIxJsGL\n",
              "TIxJcCAYk+BAMCbBgWBMggPBmAQHgjEJDgRjEhwIxiQ4EIxJcCAYk+BAMCbxHz0Y5xFCUQgqAAAA\n",
              "AElFTkSuQmCC\n",
              "\">\n",
              "        \n",
              "      </div>\n",
              "      <script></script>\n",
              "      <script type=\"text/javascript\">\n",
              "        (() => {\n",
              "          const chartElement = document.getElementById(\"chart-2ea5ba76-532b-4ca7-85ea-8d7cf44e9801\");\n",
              "          async function getCodeForChartHandler(event) {\n",
              "            const chartCodeResponse =  await google.colab.kernel.invokeFunction(\n",
              "                'getCodeForChart', [\"chart-2ea5ba76-532b-4ca7-85ea-8d7cf44e9801\"], {});\n",
              "            const responseJson = chartCodeResponse.data['application/json'];\n",
              "            await google.colab.notebook.addCell(responseJson.code, 'code');\n",
              "          }\n",
              "          chartElement.onclick = getCodeForChartHandler;\n",
              "        })();\n",
              "      </script>\n",
              "      <style>\n",
              "        .colab-quickchart-chart-with-code  {\n",
              "            display: block;\n",
              "            float: left;\n",
              "            border: 1px solid transparent;\n",
              "        }\n",
              "\n",
              "        .colab-quickchart-chart-with-code:hover {\n",
              "            cursor: pointer;\n",
              "            border: 1px solid #aaa;\n",
              "        }\n",
              "      </style>"
            ]
          },
          "metadata": {}
        },
        {
          "output_type": "display_data",
          "data": {
            "text/plain": [
              "import numpy as np\n",
              "from google.colab import autoviz\n",
              "df_8785923528690381692 = autoviz.get_registered_df('df_8785923528690381692')\n",
              "\n",
              "def histogram(df, colname, num_bins=20, figsize=(2, 1)):\n",
              "  from matplotlib import pyplot as plt\n",
              "  _, ax = plt.subplots(figsize=figsize)\n",
              "  plt.hist(df[colname], bins=num_bins, histtype='stepfilled')\n",
              "  plt.ylabel('count')\n",
              "  plt.title(colname)\n",
              "  ax.spines[['top', 'right',]].set_visible(False)\n",
              "  plt.tight_layout()\n",
              "  return autoviz.MplChart.from_current_mpl_state()\n",
              "\n",
              "chart = histogram(df_8785923528690381692, *['Length'], **{})\n",
              "chart"
            ],
            "text/html": [
              "      <div class=\"colab-quickchart-chart-with-code\" id=\"chart-e2a8b59f-d77e-45fa-ad08-f4651ca39cac\">\n",
              "        <img src=\"data:image/png;base64,iVBORw0KGgoAAAANSUhEUgAAAM8AAABgCAYAAAC6yyZkAAAAOXRFWHRTb2Z0d2FyZQBNYXRwbG90\n",
              "bGliIHZlcnNpb24zLjcuMSwgaHR0cHM6Ly9tYXRwbG90bGliLm9yZy/bCgiHAAAACXBIWXMAAA9h\n",
              "AAAPYQGoP6dpAAAMYUlEQVR4nO3dfUxb5R4H8G+hpMCAAukGDCyVdUUILxvK5CUqG9EoNzJkQbdp\n",
              "1Gxj448ZkMV6FwSyeYW5yN5jxswyNWqjYahzN2YJxGXMOTcyzZaFCa1Ax1peNiMQKFja5/5BONdK\n",
              "YT1nLX3h90lORk8fzvmdJ/3unJanzxExxhgIIbz5ubsAQrwVhYcQgSg8hAhE4SFEIAoPIQJReAgR\n",
              "iMJDiEAUHkIEovAQIhCFh9yXSCRCS0uLu8vwOBQeD5OXl4d33nnHLfv++OOPERcX55Z9eyMKDyEC\n",
              "UXi8hMViQUNDA5KSkiCVSvHoo4+itbWVe37mrNHY2AiFQgGpVIqSkhKMjIxwbbq6urB27VqEhYUh\n",
              "KSkJH330EUQiEXp6etDW1oaysjIYDAaEhIQgJCQEn3/+Ofe7HR0dyM3NRUhICFJTU3Hx4sUFPX6P\n",
              "xIhHeeqpp1hVVdWs9bW1tSw9PZ3dunWLWSwW1tzczIKDg5lWq2WMMXbq1Cnm7+/PKioq2Pj4ODMY\n",
              "DEypVLKamhrGGGNms5mpVCpWWlrKxsbGWF9fH8vKymIAWHd3N7eN2NjYWfsGwNLS0lhXVxczm82s\n",
              "vLycyeVy13WCl6Azj5c4ePAg3n//fSQmJsLPzw8vvPACcnJyoNFouDZisRj79+9HUFAQYmJiUFRU\n",
              "hCtXrgAALl++DK1Wi4aGBgQHByM2NhZVVVUO73/Xrl1QKpUQi8UoLS2FXq/HwMCA04/Tm4jdXQC5\n",
              "v4GBAYyMjKCkpAR+fv///85sNkOpVHKPZTIZAgICuMdLlizB6OgoAODOnTuIjIxEaGgo97xCoXC4\n",
              "huXLl9tsFwBGR0cRFRXF+3h8BYXHC4SHhyMwMBBnz57Fk08+KWgbsbGx+OOPPzA6OsoFqLe316bN\n",
              "34NJ7o96ywNZLBZMTExwC2MMZWVlUKvV6OjoAGMMJpMJFy5cQGdnp0PbzMrKwooVK6BWqzE+Pg6D\n",
              "wYC6ujqbNtHR0bh79y7u3bvnisPyORQeD7Rv3z4EBQXZLM8++yw2bdqEkpIShIeHQ6FQoL6+Hmaz\n",
              "2aFtisVifPfdd+jo6EBUVBTy8/OxefNmAEBgYCAAYN26dVi/fj1UKhXCw8PxxRdfuOwYfYGIMZrD\n",
              "YLH65ptvsHHjRphMJohEIneX43XozLOI/PTTT+js7ARjDL/99htqamqwefNmCo5AFJ5FxGg04pln\n",
              "nsGSJUuQn5+PrKwsHDx40N1leS26bCNEIDrzECIQhYcQgSg8hAhE4SFEIJ8Iz+HDh91dAlmEfCI8\n",
              "/xyjRchCoIGhxCcp/v1fu+t79v3LafvwiTMPIe5A4SFEIN7huX79ukPrCPF1vMPz+uuvO7SOEF/n\n",
              "8AcGg4OD6O/vh8lkwo0bNzAzJG54eBhjY2MuK5AQT+VweDQaDQ4dOgSDwYDCwkJuvVQqhVqtdklx\n",
              "hHgyh8NTXl6O8vJyvPvuu6iurnZlTYR4Bd5/56murobVakV/fz+mpqa49XK53KmFEeLpeIfnk08+\n",
              "wRtvvIGAgAButhWRSITBwUGnF/eg5vpDGeDcP5aRxYn3p2179+7F1atXce/ePQwNDWFoaMhucCYm\n",
              "JlBUVASVSoX09HQ8/fTT0Gq1s9r19PTA398fq1at4hadTifsaAhZQLzPPDKZDImJiQ613b59O557\n",
              "7jmIRCIcO3YM27Ztw/nz52e1Cw0Nxa+//sq3FELciveZp6ioCIcOHcLg4CBGRka45Z8CAwNRUFDA\n",
              "TS6RlZWFnp6eBy6YEE/B+8wzM79xZWUlRCIRGGMQiUSwWCzz/t7hw4exfv16u8+NjY0hMzMTFosF\n",
              "RUVFqKqqgr+/v922k5OTmJyctFl3v30T4gq8zzxWq5VbLBYL9+986urqoNVqUV9fP+u5mJgY3Llz\n",
              "B1evXkVLSwva2trQ0NAw57bq6+shlUptlpnJzAlZSC4fGPrBBx+gubkZ33//PYKDg2c9L5FIsGzZ\n",
              "MgBAZGQktmzZgra2tjm3t3v3bgwPD9ssa9ascVn9hMyF92Wbn5+f3Uny7J19Dhw4AI1Gg5aWFoSH\n",
              "h9vd3uDgICIiIhAQEIDJyUk0Nzdj9erVc+5fIpFAIpHYrJvrEo8QV+IdnplbVgCAyWTCp59+ajc4\n",
              "fX192LVrFxISErB27VoA0y/8n3/+GTU1NVi+fDnKyspw8eJF1NTUwN/fH1NTU1i3bh2v+8YQ4i68\n",
              "wzNzb5aZnysrK/H444/jrbfesmkXFxeHueZT3Lt3L/dzcXExiouL+ZZBiNs98HueW7du4e7du86o\n",
              "hRCvwvvMExERwb3nmRnbdvToUedWRYgX4B2ev48EEIvFiI6OpjfsZFHiHZ74+HiMj49zIYqIiLD7\n",
              "ETQhvo53eC5duoQNGzYgOjoawPTNZk+fPo3s7GynF0eIJ+MdnsrKSjQ1NSE3NxfAdJjefPNNXL58\n",
              "2enFEeLJeH/aZjKZuOAAQE5ODiYmJpxaFCHegHd4QkJC0NLSwj1ubW21+dsPIYsF78u2I0eOoLi4\n",
              "mPuEzWq1orm52emFEeLpeIfHYDCgvb0dAwMDAICoqCga1UwWJd6XbdXV1Vi6dClSUlKQkpICmUxG\n",
              "s+mQRemBh+c48kU4QnwR7/CEhobi0qVL3OMff/wRoaGhTi2KEG/AOzz79+9HcXEx8vLykJeXhxdf\n",
              "fBEHDhyw27arqws5OTlQqVTIzMzEzZs37bY7efIkVq5ciRUrVqC0tBRms5lvWYQsON7hyc7ORkdH\n",
              "B9RqNdRqNW7evDnnNzl37NiB7du3o7OzE2+//bbdCeG7u7tRXV2NtrY2aLVaDAwM4MSJE7wPhJCF\n",
              "Jug9T0REBAoKClBQUDDvN0Tb29vxyiuvAAA2bNiA27dvz5q7rampCYWFhYiOjoZIJEJZWRk0Go2Q\n",
              "sghZUC67reLt27cRExMDsXh6FyKRCHK5HHq9Hkqlkmun1+sRHx/PPVYoFNDr9XNul2bPIZ7C6+5J\n",
              "Wl9fjz179tise+SRR1BZWWmzzmKxIObKFaxZs8buVyYqK1tdWqcnsVgsuDJPX/gie99NtlgsyM7+\n",
              "z5z9EB8fj/Lycof34bLwPPTQQzAajZiamoJYLAZjDHq9ftaE8HK53GZ63Z6ennknjd+9e/esoNib\n",
              "FGRkZARSqRTnzp1DWFiYE47Ie1FfTHN2P7hs6qlly5YhIyMDn332GQDg9OnTiIuLs7lkA6bfC505\n",
              "cwb9/f1gjOH48ePYuHHjnNuVSCQICwuzWf4ZHEIWgkvnbWtsbERjYyNUKhX27duHU6dOAQC2bduG\n",
              "M2fOAAASEhKwZ88e5ObmQqlUYunSpdixY4cryyLEKURsriluvNzMKXp4eHhRX6oA1BcznN0PPnsr\n",
              "eYlEgtraWrqkA/XFDGf3g8+eeQhxNZ898xDiahQeQgSi8BAikNeHR6FQIDExkbuf6Zdffmm33WIY\n",
              "ue1IX5w/fx5BQUE294A1mUxuqNZ1JicnsXPnTqxcuRKpqanc+Mp/euDXBPNy8fHx7Jdffpm3ze+/\n",
              "/85iYmKY0WhkVquVPf/88+zYsWMLU+ACcqQvfvjhB5aenr4g9bhLRUUF27lzJ7NarYwxxoxG46w2\n",
              "znhNeP2ZxxE0cnvxGBsbw8mTJ/Hee+9xc6rPTND5d854TfhEeF599VWkpqZi69atGBoamvU835Hb\n",
              "3ux+fQEAOp0OGRkZyMzMxIcffrjAFbqWTqdDZGQk6urq8Nhjj+GJJ55Aa+vsQcDOeE14fXguXLiA\n",
              "69ev49q1a5DJZHjttdfcXZLbONIXGRkZ6Ovrw7Vr1/D111/j+PHj+Oqrr9xQrWtMTU2ht7cXycnJ\n",
              "aG9vx5EjR/DSSy9xsz05k9eHZ2YEdkBAACoqKuzez1Qul6O3t5d7fL+R297Kkb4ICwuDVCoFMH0D\n",
              "sk2bNs17D1hvI5fL4efnh5dffhkAsHr1ajz88MO4cePGrHYP+prw6vCMjY3hzz//5B5rNBq79zPl\n",
              "O3LbGznaF0ajEVarFcD0LTLPnj077z1gvY1MJkN+fj7OnTsHYPpr/t3d3UhKSrJp55TXhBM+3HAb\n",
              "nU7HVq1axVJTU1lKSgorLCxk3d3djDHGtm7dyr799luu7YkTJ1hCQgJLSEhgW7ZsYX/99ZebqnYN\n",
              "R/vi6NGjLDk5maWlpbHk5GRWW1vLfSrlK3Q6HcvLy2MpKSksLS2NNTU1Mcac/5qgsW2ECOTVl22E\n",
              "uBOFhxCBKDyECEThIUQgCg8hAlF4CBGIwkOIQBQeQgSi8BAiEIWHEIEoPIQI9D+ZGheHFU7j/QAA\n",
              "AABJRU5ErkJggg==\n",
              "\">\n",
              "        \n",
              "      </div>\n",
              "      <script></script>\n",
              "      <script type=\"text/javascript\">\n",
              "        (() => {\n",
              "          const chartElement = document.getElementById(\"chart-e2a8b59f-d77e-45fa-ad08-f4651ca39cac\");\n",
              "          async function getCodeForChartHandler(event) {\n",
              "            const chartCodeResponse =  await google.colab.kernel.invokeFunction(\n",
              "                'getCodeForChart', [\"chart-e2a8b59f-d77e-45fa-ad08-f4651ca39cac\"], {});\n",
              "            const responseJson = chartCodeResponse.data['application/json'];\n",
              "            await google.colab.notebook.addCell(responseJson.code, 'code');\n",
              "          }\n",
              "          chartElement.onclick = getCodeForChartHandler;\n",
              "        })();\n",
              "      </script>\n",
              "      <style>\n",
              "        .colab-quickchart-chart-with-code  {\n",
              "            display: block;\n",
              "            float: left;\n",
              "            border: 1px solid transparent;\n",
              "        }\n",
              "\n",
              "        .colab-quickchart-chart-with-code:hover {\n",
              "            cursor: pointer;\n",
              "            border: 1px solid #aaa;\n",
              "        }\n",
              "      </style>"
            ]
          },
          "metadata": {}
        },
        {
          "output_type": "display_data",
          "data": {
            "text/plain": [
              "<google.colab._quickchart_helpers.SectionTitle at 0x7dde641edfc0>"
            ],
            "text/html": [
              "<h4 class=\"colab-quickchart-section-title\">Categorical distributions</h4>\n",
              "<style>\n",
              "  .colab-quickchart-section-title {\n",
              "      clear: both;\n",
              "  }\n",
              "</style>"
            ]
          },
          "metadata": {}
        },
        {
          "output_type": "display_data",
          "data": {
            "text/plain": [
              "import numpy as np\n",
              "from google.colab import autoviz\n",
              "df_8785923528690381692 = autoviz.get_registered_df('df_8785923528690381692')\n",
              "\n",
              "def categorical_histogram(df, colname, figsize=(2, 1.2), mpl_palette_name='Dark2'):\n",
              "  from matplotlib import pyplot as plt\n",
              "  import seaborn as sns\n",
              "  _, ax = plt.subplots(figsize=figsize)\n",
              "  bars = df[colname].value_counts()\n",
              "  plt.barh(bars.index, bars.values, color=sns.palettes.mpl_palette(mpl_palette_name))\n",
              "  plt.title(colname)\n",
              "  ax.spines[['top', 'right',]].set_visible(False)\n",
              "  return autoviz.MplChart.from_current_mpl_state()\n",
              "\n",
              "chart = categorical_histogram(df_8785923528690381692, *['Animal'], **{})\n",
              "chart"
            ],
            "text/html": [
              "      <div class=\"colab-quickchart-chart-with-code\" id=\"chart-157908ed-bbf4-4a98-9ef8-7a08d1459007\">\n",
              "        <img src=\"data:image/png;base64,iVBORw0KGgoAAAANSUhEUgAAAOgAAACWCAYAAADUgcTJAAAAOXRFWHRTb2Z0d2FyZQBNYXRwbG90\n",
              "bGliIHZlcnNpb24zLjcuMSwgaHR0cHM6Ly9tYXRwbG90bGliLm9yZy/bCgiHAAAACXBIWXMAAA9h\n",
              "AAAPYQGoP6dpAAARk0lEQVR4nO3de0wUd78G8GcFwQs3xaqIwoqKWBZYRPAOrhXthUZCUalGoWJB\n",
              "G9vmaE8Qq7YYK+Z9W07UBjEVtVG0lECppvVEQGu1FSoqWrVSaBcRFfACy2K5uDjnD+0c9hWsIAs/\n",
              "5fkkm7i7M7/5zoTHmZ2d+a5CkiQJRCSkHl1dABG1jgElEhgDSiQwBpRIYAwokcAYUCKBMaBEAmNA\n",
              "iQTGgBIJjAGlJ1ZaWgorKyv8+eefJl2OQqFAdna2SZfxrGBAu6Fdu3ZBoVBg1apVbZrPyckJtbW1\n",
              "cHFxMVFl9J8Y0G4oMTER9vb22LlzJxoaGrq6HHoMBrSbOXXqFPLz87F3717odDqkpaXJ70VERCAs\n",
              "LAzLly+Hvb09Bg0ahLVr18rvl5SUQKFQoLi4GACwe/duDB06FImJiXB2dkbfvn0REREBvV6PZcuW\n",
              "wd7eHg4ODti+fbs8xo0bNxAUFIRBgwbB2toanp6eRjXQf5CoW4mIiJDUarUkSZI0b948aeLEifJ7\n",
              "4eHhkoWFhbR//37JYDBIP//8s2Rubi4dOXJEkiRJ0mq1EgCpqKhIkiRJ2rVrl2RmZiatXLlSqqur\n",
              "k/744w+pX79+0pgxY6SMjAzJYDBIaWlpkrm5uVRaWipJkiRdvXpVSk9Pl/R6vdTY2Cjt2LFDMjc3\n",
              "ly5cuCDXAUDKysrqrE0iNAa0G7lz547Uu3dvKTExUZIkScrJyZEASAUFBZIkPQioRqMxmmfcuHHS\n",
              "pk2bJElqOaCWlpZSY2OjPH1wcLA0c+ZMozGsra2lzMzMVuvy9PSUtmzZIj9nQP8fD3G7kb9PDi1Y\n",
              "sAAAoNFoMHLkSCQmJsrTDBkyxGievn37Qq/XtzrmgAED0LNnT6PpHRwcjKbp06ePPEZVVRXefvtt\n",
              "DB8+HDY2NrCzs8PFixdRWVn51Ov3PGJAuwlJkpCUlITGxka4urpi8ODBcHBwQFlZGVJSUlBTU9Mp\n",
              "daxatQqXL1/GsWPHoNPpUF1dDXd3d0jsG9Ai864ugDpHVlYWioqKcOTIEYwZM0Z+Xa/Xw9vbG19+\n",
              "+WWn1KHT6dCnTx/Y29vj3r172L59Oy5evIjXX3+9U5b/rOEetJvYtm0bZsyYAY1Gg8GDB8uPUaNG\n",
              "YcmSJdi2bVun1LFhwwbU1dVh0KBBUCqVqKiowOTJkztl2c8ihcRjCyJhcQ9KJDAGlEhgDCiRwBhQ\n",
              "IoExoEQCY0CJBMaAEgmMAW1m8+bNXV0CkREGtJkrV650dQlERhhQIoExoEQC490szdz9Mh/l//vv\n",
              "ri5DeIMv/XdXl9BtcA9KJDAGlEhgDCiRwBhQIoF1SkAzMjLg4+MDtVoNNzc3TJ8+Hffv32/3eEql\n",
              "EgUFBR1XIJGgTH4W98aNG4iKisLp06fh7OwMADhz5gwUCoWpF030zDP5HrSiogJmZmbo37+//NrY\n",
              "sWOhUCigVCqxbt06TJw4EcOHD8eGDRvkaRISEuDr6wu1Wg1fX1+cPHmyxfG3bt2KyZMn4+bNmygv\n",
              "L8fcuXPh5+cHDw8PrFmzxtSrR2RSJt+Denp6YsqUKXB2dkZAQAAmTZqE+fPnw9HREQBQXV2NkydP\n",
              "4tatWxgxYgTeeustODo6YuHChVixYgUAIDc3FxEREbh8+bI87v3797FixQpotVpkZ2ejd+/emDVr\n",
              "FlavXo2AgAAYDAYEBQUhLS0Nc+bMeaSuhoaGR36XpElq/2E3kSmYPKA9evRAenq63Av10KFD+OST\n",
              "T5Cfnw8AmD9/PoAHDZBdXFyg1Wrh6OiIs2fP4pNPPsHt27dhbm6OwsJC1NXVoXfv3gCAqKgoeHt7\n",
              "Iz09HT169MDdu3eRk5ODiooKedm1tbUoLCxssa74+HjExcUZvebTy8kUm4Co3TrtSiI3Nze4ubkh\n",
              "OjoaL7/8Mg4cOAAA6NWrlzyNmZkZDAYDGhsbERISgqNHj8LX1xc1NTWwtbVFQ0ODHNCAgABkZWWh\n",
              "vLwcQ4YMkRsf5+bmGo3ZmtjYWHkP/bcVylc7anWJOoTJP4Neu3YNP/30k/y8qqoKWq0WI0aMaHWe\n",
              "+vp6NDY2wsnpwR5t69atj0yzcOFCrFu3DtOnT4dWq4WVlRU0Gg02bdokT3P9+nWUlZW1uAxLS0vY\n",
              "2NgYPcwU/NaJxGLyv0iDwYD169fD1dUVarUaU6dORXh4OGbPnt3qPDY2NtiwYQP8/Pzg4+MDCwuL\n",
              "FqcLDQ3FZ599hpkzZ+Ly5ctISUlBcXExVCoVPDw8EBISgtu3b5tq1YhMjo2rm4m290fcIP4EwT/h\n",
              "xfKdh8d0RAJjQIkExoASCYwBJRIYOyo00zd8HAYn8AQIiYN7UCKBMaBEAmNAiQTGCxWaGTc2GNMD\n",
              "lnR1GfSc+Nf/BD31GNyDEgmMASUSGANKJDAGlEhgwgfUYDAgLi4Obm5uUKlUUKvViIqKQnV1davz\n",
              "FBQU4Kuvvuq8IolMRPiARkZGIj8/HydPnsSFCxdw9uxZBAYG4s6dO63Ow4DS80LoS/2Ki4uRlpaG\n",
              "0tJS9OvXDwCgUCgwZ84clJeXQ6PRoKamBvX19dBoNNiyZQtu3bqFdevWQafTQa1WY8KECUhKSuri\n",
              "NSFqH6EDeubMGYwaNQoDBgx45D07OzscPHgQVlZWaGpqwuzZs/H1118jLCwM69evR2ZmJjIzM1sd\n",
              "u6WuftJTNNMmMgXhD3Fbc//+fcTExMDLywve3t7Iz89vU7f5+Ph42NraGj1uVPxuuoKJ2kHogI4d\n",
              "OxZFRUUt9hVKSEhAZWUl8vLycP78ecyfPx/19fVPPHZsbCx0Op3Rw2GQa0eWT/TUhA7oyJEj8cYb\n",
              "byAyMlI+aytJEtLT03H69GkMHjwYvXr1Qnl5OdLS0uT5bGxsoNPpHjt2S139FD2E3hzUDQn/F7lz\n",
              "5054eXlh/PjxcHd3x4svvojDhw9j8+bNyMvLg7u7OxYuXIgZM2bI87z00ktoaGiAp6cnli5d2oXV\n",
              "Ez0dXizfDC+Wp47Ei+WJnnMMKJHAGFAigTGgRAIT+kqizuY/zQX/Snj6D/ZEHYV7UCKBMaBEAmNA\n",
              "iQTGCxWaectdgVhf/p9FHcN1d9NTj8G/RiKBMaBEAmNAiQTGgBIJjAElElibAqpUKh9pKzJt2rTH\n",
              "9v7pCNXV1di0aZNJl0EkomdiD/o0ATUYDB1cDVHn6bCA7tu3D+PHj4e3tze8vLxw8OBB+b1p06Zh\n",
              "5cqV8Pf3h5OTE9auXYvvv/8eU6ZMgVKpREJCAoAHjcCWL1+OMWPGwMvLCz4+Pqivr8fSpUuh1+uh\n",
              "Vqsxbtw4AEB5eTnmzp0LPz8/eHh4YM2aNfLylEolYmJi4Ofnh/Dw8BbrbWhoQE1NjdGjiU39SDBt\n",
              "vlh+3rx56N27t/y8uLgYADBr1iy8+eabUCgUKCkpwYQJE3DlyhVYWloCAK5cuYKjR4+ipqYGSqUS\n",
              "VVVVOH78OK5fv47Ro0dj8eLF0Gq1yMnJwcWLF9GjRw/odDpYWFggKSkJarXa6PA6PDwcq1evRkBA\n",
              "AAwGA4KCgpCWloY5c+YAAG7fvo28vDwoFIoW1yM+Ph5xcXFGr3k92t2TqEu1OaCpqalQq9Xy82nT\n",
              "pgEAtFotFixYgLKyMpibm+POnTvQarVwc3MDAISGhsLMzAz9+vWDi4sLgoKCoFAo4OjoiBdeeAEl\n",
              "JSVwcXGBwWDA4sWLodFo8Nprr6FHC4287t69i5ycHFRUVMiv1dbWorCwUH4eERHRajiBB139VqxY\n",
              "YfTa8vG2bd0cRCbVYbebhYWFYdOmTQgNDQUA9O/f36gNZq9eveR/m5mZPfLcYDDA1tYWFy5cwLFj\n",
              "x3D06FHExsbixx9/hLm5cZl/X52Ym5trNE5zVlZWj63X0tJS3rvLdTwTn8ipO+mwP8mqqioMHz4c\n",
              "ALB3715UVVW1eYybN2/i7t27mDlzJjZu3AilUolLly7BxsYGdXV1aGxsBPAgfBqNxujE0fXr11FW\n",
              "VtYxK0MkiA4L6ObNmxEaGgpvb2+cPXsWTk5ObR7j6tWrCAwMhKenJ1QqFVQqFV555RX0798fixYt\n",
              "gqenp3ySKCUlBcXFxVCpVPDw8EBISEiLDa6JnmW8m6UZ3s1CHYl3sxA95xhQIoExoEQCY1e/ZvrN\n",
              "+i+4PryqiUgE3IMSCYwBJRIYA0okMH4P2ozVLF/Yhb3U1WXQc6Lsrae/h5l7UCKBMaBEAmNAiQTG\n",
              "gBIJjAElEli7AqrX62FlZYXIyEj5td27dyM4OBgA8MMPP8hdF65fv46pU6c+daEff/yx0Q3gRN1B\n",
              "uwKampoKHx8fZGRkoLa29rHTDhkyBMePH29Xcc3FxcW1K6Ds6kfPsnYFNDk5GTExMfD390dqaupj\n",
              "py0pKYGdnZ38/Ntvv5W79sXExGDAgAEoKSkBAHzwwQfw9fWFWq2Gv7+/3GNo6dKlAICpU6dCrVaj\n",
              "srISlZWVCAkJgYeHB1QqFbZv3y4vo71d/dDEr4RJLG0O6KVLl3D16lXMmjULkZGRSE5OfuJ5Kysr\n",
              "sXjxYnzzzTc4d+4c3NzcjLogxMTE4NSpUygoKMA777yD999/HwCQlJQEADh+/DgKCgowcOBAvPvu\n",
              "uxg9ejR+/fVXHDlyBBs2bEBubq481t9d/VJSUlqsJT4+Hra2tkaPRu2Ntm4OIpNqc0CTk5OxaNEi\n",
              "mJmZ4dVXX4VWq8Vvv/32RPPm5ubC09NT7vQXHh4OCwsL+f2srCxMnDgRKpUK69evf6SLfXPZ2dmI\n",
              "jo4GAAwcOBAhISHIzs6W33+Srn46nc7oYTHc4YnWg6iztOl2s3v37mHPnj3o2bMn9u3bBwD466+/\n",
              "kJycDJVK9VSFlJaWYvny5Th16hRGjBiB8+fPw9/f/4nn/88wtqerH8xaDzRRV2jTHvTAgQNwcXHB\n",
              "tWvXUFJSgpKSEuTm5mLPnj24d+/eP84/YcIEnD9/Xv5suXfvXrlTn06nQ8+ePeHg4ABJkvD5558b\n",
              "zWttbQ2dTic/nzFjBr744gsAD7oBZmRkIDAwsC2rQyS8Nu1Bk5OTsWDBAqPXxowZA0dHR+j1+n+c\n",
              "f+DAgdixYweCg4NhaWmJwMBAWFlZwc7ODkqlEmFhYXB3d4e9vb38lc3fVq5cicDAQPTp0weHDx/G\n",
              "li1bsGzZMnh4eECSJHz44YcYP358W1aHSHidfjeLXq+HtbU1ACAzMxOxsbFP/BnW1Hg3C3Wkjrib\n",
              "pdNbnmzduhWpqaloamqCjY1Nq2dZiYj3gxrhHpQ6Eu8HJXrOsatfM1HuU5HQAf/rEXUU7kGJBMaA\n",
              "EgmMASUSGD+DPtTQ0IBDhw6hqakJZmZmXV2OsJqamvDLL7/Az8+P2+kx/mk7OTs7yzeDPA6/Znmo\n",
              "pqYGtra20Ol0sLGx6epyhMXt9GQ6ajvxEJdIYAwokcAYUCKBMaAPWVpa4qOPPnr0HlEywu30ZDpq\n",
              "O/EkEZHAuAclEhgDSiQwBpRIYAzoQ0VFRZg0aRJcXV3h6+uLixcvdnVJwnnvvfegVCqhUCge23Gx\n",
              "O6uvr0dwcDBcXV3h5eWFwMBAFBcXt3s8BvSh6OhoREVF4ffff0dMTAwiIiK6uiThhIaG4sSJE3B2\n",
              "du7qUoQWFRWFwsJCnDt3DrNnz8aSJUvaPRbP4uJBQ+2RI0fizp07MDc3hyRJcHBwwIkTJzBy5Miu\n",
              "Lk84SqUSmZmZ8u/vUOvy8/MRGhoq/3pCW3EPCuDq1atwcHCAufmDewcUCgWcnJxQWlraxZXRs27z\n",
              "5s2YPXt2u+fn3SxEJrJx40YUFxcjJyen3WMwoACGDRuGGzduwGAwyIe4paWlcHJy6urS6Bn16aef\n",
              "IiMjA9nZ2ejTp0+7x+EhLh401B47diz27t0LAEhPT8fQoUP5+ZPaJSEhAfv370dWVpbRL/u1B08S\n",
              "PVRYWIiIiAjcvn0bNjY22LVrFzw8PLq6LKFER0fju+++Q3l5Oezt7WFtbf1UXyE8j8rKyjBs2DC4\n",
              "uLjIDdotLS2Rl5fXrvEYUCKB8RCXSGAMKJHAGFAigTGgRAJjQIkExoASCYwBJRIYA0okMAaUSGAM\n",
              "KJHAGFAigf0f7MdqWz1Q540AAAAASUVORK5CYII=\n",
              "\">\n",
              "        \n",
              "      </div>\n",
              "      <script></script>\n",
              "      <script type=\"text/javascript\">\n",
              "        (() => {\n",
              "          const chartElement = document.getElementById(\"chart-157908ed-bbf4-4a98-9ef8-7a08d1459007\");\n",
              "          async function getCodeForChartHandler(event) {\n",
              "            const chartCodeResponse =  await google.colab.kernel.invokeFunction(\n",
              "                'getCodeForChart', [\"chart-157908ed-bbf4-4a98-9ef8-7a08d1459007\"], {});\n",
              "            const responseJson = chartCodeResponse.data['application/json'];\n",
              "            await google.colab.notebook.addCell(responseJson.code, 'code');\n",
              "          }\n",
              "          chartElement.onclick = getCodeForChartHandler;\n",
              "        })();\n",
              "      </script>\n",
              "      <style>\n",
              "        .colab-quickchart-chart-with-code  {\n",
              "            display: block;\n",
              "            float: left;\n",
              "            border: 1px solid transparent;\n",
              "        }\n",
              "\n",
              "        .colab-quickchart-chart-with-code:hover {\n",
              "            cursor: pointer;\n",
              "            border: 1px solid #aaa;\n",
              "        }\n",
              "      </style>"
            ]
          },
          "metadata": {}
        },
        {
          "output_type": "display_data",
          "data": {
            "text/plain": [
              "<google.colab._quickchart_helpers.SectionTitle at 0x7dde5c866620>"
            ],
            "text/html": [
              "<h4 class=\"colab-quickchart-section-title\">2-d distributions</h4>\n",
              "<style>\n",
              "  .colab-quickchart-section-title {\n",
              "      clear: both;\n",
              "  }\n",
              "</style>"
            ]
          },
          "metadata": {}
        },
        {
          "output_type": "display_data",
          "data": {
            "text/plain": [
              "import numpy as np\n",
              "from google.colab import autoviz\n",
              "df_8785923528690381692 = autoviz.get_registered_df('df_8785923528690381692')\n",
              "\n",
              "def scatter_plots(df, colname_pairs, scatter_plot_size=2.5, size=8, alpha=.6):\n",
              "  from matplotlib import pyplot as plt\n",
              "  plt.figure(figsize=(len(colname_pairs) * scatter_plot_size, scatter_plot_size))\n",
              "  for plot_i, (x_colname, y_colname) in enumerate(colname_pairs, start=1):\n",
              "    ax = plt.subplot(1, len(colname_pairs), plot_i)\n",
              "    ax.scatter(df[x_colname], df[y_colname], s=size, alpha=alpha)\n",
              "    plt.xlabel(x_colname)\n",
              "    plt.ylabel(y_colname)\n",
              "    ax.spines[['top', 'right',]].set_visible(False)\n",
              "  plt.tight_layout()\n",
              "  return autoviz.MplChart.from_current_mpl_state()\n",
              "\n",
              "chart = scatter_plots(df_8785923528690381692, *[[['Age', 'Weight'], ['Weight', 'Length']]], **{})\n",
              "chart"
            ],
            "text/html": [
              "      <div class=\"colab-quickchart-chart-with-code\" id=\"chart-096749de-5400-4866-bc5f-477a0a80b65f\">\n",
              "        <img src=\"data:image/png;base64,iVBORw0KGgoAAAANSUhEUgAAAfAAAAD2CAYAAAApgtVPAAAAOXRFWHRTb2Z0d2FyZQBNYXRwbG90\n",
              "bGliIHZlcnNpb24zLjcuMSwgaHR0cHM6Ly9tYXRwbG90bGliLm9yZy/bCgiHAAAACXBIWXMAAA9h\n",
              "AAAPYQGoP6dpAAAlRElEQVR4nO3de1BTZ+I+8CeGGOySQFVSXRWywUtFxXjDoKCg22pdBbfYtbO6\n",
              "wKxc1DqUxRldu2rX1hXdsbi0namKVEttkVatdbTbdrUgWKuspYiXbisg4oXbauVWE0M43z/6M79m\n",
              "SSoRwskpz2cmU3PycvJwel4ezskhkQmCIICIiIgkpZfYAYiIiMh5LHAiIiIJYoETERFJEAuciIhI\n",
              "gljgREREEsQCJyIikiAWOBERkQSxwImIiCSIBU5ERCRBkizwjIwMsSMQURfjvCZyjiQL/OrVq2JH\n",
              "IKIuxnlN5BxJFjgREVFPxwInIiKSIBY4ERGRBLm0wJOTk6HVaiGTyVBSUtLu8d27d0Mmk+HQoUOu\n",
              "jEFEnWAymbBixQoMGzYMY8aMweLFi+2Oy8rKwrBhwxAQEICEhASYzeZuTkrUs7i0wBcsWICTJ0/C\n",
              "39+/3WOVlZXIzMyEwWBwZYRuZba04XbLPZgtbWJH6RCp5SVx/PnPf4ZMJsO3336L8+fPY+vWre3G\n",
              "XLlyBevWrUNhYSHKyspQW1uLnTt3dmkO7q+Ocds45k7bpquzeHTJWhyYNm2a3eVtbW2Ij4/Ha6+9\n",
              "hpUrV7oyQrcpq2tGZkEF6ptN8FUpkRCmw1CNl9ixHJJaXhJHS0sLsrKycP36dchkMgDAgAED2o3b\n",
              "v38/IiMjrY8tXboUmzZtwnPPPdclObi/OsZt45g7bRtXZBHlNfD09HRMnToVEyZMeOBYk8mExsZG\n",
              "m5vFYumGlB1ntrQhs6AC5fXN8FTIUV7XjMzCCrf4jc8eqeUl8ZSXl6Nv377YtGkTJk6ciLCwMBw/\n",
              "frzduKqqKpszbVqtFlVVVQ7X68y85v7qGLeNY+60bVyVpdsL/MKFCzhw4ADWrl3bofFpaWnw9va2\n",
              "uRUVFbk4pXOajK2obzZBo/aEdx8FNGpP1DeZ0GRsFTuaXVLLS+JpbW3F1atXERgYiLNnz+LVV1/F\n",
              "woULUVtb26n1OjOvub86xm3jmDttG1dl6fYCLywsRGVlJYYNGwatVovTp08jMTERb7zxht3xa9as\n",
              "QUNDg80tODi4m1P/NJWnB3xVStQ1GtFw14y6RiN8VUqoPF36CsVDk1peEo+fnx969eqFRYsWAQDG\n",
              "jRuHX/3qVzh//ny7cT9+I5bKykr4+fk5XK8z85r7q2PcNo6507ZxVZZuL/Bly5ahuroalZWVqKys\n",
              "hMFgwM6dO7Fs2TK745VKJdRqtc1NLpd3c+qfppD3QkKYDgEaLxjNFgRovJAQpoNC7p5/pSe1vCSe\n",
              "/v37Y+bMmfjkk08A/HCx2pUrVzBy5EibcdHR0Th8+DBqamogCAK2b9+OZ5991uF6nZnX3F8d47Zx\n",
              "zJ22jcuyCC6UmJgoDBo0SJDL5YJGoxECAgLajZk+fbrwwQcfOLXeP/3pT12UsGvda7UIt5pNwr1W\n",
              "i9hROkRqeUkc5eXlQnh4uDB69GghKChI2L9/vyAIgrBkyRLhww8/tI7buXOnoNPpBJ1OJ/zxj38U\n",
              "7t2759TzPGhec391jNvGMXfaNl2dRSYIgtA1v2N0n9TUVKSnp4sdg4i6EOc1kXN4noWIiEiCWOBE\n",
              "REQSxAInIiKSIBY4ERGRBLHAiYiIJIgFTkREJEEscCIiIgligRMREUkQC5yIiEiCWOBEREQSxAIn\n",
              "IiKSIBY4ERGRBLHAiYiIJIgFTkREJEEscCIiIgligRMREUkQC5yIiEiCWOBEREQSxAInIiKSIBY4\n",
              "ERGRBLHAiYiIJIgFTkREJEEscCIiIgligRMREUkQC5yIiEiCWOBEREQS5NICT05OhlarhUwmQ0lJ\n",
              "iXX5k08+iaCgIOj1eoSFheGrr75yZQwi6gStVosRI0ZAr9dDr9cjNze33Zi2tjakpqYiMDAQQUFB\n",
              "iIiIQFlZmQhpiXoOD1eufMGCBVi1ahVCQ0Ntlr/33nvw8fEBAHzwwQeIi4vDuXPnXBmF3ITZ0oYm\n",
              "YytUnh5QyHkCSCpyc3Oh1+sdPn748GF8/vnnOHfuHBQKBTZu3IgXXngB7733XveFJOphXFrg06ZN\n",
              "s7v8fnkDQENDA2QymStjkJsoq2tGZkEF6ptN8FUpkRCmw1CNl9ixqAvIZDKYTCYYjUZ4eHigsbER\n",
              "gwcPFjsW0c+aSwv8p8TExCAvLw8A8NFHHzkcZzKZYDKZbJZZLBaXZqOuZ7a0IbOgAuX1zdCoPVFe\n",
              "14zMwgpsnD+aR+ISEBMTA0EQEBwcjM2bN8PX19fm8Xnz5iEvLw8DBgyASqXCoEGDcOLECYfr47wm\n",
              "6jzRfnJmZ2fj2rVr2LhxI1avXu1wXFpaGry9vW1uRUVF3ZiUukKTsRX1zSZo1J7w7qOARu2J+iYT\n",
              "moytYkejBygoKEBpaSmKi4vRv39/xMbGthtz9uxZXLhwATdu3MDNmzcxc+ZMLF261OE6Oa+JOk/0\n",
              "Q5/Y2Fjk5eXh1q1bdh9fs2YNGhoabG7BwcHdnJI6S+XpAV+VEnWNRjTcNaOu0QhflRIqT9FOAlEH\n",
              "+fn5AQAUCgVSUlJQWFjYbkx2djZmzJgBHx8f9OrVyzqvHeG8Juq8bi/wO3fu4ObNm9b7hw4dQr9+\n",
              "/dC3b1+745VKJdRqtc1NLpd3V1zqIgp5LySE6RCg8YLRbEGAxgsJYTqePndzLS0tuHPnjvV+Tk4O\n",
              "xo0b126cTqfDZ599hnv37gEAjhw5gtGjRztcL+c1Uee59PAnKSkJR48eRU1NDWbNmgWVSoXjx4/j\n",
              "mWeewd27d9GrVy/4+vriyJEjvJCtBxiq8cLG+aN5FbqE1NbWIjo6GhaLBYIgQKfTITs7GwAQHx+P\n",
              "yMhIREZG4rnnnsPXX3+NsWPHQqFQYMCAAdi+fbvI6Yl+3mSCIAhih3BWamoq0tPTxY5BRF2I85rI\n",
              "OTwEIiIikiAWOBERkQSxwImIiCSIBU5ERCRBLHAiIiIJYoETERFJEAuciIhIgljgREREEsQCJyIi\n",
              "kiAWOBERkQSxwImIiCSIBU5ERCRBLHAiIiIJYoETERFJEAuciIhIgljgREREEsQCJyIikiAWOBER\n",
              "kQSxwImIiCSIBU5ERCRBLHAiIiIJYoETERFJEAuciIhIgljgREREEsQCJyIikiAWOBERkQSxwImI\n",
              "iCTIpQWenJwMrVYLmUyGkpISAIDRaMT8+fMxfPhwjB07Fk888QTKyspcGYOIOkmr1WLEiBHQ6/XQ\n",
              "6/XIzc21O+78+fMIDw/HyJEjMXLkSBw8eLCbkxL1HB6uXPmCBQuwatUqhIaG2ixPTEzEU089BZlM\n",
              "htdffx3x8fHIz893ZRQi6qTc3Fzo9XqHj3///feIiopCdnY2QkNDYbFYcPv27e4LSNTDuPQIfNq0\n",
              "aRg8eLDNMk9PT8yZMwcymQwAYDAYUFlZ6coYRNQN3n33XRgMBusv7HK5HL6+viKnIvr5cukReEdk\n",
              "ZGQgKirK4eMmkwkmk8lmmcVicXUsIvofMTExEAQBwcHB2Lx5c7tyvnTpEpRKJebOnYvr168jKCgI\n",
              "r7zyit0S57wm6jynjsCXL1/eoWUdtWnTJpSVlSEtLc3hmLS0NHh7e9vcioqKHvo5ich5BQUFKC0t\n",
              "RXFxMfr374/Y2Nh2Y1pbW3Hs2DHs2LEDX331FQYNGoRly5bZXR/nNVHnOVXgp0+fbrfs1KlTD/XE\n",
              "W7duxcGDB/HPf/4TjzzyiMNxa9asQUNDg80tODj4oZ6TiB6On58fAEChUCAlJQWFhYV2x0RERGDQ\n",
              "oEGQyWRYvHix3Z8ZAOc1UVfo0Cn03Nxc7Nu3D1euXMHTTz9tXd7Q0AAvLy+nnzQ9PR05OTk4duwY\n",
              "fHx8fnKsUqmEUqm0WSaXy51+TiL6/+7cuYMdO3agvLwcra2t1uVvvvlmu7EtLS0wm83WuZqTk4Nx\n",
              "48a1G/e73/0OWVlZaGxshFqtxkcffYSxY8fafX7Oa6LO61CBP/7444iKikJxcbHN69VqtRozZ850\n",
              "+HVJSUk4evQoampqMGvWLKhUKuTn52PlypXQ6XSIiIgA8MNkPnPmTCe/FSLqqAULFsDX1xchISEP\n",
              "LM7a2lpER0fDYrFAEATodDpkZ2cDAOLj4xEZGYnIyEj4+fnhhRdewJQpU9CrVy8MGjQIO3fu7I5v\n",
              "h6hHkgmCIHR0cH19vVtcVZqamor09HSxYxBJ1qhRo3Dx4kWxY9jgvCZyjlNXoSsUCmzZsqVDp92I\n",
              "yH0FBATgzp07D3wJi4jcl1MF7sxpNyJyP6mpqQCARx55BOPHj8fs2bPh6elpfZxHwETS4VSBV1dX\n",
              "49ixY67KQkQu5u3tbf3vyJEjRU5DRJ3hVIHztBuRtL344osAgNLSUgQFBdk8VlpaKkYkInpIHSpw\n",
              "nnYj+nmJi4tDcXHxA5cRkfvqUIHztBvRz0NdXR1qampw9+5dnD9/Hvf/CKWhoQEtLS0ipyMiZ3So\n",
              "wO+fdiMiacvJycE//vEP3Lx5E5GRkdbl3t7eWLVqlYjJiMhZTr0G/tJLL7Vb5uPjg5CQEEyaNKnL\n",
              "QhGRazz//PN4/vnn8fLLL2PdunVixyGiTnCqwL/++mvk5+dj7ty5kMlkOHLkCAwGA15//XWsWLEC\n",
              "ycnJrspJRF0oNjYWVVVVNst8fHygVqtFSkREznKqwL/77juUlJTgscceA/DDWyz+4Q9/wOnTpxEW\n",
              "FsYCJ5KICRMm4Pbt21AoFAAAs9kMLy8vDB48GO+88w70er24AYnogZwq8OvXr1vLGwAee+wx3Lx5\n",
              "E3379rX+ICAi97dkyRI8/vjjiI2NhSAI2Lt3Ly5cuICpU6dixYoVOHnypNgRiegBnPo40UGDBmHD\n",
              "hg24du0arl27hpdeegm//OUvYbFYIJPJXJWRiLrYJ598gri4OMhkMvTq1QsxMTE4duwYoqKi0NDQ\n",
              "IHY8IuoApwr8rbfewsWLF6HX66HX63HhwgXs2bMHZrPZ+ulEROT+TCYTLl++bL1/+fJlGI1GAPxY\n",
              "TyKpcOoU+oABA/Dee+/ZfWzMmDFdEoiIXC8tLQ0hISHWz+suLS3Frl270NzcjIULF4qcjog6okMF\n",
              "fuLECUyfPh2HDx+2+/iP/56UiNxfVFQUQkJCcObMGQCAwWCwflTwmjVrxIxGRB3UoQLfu3cvpk+f\n",
              "jm3btrV7TCaTscCJJEij0WDevHlixyCih9ShAs/MzAQA5OXluTQMEXWPjz/+GCkpKaioqIDFYoEg\n",
              "CJDJZLBYLGJHI6IOcuoittbWVrzyyitYvnw5AKC8vByfffaZS4IRkeskJycjIyMD//3vf9HY2Iim\n",
              "piY0NjaKHYuInODURWwrVqyAxWKx/o1ov379sHDhQpw9e9Yl4YjINdRqNWbNmiV2DCLqBKeOwE+f\n",
              "Po3MzEzrR4n6+PjAbDa7JBgRuc7cuXNx6NAhsWMQUSc4dQT+488ABwCLxYK2trYuDURErpeRkYGG\n",
              "hgb06dMHSqXS+hr47du3xY5GRB3kVIEHBQVh7969aGtrQ1lZGbZs2YLw8HAXRSMiVykpKRE7AhF1\n",
              "UodOob/44osoKCjAtm3bUFhYiJqaGkydOhUymQybN292dUYi6mL+/v7o3bs3rly5An9/fwwaNAgD\n",
              "Bw4UOxYROaFDBV5XV4fExERoNBqUl5cjOTkZhw4dwhtvvIFf/OIXrs5IRF1s//79MBgMiIuLAwBc\n",
              "vHgR8+fPFzUTETmnQwX+xhtv4D//+Q/KysqwZMkSVFVVIS4uDo8++ih+85vfuDojEXWxtLQ0FBcX\n",
              "49FHHwUAjB07FlevXhU5FRE5w6nXwAcOHIjo6GgMHDgQAwYMQE5ODl9LI5IguVyOfv362Szr3bu3\n",
              "SGmI6GF06Ai8oKAAL730EiIiIjB69Gi8+eabGDJkCI4ePYobN244/Lrk5GRotVrIZDKbone0nIi6\n",
              "h0qlQm1trfVjgI8fP46+ffvaHavVajFixAjrpxDm5uY6XK8gCJgxYwZ8fHxcEZuIfqRDR+Dh4eEw\n",
              "GAxYv349Zs+e3eGVL1iwAKtWrUJoaGiHllP3Mlva0GRshcrTAwq5U28JQBK3ZcsWPPXUU6ioqEBo\n",
              "aCiuXLnyk8Wcm5sLvV7/wPVu27YNAQEBKC4u7sK0RGRPhwq8oKAA+fn52Lp1K1asWIHg4GCEh4cj\n",
              "PDwcw4cPd/h106ZNc2o5dZ+yumZkFlSgvtkEX5USCWE6DNV4iR2LusnEiRORl5eHU6dOQRAE60eL\n",
              "VlVVPfQ6L168iEOHDmH37t14//33uzAtEdnToQIPDQ1FaGgo1q5di3v37uHMmTPIy8tDZGQkmpub\n",
              "cf36dZcFNJlMMJlMNsv4gQudY7a0IbOgAuX1zdCoPVFe14zMwgpsnD+aR+I9iLe3N5566inrfUEQ\n",
              "HI6NiYmBIAgIDg7G5s2brR89ep/ZbEZCQgKysrIgl8sf+Nyc10Sd59RP65s3b+L9999HdnY23nrr\n",
              "Ldy4cQNjxoxxVTYAP1wt6+3tbXMrKipy6XP+3DUZW1HfbIJG7QnvPgpo1J6obzKhydgqdjQS0f3X\n",
              "w/9XQUEBSktLUVxcjP79+yM2NrbdmA0bNuDpp5/GyJEjO/RcnNdEndehI/CEhAScOHECN2/eREhI\n",
              "CCIiIrB3715MmjQJHh5OXcjutDVr1iA1NdVm2bp161z6nD93Kk8P+KqUKK9rBgDUNRoRoPGCytO1\n",
              "/y9JfKWlpQ4fc/S5Bn5+fgAAhUKBlJQUuy+bnThxAlVVVXj99dfR2tqKxsZGaLVa/Pvf/253tA5w\n",
              "XhN1hQ79xB4yZAiysrJgMBigUChcncmGUqmEUqm0WdaRU3TkmELeCwlhOmQWVqC+yYQAjRcSwnQ8\n",
              "fd4DREVFOXysT58+7Za1tLTAbDZbryrPycnBuHHj2o0rLCy0/ruyshJ6vR6VlZUOn4vzmqjzOlTg\n",
              "69evf6iVJyUl4ejRo6ipqcGsWbOgUqlQVlbmcDl1n6EaL2ycP5pXofcwV65ccWp8bW0toqOjYbFY\n",
              "IAgCdDodsrOzAQDx8fGIjIxEZGSkK6IS0QO49Jzpjh07nFpO3Ush74W+v+Cbd5BjOp0OX331ld3H\n",
              "du3aZXe5VqvFnTt3XJiKiAAnL2IjIiIi98ACJyIikiAWOBERkQSxwImIiCSIBU5ERCRBLHAiIiIJ\n",
              "YoETERFJEAuciIhIgljgREREEsQCJyIikiAWOBERkQSxwImIiCSIBU5ERCRBLHAiIiIJYoETERFJ\n",
              "EAuciIhIgljgREREEsQCJyIikiAWOBERkQSxwImIiCSIBU5ERCRBLHAiIiIJYoETERFJEAuciIhI\n",
              "gljgREREEsQCJyIikiAWOBERkQS5tMCTk5Oh1Wohk8lQUlJiXX758mVMmTIFw4cPx6RJk3Dx4kVX\n",
              "xiCiTtBqtRgxYgT0ej30ej1yc3Pbjfnss88QHByMwMBAjBo1CqtWrUJbW5sIaYl6DpcW+IIFC3Dy\n",
              "5En4+/vbLE9KSkJiYiK+/fZbrF69GnFxcV36vGZLG2633IPZwh8gJE3utg/n5uaipKQEJSUlWLhw\n",
              "YbvHH330Uezbtw+XLl3Cl19+iVOnTiE7O1uEpEQ9h4crVz5t2rR2y+rq6nD27Fl8+umnAIDo6Gis\n",
              "WLECZWVlGDp0aKefs6yuGZkFFahvNsFXpURCmA5DNV6dXi9Rd5HiPjxu3Djrvz09PaHX61FZWSle\n",
              "IKIeoNtfA7927RoGDhwID48ffneQyWTw8/NDVVWV3fEmkwmNjY02N4vFYnes2dKGzIIKlNc3w1Mh\n",
              "R3ldMzILK9zmKIboQdx1H46JicGYMWOwZMkS1NfX/+TYmpoa7N+/H3PnznU4xpl5TUT2uf1FbGlp\n",
              "afD29ra5FRUV2R3bZGxFfbMJGrUnvPsooFF7or7JhCZjazenJno47rgPFxQUoLS0FMXFxejfvz9i\n",
              "Y2Mdjm1sbMS8efOwatUqTJw40eE4Z+Y1EdnX7QU+ZMgQVFdXo7X1hx9IgiCgqqoKfn5+dsevWbMG\n",
              "DQ0NNrfg4GC7Y1WeHvBVKVHXaETDXTPqGo3wVSmh8nTpKwVEXcYd9+H7c1OhUCAlJQWFhYV2xzU1\n",
              "NWH27NmIiopCamrqT67TmXlNRPZ1e4FrNBqMHz8ee/fuBQAcOHAAgwcPdvj6t1KphFqttrnJ5XK7\n",
              "YxXyXkgI0yFA4wWj2YIAjRcSwnRQyN3+RAMRAPfbh1taWnDnzh3r/ZycHJvXu+9rbm7G7NmzMXv2\n",
              "bKxdu/aB63VmXhORfS79tT4pKQlHjx5FTU0NZs2aBZVKhbKyMuzYsQNxcXHYtGkT1Go1du/e3WXP\n",
              "OVTjhY3zR6PJ2AqVpwfLmyTHnfbh2tpaREdHw2KxQBAE6HQ669Xl8fHxiIyMRGRkJDIyMlBUVISW\n",
              "lhYcPHgQAPDMM8/gL3/5i2jZiX7uZIIgCGKHcFZqairS09PFjkFEXYjzmsg5PDwlIiKSIBY4ERGR\n",
              "BLHAiYiIJIgFTkREJEEscCIiIgligRMREUkQC5yIiEiCWOBEREQSxAInIiKSIBY4ERGRBLHAiYiI\n",
              "JIgFTkREJEEscCIiIgligRMREUkQC5yIiEiCWOBEREQSxAInIiKSIBY4ERGRBLHAiYiIJIgFTkRE\n",
              "JEEscCIiIgligRMREUkQC5yIiEiCWOBEREQSxAInIiKSIBY4ERGRBIlW4B9//DEmTpyIoKAgGAwG\n",
              "nDt3TqwoRPQAWq0WI0aMgF6vh16vR25urt1xWVlZGDZsGAICApCQkACz2dzNSYl6Dg8xnvS7777D\n",
              "okWLUFBQgFGjRqGwsBCLFi3ChQsXxIhD5HbMljY0GVuh8vSAQu4eJ8pyc3Oh1+sdPn7lyhWsW7cO\n",
              "xcXFeOyxxxAVFYWdO3fiueee676Q3eT7e62objBioLcnHuktyo9RkqCuntei7Hnl5eXo168fRo0a\n",
              "BQAICwtDVVUViouLMX78eDEiEbmNsrpmZBZUoL7ZBF+VEglhOgzVeIkd64H279+PyMhIDBgwAACw\n",
              "dOlSbNq06WdX4J/9pw4vH7mExrtmqPsosG5uIGY8rhE7Frk5V8xrUX61HzZsGG7duoVTp04BAA4f\n",
              "PoympiZUVla2G2symdDY2Ghzs1gs3ZyYqHuYLW3ILKhAeX0zPBVylNc1I7OwAmZLm9jREBMTgzFj\n",
              "xmDJkiWor69v93hVVRX8/f2t97VaLaqqquyuS6rz+vt7rXj5yCXUNRqh8OiFukYjXj5yCd/faxU7\n",
              "GrkxV81rUQrc29sb+/fvx5o1azBhwgR8+umnCAwMhIdH+xMCaWlp8Pb2trkVFRWJkJrI9ZqMrahv\n",
              "NkGj9oR3HwU0ak/UN5nQZBS3IAoKClBaWori4mL0798fsbGxnVqfVOd1dYMRjXfNUPVR4Be9PaDq\n",
              "o0DjXTOqG4xiRyM35qp5LdqLaxEREThx4gS+/PJLvPLKK7h58yYCAwPbjVuzZg0aGhpsbsHBwSIk\n",
              "JnI9lacHfFVK1DUa0XDXjLpGI3xVSqg8xX2d1c/PDwCgUCiQkpKCwsJCu2OuXr1qvV9ZWWn9uv8l\n",
              "1Xk90NsT6j4KNN01o+VeK5r+32n0gd6eYkcjN+aqeS1agVdXV1v//fLLL2PGjBkYOnRou3FKpRJq\n",
              "tdrmJpfLuzMqUbdRyHshIUyHAI0XjGYLAjReSAjTiXohW0tLC+7cuWO9n5OTg3HjxrUbFx0djcOH\n",
              "D6OmpgaCIGD79u149tln7a5TqvP6kd4eWDc3EBq1J8ytbdCoPbFubiAvZKOf5Kp5Ldpet379ehQW\n",
              "FqK1tRUhISHIysoSKwqRWxmq8cLG+aPd5ir02tpaREdHw2KxQBAE6HQ6ZGdnAwDi4+MRGRmJyMhI\n",
              "6HQ6bNiwAVOnTgUAhIeHIykpSczoLjHjcQ0Mur68Cp2c4op5LRMEQeiCbN0qNTUV6enpYscgoi7E\n",
              "eU3kHPf4A1MiIiJyCguciIhIgljgREREEsQCJyIikiBJXsT29NNPQ6vVih2jy1gsFhQVFSE4OFgS\n",
              "f0ojFm6n9vz9/fH888+LHaNLSGlec190jNvGsY5um47Oa0kW+M9NY2MjvL290dDQALVaLXYct8Xt\n",
              "RO6C+6Jj3DaOdfW24Sl0IiIiCWKBExERSRALnIiISIJY4G5AqVTixRdfhFKpFDuKW+N2InfBfdEx\n",
              "bhvHunrb8CI2IiIiCeIROBERkQSxwImIiCSIBU5ERCRBLHA3oNVqMWLECOj1euj1euTm5oodSXTJ\n",
              "ycnQarWQyWQoKSmxLr98+TKmTJmC4cOHY9KkSbh48aJ4IanH4P5on73tYjQaMX/+fAwfPhxjx47F\n",
              "E088gbKyMnGDisDRPnPf7t27IZPJcOjQoYd+Dha4m8jNzUVJSQlKSkqwcOFCseOIbsGCBTh58iT8\n",
              "/f1tliclJSExMRHffvstVq9ejbi4OHECUo/C/dE+R9slMTER33zzDc6dO4eoqCjEx8eLlFA8jrYN\n",
              "AFRWViIzMxMGg6FTz8ECJ7c0bdo0DB482GZZXV0dzp49i8WLFwMAoqOjce3atR752z11L+6P9tnb\n",
              "Lp6enpgzZw5kMhkAwGAwoLKyUoR04rK3bQCgra0N8fHxeO211zr952QscDcRExODMWPGYMmSJaiv\n",
              "rxc7jlu6du0aBg4cCA8PDwCATCaDn58fqqqqRE5GPRH3x47JyMhAVFSU2DHcRnp6OqZOnYoJEyZ0\n",
              "el0scDdQUFCA0tJSFBcXo3///oiNjRU7EhFRp23atAllZWVIS0sTO4pbuHDhAg4cOIC1a9d2yfo8\n",
              "umQt1Cl+fn4AAIVCgZSUFAwfPlzkRO5pyJAhqK6uRmtrKzw8PCAIAqqqqqzbj6g7cX/8aVu3bsXB\n",
              "gwdx7NgxPPLII2LHcQuFhYWorKzEsGHDAAA1NTVITExEdXU1li1b5vT6eAQuspaWFty5c8d6Pycn\n",
              "B+PGjRMvkBvTaDQYP3489u7dCwA4cOAABg8ejKFDh4qcjHoi7o+OpaenIycnB//617/g4+Mjdhy3\n",
              "sWzZMlRXV6OyshKVlZUwGAzYuXPnQ5U3wLdSFV1FRQWio6NhsVggCAJ0Oh0yMjKg1WrFjiaqpKQk\n",
              "HD16FDU1NejXrx9UKhXKysrwzTffIC4uDrdu3YJarcbu3bsxZswYsePSzxz3R/vsbZf8/HwMGTIE\n",
              "Op0OKpUKwA/vAX7mzBmR03YvR/vMj4WHhyMlJQXz589/qOdggRMREUkQT6ETERFJEAuciIhIgljg\n",
              "ZFdTUxO8vLywZMkSsaMQ0U/YsGGDzTudnTx5EjKZDPn5+dZlS5cuxbp16xyuIz4+Hnl5eQ98rr/+\n",
              "9a9ISUmx+1hJSQn27dvX4dzUeSxwsis3NxcTJkzAwYMH0dzcLHYcInIgIiLCpqzz8vIwefLkdstm\n",
              "zJjhcB27du1CREREp3KwwLsfC5zsysrKwurVqzFt2jTrh6uYzWYsX74cw4cPh8FgwMqVKxEeHm79\n",
              "mrfffhuTJ0/G+PHjMW3aNJw7d06k9EQ9h8FgwM2bN3H9+nUAQH5+PtavX28t8OrqalRVVWHixIlI\n",
              "SEhAcHAwgoKCkJiYiHv37gH44Wro+x+qUV1djSeffBKBgYF48skn8eyzz+Kvf/2r9fmqq6sxb948\n",
              "BAYGYsaMGbh9+zbq6uqwfv165OXlQa/XY+nSpd25CXosFji1c+nSJVy7dg2zZs3CkiVLkJWVBQDY\n",
              "uXMnLl++jIsXL6KwsBClpaXWr/n888+Rk5ODgoICFBcX429/+xt+//vfi/UtEPUYvXv3xpQpU5CX\n",
              "lweTyYQrV65gzpw5uH79OoxGI/Ly8hASEoKVK1ciLCwMRUVFOHfuHNra2pCRkdFufcnJyQgJCcGl\n",
              "S5eQnZ1tcyQPAGfOnMGePXtw6dIlaDQa7NixAxqNBi+99BIiIiJQUlKC7du3d9N337Pxndionays\n",
              "LMTExEAul2POnDlISkrC119/jePHj2Px4sVQKBQAgNjYWOzatQsA8OGHH+LcuXOYPHmydT23b9/G\n",
              "3bt30adPH1G+D6Ke4v5pdH9/fwQHBwP44cj8iy++QH5+PiIiIvDaa6/hiy++QHp6OgDg7t27kMvl\n",
              "7dZ1/PhxbN26FQAwYMAAzJ071+bx2bNno1+/fgCAkJAQnD9/3pXfGv0EFjjZMJvNePvtt6FQKPDu\n",
              "u+8CAL7//nvrUfiP3f+0IQAQBAGxsbHYtGlTt2Uloh9EREQgKysLfn5+1pe1pk+fjry8POTl5WHP\n",
              "nj149dVXceDAAaffqvnH8xz44dPG7pPL5Whtbe10fno4PIVONg4fPgydTocbN25Y3+7v9OnTePvt\n",
              "txEREYF3330XZrMZZrMZ2dnZ1q+LjIzE3r17rZ/E1NbWhrNnz4r1bRD1KJMmTUJdXR3eeecdmwLf\n",
              "t28fqqurERwcjPnz52PLli3Wwv3uu+/sfvTpjBkzsGfPHgBAbW0tjhw50qEMarUaDQ0NXfL9UMew\n",
              "wMlGVlYWFi1aZLNs5MiRGDRoEDQaDbRaLQIDAzF16lQEBARY3+c4LCwMf//73/Hb3/4WY8eOxahR\n",
              "o3hFKlE3USgUCA0NRVNTEx5//HEAwPDhw9HU1ITQ0FAoFAps27YNffr0gV6vR1BQEGbOnGn3c7oz\n",
              "MjJQWFiIwMBALFq0CJMnT+7Q+5nPnDkTJpMJQUFBvIitm/CtVMkpTU1NUKlUMJvNWLRoESZMmIDV\n",
              "q1eLHYuIusjdu3ehUCjg4eGBW7duwWAwYO/evTbXt5B74Gvg5JRf//rXMJlMMBqNCA0NRXJystiR\n",
              "iKgLXb58GTExMRAEAffu3cPy5ctZ3m6KR+BEREQSxNfAiYiIJIgFTkREJEEscCIiIgligRMREUkQ\n",
              "C5yIiEiCWOBEREQSxAInIiKSIBY4ERGRBLHAiYiIJOj/AIcK1+Vmf54/AAAAAElFTkSuQmCC\n",
              "\">\n",
              "        \n",
              "      </div>\n",
              "      <script></script>\n",
              "      <script type=\"text/javascript\">\n",
              "        (() => {\n",
              "          const chartElement = document.getElementById(\"chart-096749de-5400-4866-bc5f-477a0a80b65f\");\n",
              "          async function getCodeForChartHandler(event) {\n",
              "            const chartCodeResponse =  await google.colab.kernel.invokeFunction(\n",
              "                'getCodeForChart', [\"chart-096749de-5400-4866-bc5f-477a0a80b65f\"], {});\n",
              "            const responseJson = chartCodeResponse.data['application/json'];\n",
              "            await google.colab.notebook.addCell(responseJson.code, 'code');\n",
              "          }\n",
              "          chartElement.onclick = getCodeForChartHandler;\n",
              "        })();\n",
              "      </script>\n",
              "      <style>\n",
              "        .colab-quickchart-chart-with-code  {\n",
              "            display: block;\n",
              "            float: left;\n",
              "            border: 1px solid transparent;\n",
              "        }\n",
              "\n",
              "        .colab-quickchart-chart-with-code:hover {\n",
              "            cursor: pointer;\n",
              "            border: 1px solid #aaa;\n",
              "        }\n",
              "      </style>"
            ]
          },
          "metadata": {}
        },
        {
          "output_type": "display_data",
          "data": {
            "text/plain": [
              "<google.colab._quickchart_helpers.SectionTitle at 0x7dde5c9376a0>"
            ],
            "text/html": [
              "<h4 class=\"colab-quickchart-section-title\">Faceted distributions</h4>\n",
              "<style>\n",
              "  .colab-quickchart-section-title {\n",
              "      clear: both;\n",
              "  }\n",
              "</style>"
            ]
          },
          "metadata": {}
        },
        {
          "output_type": "display_data",
          "data": {
            "text/plain": [
              "import numpy as np\n",
              "from google.colab import autoviz\n",
              "df_8785923528690381692 = autoviz.get_registered_df('df_8785923528690381692')\n",
              "\n",
              "def violin_plot(df, value_colname, facet_colname, col_width=.3, col_length=3, mpl_palette_name='Dark2', **kwargs):\n",
              "  from matplotlib import pyplot as plt\n",
              "  import seaborn as sns\n",
              "  plt.figure(figsize=(col_length, col_width * len(df[facet_colname].unique())))\n",
              "  sns.violinplot(df, x=value_colname, y=facet_colname, palette=mpl_palette_name, **kwargs)\n",
              "  sns.despine(top=True, right=True, bottom=True, left=True)\n",
              "  return autoviz.MplChart.from_current_mpl_state()\n",
              "\n",
              "chart = violin_plot(df_8785923528690381692, *['Age', 'Animal'], **{'inner': 'stick'})\n",
              "chart"
            ],
            "text/html": [
              "      <div class=\"colab-quickchart-chart-with-code\" id=\"chart-e0ecb450-ce89-4eb0-88da-bfaf6663f952\">\n",
              "        <img src=\"data:image/png;base64,iVBORw0KGgoAAAANSUhEUgAAAUQAAACPCAYAAACCsqIFAAAAOXRFWHRTb2Z0d2FyZQBNYXRwbG90\n",
              "bGliIHZlcnNpb24zLjcuMSwgaHR0cHM6Ly9tYXRwbG90bGliLm9yZy/bCgiHAAAACXBIWXMAAA9h\n",
              "AAAPYQGoP6dpAAAew0lEQVR4nO3de1xUZf4H8M+ZK+igkEQmJIigWAgoN7XEsJDUykuamizsypbl\n",
              "K821WvKnhbmW5qavSrfViu2CSmhNaLW7r5S8ZeIKia6ZhMaIiggLykUuc86c5/cHM8eZkdsAwwz4\n",
              "fb9e85pznnOZ5zjDx3POM/M8HGOMgRBCCGSOrgAhhDgLCkRCCDGiQCSEECMKREIIMaJAJIQQIwpE\n",
              "QggxokAkhBAjCkRCCDGiQCSEECMKREIIMVI4ugKEOEp5eTmOHTuGs2fPorS0FPX19VCpVPD09ERA\n",
              "QACioqLg5+cHjuMcXVXSTSgQyW2FMYZjx45h27ZtyM3NbXP9gIAAzJkzB5MnT4ZCQX8uvR1HnTuQ\n",
              "24VOp8Pbb79tEYSGOzQw3OkG0c0VUMgBgwhZXSNkFTWQX60CZ/zr8PX1xbJlyxAdHe2g2pPuQIFI\n",
              "ej1RFLFjxw5s3boVPM+DcQDHgBuTw8D6uba8YYMemt15EFVyyPQGAMBjjz2GpUuXom/fvt1Ue9Kd\n",
              "qFGF9Grl5eVYsmQJNm/eDJ7nIQx0R90jYQAAplG3vrGq6RK5bnIY9IEDAQBff/01kpKS8Msvv9iz\n",
              "2sRBKBBJr3Xo0CEkJCQgNzcXTCFDQ4Q/GmKC2g5CayoF9KOHoC72Xoh9VLh06RL++Mc/4rPPPoPB\n",
              "YLBP5YlDUCCSXuf69etYvXo1/vznP6OqqgoG976oiwuBMPQuoBMtxqJXf9TFh0LwuQMGgwHvv/8+\n",
              "nnvuORQVFXVh7Ykj2T0Qa2pqoNFokJycLJV98sknmD59OgDgwIEDCAsLAwCUlJRg/PjxnX7NVatW\n",
              "oaGhodP7IT1LXV0dtm/fjtmzZ+Of//wnAEAfNAj1Dwe3fq/QFioFGsYNQ0OkP5hChlOnTiEhIQEb\n",
              "N25EeXl517wGcRi7B2JmZibCw8Oh1WpRW1vb6rqDBg3C4cOHO/2ar7/+eocCURCETr826X5nz57F\n",
              "W2+9hccffxybNm1CTU0NDP37oO6hYOhDfQF5F3/MOQ6C/12oeyQMwiAPGAwG7Ny5EzNmzMArr7yC\n",
              "w4cPg9oqeya7B2JaWhpSUlIQExODzMzMVtfV6XRwd3eX5nfv3o0RI0YgNDQUKSkp8PT0hE6nAwC8\n",
              "9NJLiIyMRFhYGGJiYlBQUAAAePbZZwEA48ePR1hYGMrKylBWVoaZM2di5MiRCA4OxtatW6XX8PPz\n",
              "Q0pKCqKiopCUlNRi3RobG1FdXW3xaGxs7OC/CukqgiDgueeew1dffYXa2lqIGhc0RA5F/aQQiJ5u\n",
              "dn1t1leNhvFBqJ8wAgZPNwiCgAMHDuDll1+WPo+kZ7FrIJ45cwYXL15EfHw8kpOTkZaW1u5ty8rK\n",
              "sGDBAnz11Vc4efIkgoKCUFFRIS1PSUnB8ePHkZ+fj0WLFuGFF14AAGzZsgUAcPjwYeTn58PLywuL\n",
              "Fy/G8OHD8d///hfff/891qxZg5ycHGlfFRUVOHbsGLZv395ifdauXYv+/ftbPNauXWvrPwnpYjzP\n",
              "o76+HgDQGOyDuilhEPy9AFn3/brEMNAd9Q8Fo358kFRWXV3dba9Puo5dv3qflpaGxMREyOVyTJky\n",
              "BQsXLmz31xVycnIQEhKCoKCmD1lSUpJ09gcAe/fulS6PRFFEZWVli/vat28f8vLyAABeXl6YOXMm\n",
              "9u3bhzFjxgAAfv/737f586zly5dj2bJlFmVqtY2tlaTLKRQKqFQq6PV6qE9fgqLkOvT3esMwyKNT\n",
              "DSi2kFXWQnXmEuSXr0ll9D3FnslugcjzPNLT06FUKrFjxw4ATTe909LSEBwc3Kl9FxcX4/nnn8fx\n",
              "48cxdOhQnDp1CjExMe3e3jr8NBpNm9uo1WoKQCekVCqxYcMGaLVa/PDDD0BlLVx/KIDhTjc0hPuD\n",
              "9e9jvxdv5KHOvwCl7mZjyqhRozB16lSMGDHCfq9L7MZul8x79uyBv78/Ll++DJ1OB51Oh5ycHKSn\n",
              "p4Pn+Ta3HzNmDE6dOiXdi9m2bRv0ej0AoKqqCkqlEnfffTcYY9i8ebPFtm5ubqiqqpLmH374YXz4\n",
              "4YcAmr6oq9VqERcX11WHShwsMjISa9euxe7du5GYmAi1Wg15eQ36fHcKyl8uA2LXN3DIL1eiz7/y\n",
              "pTCcNGkSMjIy8Pe//x2PPvooZDL6RltPZLczxLS0NMyfP9+ibMSIEfD29kZNTU2b23t5eeGjjz7C\n",
              "9OnToVarERcXB41GA3d3d/j5+WHu3Lm47777MGDAAOkrPCYvvvgi4uLi0KdPH3z33Xd477338Nxz\n",
              "z2HkyJFgjGHFihX0m9Re6I477sCiRYswY8YMvP322zhy5AjUp4ohL72OxugAsD5dcIYvGJrOCs9f\n",
              "BQAMHToUy5cv7/RVD3EOTv1b5pqaGri5NbUUZmVlYfny5fSTKdIujDF888032LhxI+rr68FUCjRE\n",
              "+sPgMwAQRWh2HUPt7GigtTM5q/Vk125AnVMIeXVTI878+fOxcOFCqFSqbjoqYm9O3Z/Rpk2bkJmZ\n",
              "CYPBgH79+rXaCkyIOY7j8NhjjyE0NBSvvvoqCgoK4HrkV/C+nmgMGWzbzgwilL9churMZXAiw4AB\n",
              "A5CamoqoqCj7VJ44jFOfIRLSFXiexwcffIDt27dDFEUwhQycIKL28dGAayuX0bwAjfY4xD4qyOqa\n",
              "7l9PmDABr7zyCjw8PLqp9qQ7USCS28bp06exfv16/PrrrwAAxjV9h9BwZz+IGhdAaewP8UYjZBW1\n",
              "UJRUghNEAICnpydeeOEFPPzww9SDdi9GgUhuK6IoYu/evdi2bRsKCwvbXN/LywuzZ8/GrFmz4Ora\n",
              "Rb+HJk6LApHcts6fP4+cnBxpTJW6ujqo1Wp4enoiMDAQkZGRGDlyJORyuaOrSroJBSIhhBjRt0cJ\n",
              "IcSIApEQQowoEAkhxIgCkRBCjCgQCSHEiAKREEKMKBAJIcSoXZ07zJgxo9WfK2m12i6rECGEOEq7\n",
              "AtG6v8H28vPzQ1ZWljTMKAA8+OCDWLp0aYf32R7Xr1/Hli1b8Morr9jtNQghvU+7ArG10eic0fXr\n",
              "17Fu3boOBaIgCFAonLpXtA4zGAwQBMHi0VwZz/MtrmO9zHod83WtywwGg8VDFEWLclEUpXVFUQRj\n",
              "TCo3TTPGpHlRFC2mAUjzpoepHIBUZppuL/OrI47jpHmO46SesWUymbTMNC2TySyWt/aQy+WQyWRQ\n",
              "KBSQy+UWD9Ny82XW06Z503Rz8wqFAkqlssV1rJc1t55cLu/VnVvY/Je/c+dO5OfnW4x7vHHjRptf\n",
              "eMeOHXj33Xeh1+shiiLWrFmDxx57DEDTWWR4eDiOHz8OnU6HpKQkjB07Fm+++SYuXbqEJUuWYNmy\n",
              "ZRBFEUuWLEF2djZUKhUUCgWOHDmCZ599FjU1NQgLC4NCoUBubi5KS0uxZMkS6HQ61NfXY9q0aViz\n",
              "Zg2ApjPZOXPmYP/+/QgMDGy238XGxsZbhh1t7zgr3333HXbs2AGDwdCuD1Nrf6ym7Rlj4DjulpBp\n",
              "LZzoV5qkKzQXws2FtPkwCuaf++Y+h+0NWcYYHnzwQSQmJkKpVHb+YKzYFIhLlixBUVER8vLyMG/e\n",
              "POzatavNsUnmzJlj0UvIuXPnAADx8fGYN28eOI6DTqfDmDFjcOHCBSlgLly4gP3796O6uhp+fn64\n",
              "du0aDh8+jJKSEgwfPhwLFixAUVERsrOz8fPPP0Mmk6GqqgoqlQpbtmxBWFgY8vPzpddNSkrC//3f\n",
              "/2HChAkQBAGPPvoodu3ahdmzZwO4ORRpS2/M2rVr8frrr1uUpaamYtWqVa0ef3V1NVJTU3t9GCk4\n",
              "BqWMQcUxKGQMKhmTyhTczXkFx6CQAXKOQckxyGUMSq5pXsExcACyrrhjrk8llDJAxjHIOYBD0zLT\n",
              "6KIy47ocmgbXa5puKoM03+Rm2c33wNZzHPN3j7GbezJ/Nr3FIjgwZiwzW58xQATAwEFkgIEBBsaB\n",
              "FznsuuyBx+++DhEcDCLAMw4GxkEQOQgMEIzrCYwDbyzXixwMDODFpjLTs160b1up6T9fR41LXlhY\n",
              "iPvuu08aNbMr2RSI+/fvx8mTJzFq1Chs2LABL7/8cpuX05mZmbfcQwSAoqIizJ8/H5cuXYJCoUBl\n",
              "ZSWKioqkYUdnzZoFuVwODw8P+Pv749FHHwXHcfD29sadd94JnU4Hf39/CIKABQsWIDY2FlOnTm12\n",
              "cJ8bN24gOzsbV69elcpqa2stBhNvayjSjg5D6ubmhqlTp+Kbb75pc92eTGAcBAOH+i7a3+eX7rCY\n",
              "Nw9EDswsBE2BaBmQgFkockyaN39GC/OAZQBalzEAsArF1gOxKQRvhmLzn7M9V9ybLSeWQkJC7Daq\n",
              "oU2B6OLiIt0f4XkeAwcORElJSYdeeO7cuVi3bh1mzZoFoGmAIPPLcBcXF2laLpffMi8IAvr374/T\n",
              "p0/j4MGD2L9/P5YvX45Dhw7dcg/QdHaWk5NjsR9zbQ1F2tFhSDmOw8qVK7Fy5UqbtzVnul9mfo+t\n",
              "tcvk1i6fW7uPaLpH2Na9xZb2Z11ufZ/Q+l6i+f3C1pgCpWkAPa75xOpFzC87TZei5tPmy5q7fG3u\n",
              "fqBpeWv3Clu6/6hUKlu8X2l92dzSvVDTMmcekdCmQHRzc0NdXR0eeOABJCQkYODAgejTp2Pj3l67\n",
              "dg1DhgwB0DTE6LVr19rY4lbl5eWQy+WYNGkS4uLicPDgQZw5cwYPPPAA6uvrodfroVKpoNFoEBsb\n",
              "i3Xr1kmXuCUlJRBFET4+Ph2qf3czfZAUCkWvHB/a1GhiakQxBb7p2bwRxbyRBYD03FKDinlDSlc1\n",
              "qpjKzBtTzBtZTH0omhohOI6Tpq0bU8wbTpw9MHo7mwIxIyMDcrkcf/3rX7FhwwZcv34dX3zxRYde\n",
              "+N1338WsWbPg7u6OiRMnYvBgGwf+AXDx4kU8/fTT4HkeBoMB999/PyZPngylUonExESEhIRAo9Eg\n",
              "NzcX27dvx7JlyxAcHAyO49C3b19s3bq1xwRib8dxnHTGQYijUAexhBBiZNN/x2fOnMGqVatw7tw5\n",
              "CIIglZ86darLK0YIId3NpjPEkJAQJCYmIioqymKcifvvv98ulSOEkO5kUyCOGjUKJ06csGd9CCHE\n",
              "YWxqzoqNjcWhQ4fsVRdCCHEom84Qf/zxR8THx8PNzQ0uLi7Sz8d+++03e9aREEK6hU2BOHz4cKSk\n",
              "pCAiIsLiHuJ9991nl8oRQkh3sikQw8PDkZeXZ8/6EEKIw9h0D3Hq1Kn4+uuv7VUXQghxKJvOED08\n",
              "PFBVVQVXV1eo1WrpHmJlZaU960gIId3Cpi9mm3enRQghvQ39dI8QQozadYY4b948ZGRkYNSoUc32\n",
              "GfjTTz91ecUIIaS7tSsQX3rpJQDAO++8Y8+6EEKIQ9ElMyGEGNnUqKLT6fDWW2/h/PnzFr3dfP/9\n",
              "911esY4SBAFvvPEGMjIypP71oqKisH79eri7uze7TX5+Ps6ePYu5c+d2b2VJl2pvJ7Pmz9YP8301\n",
              "x3zEveY6i7Uecc+641fzDmGJ87EpEJ988kk89NBDeP755y1+qeJMkpOTUVlZiaNHj8LDwwOMMXzx\n",
              "xReorKxsNRCzsrIoENsgiiJ4ngfP89Dr9dLDfN56urGx8Zb19Xo9BEGQlrX0MB+2wHr4U/OhDsyD\n",
              "r6cw9aBtPTSAqXt/827+lUqlRbn1Q6VStfhs/bAuN5833/Z27ajX5u6/nLnvw3PnziEkJATFxcXw\n",
              "9PS0WFZaWop58+ahuroaDQ0NiI2NxXvvvYf//e9/iIiIQFVVFYYMGYIxY8Zgy5Ytt+y7M8OQ2ote\n",
              "r4dWq8X58+fbXNd8bJOWxkoxfzZNm4ecqav+nozjZMbnm+PymaabBqRq/3CYpoFdbv4JMam8p9+J\n",
              "kslkzYaueSi3FODmY6y0pW/fvpg5c2aHesy3B5v+GwgODkZxcbHTVN7aTz/9hMDAwFvCEADc3d3x\n",
              "9ddfQ6PRwGAwYNq0adi5cyfmzp2L1atXIysrC1lZWS3uu6PDkNrTgQMHnL6hSy5XQiFXQ6FQQ6FQ\n",
              "NT3LVZAbnxUKFeQyJTiZHDKZHDKu6ZnjZE3PMjlknAwcJzdejjY9MwYcy/0MY6MWQCFXgONkxgcn\n",
              "PQMys0tartlvSNjTzctw88tz0fhgYBDBRBEGg4Cjxz9GVPjvwHEAE0WIzABRNICxpmlTGRObyk3L\n",
              "RVGAwaCHIOghGPQQhEbjdCMEoREG47StAS2KYrMnAfZQWFiIv/3tb3Z/nfawKRDLy8sRGhqKsWPH\n",
              "Woxep9Vqu7xiXU0URaSkpOCHH34AYwxlZWUIDg5u92VyR4chtafAwED07dsXN27ccGg9WmMw8DAY\n",
              "eDTqa1tcpym0rALRFITGsqaAbArEm4EHnC/6AXKZQgpCmEIRnFlA3gxH0+vdDMhbzww5mI1jCg7S\n",
              "EH/Sk2nCNGV+pmh5lmgKP+v5m8EoQhQN0rGAsabgM1tmHoiiaAxFs8Ds6aKjox1dBYlNgZiQkICE\n",
              "hARpnud51Na2/EHvbqNHj0ZhYSEqKiowYMAAi2UbN25EWVkZjh07BhcXFyxbtsxi2NO2OPryuDlD\n",
              "hgxBdna2RZl5w4L5MKCm59aGFm3uctn6stk039H7h6Z56wYMxgSIomB9iG0qK/+10/+OzqKisqjT\n",
              "+1AoFBb3BNVqdav3DU3z1uu2dLmsUqks7m02N0Sp+RCk1vPO3qBkUyCaBqUvKCjARx99hPT0dPj4\n",
              "+GDp0qX2qJvNAgIC8MQTTyA5ORmffPIJ3N3dwRiDVqtFXl4efHx84OLigtLSUuzatQtPPPEEAKBf\n",
              "v36oqqpycO27hvnodc4W4Cam0DYPSPPGGutgtg5tU5kpWM1D39S4Ypo3b2E2H7a0taFKzZ+tWbcy\n",
              "A80PRWr9sB5q1DokOI6TwsY8YKzv0ZmHlWl98zJnDpueoN2NKnV1dcjMzERaWhp+++031NfX4+jR\n",
              "owgKCrJ3HW3C8zzWrFmDzz//HAqFAqIoIiYmBitWrMCsWbNw48YNDBo0CD4+Pujfvz/eeecdVFVV\n",
              "YfLkyaitrcW4ceOabVQhhPR+7QrEp59+GlqtFjExMViwYAEmT56MwMBAFBV1/hSfEEKcRbsumT//\n",
              "/HNERERg4cKFiI+Pt7hcIISQ3qJdNxyuXLmChIQErF69Gr6+vli5ciV4nrd33QghpFu1KxA1Gg2S\n",
              "k5Px448/4t///jcaGhqg1+sxbtw4vP/++/auIyGEdIsOd+4gCAJ2796Nf/zjH/j222+7ul6EENLt\n",
              "qLcbQggxoi8tEUKI0e3ZpQW5bTHGpF8oubi40LcliAU6QyS3FVNPR7GxsTb9dJPcHigQCSHEiAKR\n",
              "EEKMKBAJIcSIApEQQowoEAkhxIgCkRBCjJwyELVaLcLDwxEWFoagoCBMnDixUyOq+fn5IT8/v+sq\n",
              "SAjplZzui9lXrlzBM888g7y8PPj6+gJoGjyKvkBLCLE3pztDvHr1KuRyOe644w6pbPTo0eA4Dn5+\n",
              "fnjttdcwduxYDBkyBGvWrJHW2bhxIyIjIxEWFobIyEgcPXq02f1v2rQJ999/P8rLy1FaWoonn3wS\n",
              "UVFRGDlyJFauXNlivRobG1FdXW3x6I4RyQgh3Yg5GYPBwGbOnMk8PDzY9OnT2fr169mlS5cYY4z5\n",
              "+vqyxYsXM8YYKy8vZ/369ZOWlZWVSfs4evQoGz58uDTv6+vL8vLy2J/+9Cc2ffp0VldXxxhjbNKk\n",
              "SezAgQOMMcZ4nmfx8fFs586dzdYrNTXVNBCv9EhNTe3y4yf2VVdXx6Kjo1l0dLT0OSDExOkumWUy\n",
              "Gb788kucPXsWBw8exL/+9S+88cYbyM3NBQA89dRTAABPT0/4+/ujqKgI3t7eOHHiBN544w1UVFRA\n",
              "oVCgoKAA9fX1cHV1BQA888wzGDVqFL788kvIZDLcuHED2dnZuHr1qvTatbW1KCgoaLZezjgMKSGk\n",
              "azldIJoEBQUhKCgICxcuxCOPPII9e/YAgMV40HK5XBoWc+bMmdi/fz8iIyNRXV2N/v37o7GxUQrE\n",
              "CRMmYO/evSgtLcWgQYOkUdVycnIs9tkSZxyGlBDStZzuHuLly5dx5MgRaf7atWsoKirC0KFDW9zG\n",
              "1IP34MGDATTdJ7T2u9/9Dq+99homTpyIoqIiaDQaxMbGYt26ddI6JSUluHTpUhceDSGkJ3G6QBQE\n",
              "AatXr8awYcMQFhaG8ePHIykpCdOmTWtxm379+mHNmjWIiopCeHg4VCpVs+vNmjULGzZswKRJk3D2\n",
              "7Fls374d586dQ3BwMEaOHImZM2eioqLCXodGCHFy1GM2ua3U19cjNjYWALB//37plgohgBOeIRJC\n",
              "iKNQIBJCiBEFIiGEGFEgEkKIEQUiIYQYUSszua0wGnWPtILOEJ1YY2MjVq1a1eM7kXCm4+A4Dq6u\n",
              "rnB1de1QGDrTsXQWHcut6AzRiZl+glhVVYV+/fo5ujod1luOA6BjcVZddSx0hkgIIUYUiIQQYkSB\n",
              "SAghRhSITkytViM1NbXHdzvWW44DoGNxVl11LNSoQgghRnSGSAghRhSIhBBiRIFICCFGFIhO6Ntv\n",
              "v0V4eDjUajWWLl1qsUwURSxevBhDhw5FQEAANm/e7JhK2qCwsBDjxo3DsGHDEBkZiZ9//tnRVWqX\n",
              "JUuWwM/PDxzHIT8/XyrvicfT0NCA6dOnY9iwYQgNDUVcXBzOnTsHACgrK8MjjzyCwMBABAcH49Ch\n",
              "Qw6ubdsmTZqEkJAQqVf9EydOAOiC98ZRw/2RlhUUFLD8/Hy2YsUK9sILL1gs+/TTT9nEiROZIAis\n",
              "oqKCDR48mJ0+fdoxFW2n2NhY9vHHHzPGGNu1axeLiIhwbIXa6eDBg+zixYvM19eXnThxQirvicdT\n",
              "X1/Pvv32WyaKImOMsU2bNrEJEyYwxhj7wx/+IA2p+5///Id5e3szvV7voJq2z7Vr16RprVbLQkJC\n",
              "GGOdf28oEJ1YamrqLYE4ZcoUlpGRIc2//PLLbMWKFd1cs/a7evUqc3NzYzzPM8YYE0WR3XXXXayw\n",
              "sNDBNWs/80DsDcfDGGPHjx9nvr6+jDHG+vbty65cuSIti4yMZHv37nVQzWz38ccfs9DQ0C55b+iS\n",
              "uYcpLi6Gr6+vNO/n54fi4mIH1qh1Fy9exN133w2FomnEW47jMHjwYKeuc2t6y/G8++67mDZtGioq\n",
              "KsDzPAYOHCgtc/bPlEliYiLuuecevPrqq0hPT++S98Zpx2XuzcaOHYvCwsJml504cQL33HNPN9eI\n",
              "3E7efPNNnDt3DtnZ2aivr3d0dTrss88+AwB8+umnSElJwV/+8pdO75MC0QGOHj3a4W0HDx6MCxcu\n",
              "YOzYsQAAnU4njUftjO655x5cuXIFgiBAoVCAMYbi4mKnrnNrevrxvP3229Bqtdi3bx/69OmDPn36\n",
              "QKFQoLS0VDpLdPbPlLWkpCQ8++yz8PHx6fR7Q5fMPczs2bPx4YcfwmAwoLKyEpmZmZgzZ46jq9Ui\n",
              "Ly8vjB49Gtu2bQMAfPnll/Dx8UFAQICDa9YxPfl4Nm7ciIyMDOzduxfu7u5S+ezZs7FlyxYAwPHj\n",
              "x3H58mVMmDDBQbVs2/Xr11FSUiLNZ2VlYcCAAV3z3tjlLifplH379jFvb2/m5ubGNBoN8/b2Zrt3\n",
              "72aMMSYIAlu0aBEbMmQI8/f3Z++8846Da9u2s2fPsjFjxrDAwEAWHh7OTp065egqtcszzzzDvL29\n",
              "mVwuZ15eXmzo0KGMsZ55PBcvXmQAmL+/PwsNDWWhoaEsKiqKMcZYaWkpi4uLYwEBAezee+9l33//\n",
              "vYNr2zqdTsciIyNZcHAwCwkJYQ899JDU6NXZ94Z+y0wIIUZ0yUwIIUYUiIQQYkSBSAghRhSI5LZQ\n",
              "U1MDjUaD5ORkR1eFODEKRHJbyMzMRHh4OLRaLWprax1dHeKkKBDJbSEtLQ0pKSmIiYlBZmYmAIDn\n",
              "eSxatAjDhg3DmDFj8OKLL+LBBx+UtklPT0d0dDRGjx6NmJgYnDx50kG1J92FfqlCer0zZ87g4sWL\n",
              "iI+PhyAIWLduHZKTk/HBBx+gsLBQ6iJqypQp0jZHjhxBRkYGDh06BLVajcOHD+Opp57qEV19kY6j\n",
              "M0TS66WlpSExMRFyuRxTpkxBUVERfvnlF2RnZyMhIQFKpRJKpRJJSUnSNrt378bJkycRHR2NsLAw\n",
              "LF68GJWVlT36t7+kbXSGSHo1nueRnp4OpVKJHTt2AADq6uqQlpZ2y7ocx0nTjDEkJSXhzTff7La6\n",
              "EsejM0TSq+3Zswf+/v64fPkydDoddDodcnJykJ6ejtjYWOzYsQM8z4Pnean3FAB4/PHHsW3bNqnr\n",
              "KFEUkZub66jDIN2EzhBJr5aWlob58+dblI0YMQLe3t7w8vKCn58f7r33Xnh4eCAiIkLqNGD8+PFY\n",
              "v349ZsyYAUEQoNfrMXXqVERERDjiMEg3od8yk9taTU0N3NzcwPM85s+fj/DwcKSkpDi6WsRBKBDJ\n",
              "bS06OhqNjY1oaGjAAw88gE2bNsHV1dXR1SIOQoFICCFG1KhCCCFGFIiEEGJEgUgIIUYUiIQQYkSB\n",
              "SAghRhSIhBBiRIFICCFGFIiEEGL0/4IJeDHVYeJFAAAAAElFTkSuQmCC\n",
              "\">\n",
              "        \n",
              "      </div>\n",
              "      <script></script>\n",
              "      <script type=\"text/javascript\">\n",
              "        (() => {\n",
              "          const chartElement = document.getElementById(\"chart-e0ecb450-ce89-4eb0-88da-bfaf6663f952\");\n",
              "          async function getCodeForChartHandler(event) {\n",
              "            const chartCodeResponse =  await google.colab.kernel.invokeFunction(\n",
              "                'getCodeForChart', [\"chart-e0ecb450-ce89-4eb0-88da-bfaf6663f952\"], {});\n",
              "            const responseJson = chartCodeResponse.data['application/json'];\n",
              "            await google.colab.notebook.addCell(responseJson.code, 'code');\n",
              "          }\n",
              "          chartElement.onclick = getCodeForChartHandler;\n",
              "        })();\n",
              "      </script>\n",
              "      <style>\n",
              "        .colab-quickchart-chart-with-code  {\n",
              "            display: block;\n",
              "            float: left;\n",
              "            border: 1px solid transparent;\n",
              "        }\n",
              "\n",
              "        .colab-quickchart-chart-with-code:hover {\n",
              "            cursor: pointer;\n",
              "            border: 1px solid #aaa;\n",
              "        }\n",
              "      </style>"
            ]
          },
          "metadata": {}
        },
        {
          "output_type": "display_data",
          "data": {
            "text/plain": [
              "import numpy as np\n",
              "from google.colab import autoviz\n",
              "df_8785923528690381692 = autoviz.get_registered_df('df_8785923528690381692')\n",
              "\n",
              "def violin_plot(df, value_colname, facet_colname, col_width=.3, col_length=3, mpl_palette_name='Dark2', **kwargs):\n",
              "  from matplotlib import pyplot as plt\n",
              "  import seaborn as sns\n",
              "  plt.figure(figsize=(col_length, col_width * len(df[facet_colname].unique())))\n",
              "  sns.violinplot(df, x=value_colname, y=facet_colname, palette=mpl_palette_name, **kwargs)\n",
              "  sns.despine(top=True, right=True, bottom=True, left=True)\n",
              "  return autoviz.MplChart.from_current_mpl_state()\n",
              "\n",
              "chart = violin_plot(df_8785923528690381692, *['Weight', 'Animal'], **{'inner': 'stick'})\n",
              "chart"
            ],
            "text/html": [
              "      <div class=\"colab-quickchart-chart-with-code\" id=\"chart-8a9c9c81-a4fc-4ec4-833f-e2d271778142\">\n",
              "        <img src=\"data:image/png;base64,iVBORw0KGgoAAAANSUhEUgAAAUEAAACPCAYAAABkm2lBAAAAOXRFWHRTb2Z0d2FyZQBNYXRwbG90\n",
              "bGliIHZlcnNpb24zLjcuMSwgaHR0cHM6Ly9tYXRwbG90bGliLm9yZy/bCgiHAAAACXBIWXMAAA9h\n",
              "AAAPYQGoP6dpAAAdFUlEQVR4nO3de1xUdf748ddcQEBAvJF3J0okA0TlIq6ig6um1U9XzbUybdXU\n",
              "2jTX6mE96qvmQ9PaciN7tPYoN3fTvCVarbv7SA2voXlD3TXdtGERlYugyB1m5vP7A+cICArKcJv3\n",
              "8/E4njmfmXPmfRh587mcOR+dUkohhBAuSt/QAQghREOSJCiEcGmSBIUQLk2SoBDCpUkSFEK4NEmC\n",
              "QgiXJklQCOHSJAkKIVyaJEEhhEuTJCiEcGnGhg5AiObIbrdz/vx5Tp06hcViISMjg/z8fAC8vLzw\n",
              "9/fHZDIRHBxMjx49MBgMDRyx65IkKEQdslgsbN26lV27dpGVlVWjffz8/IiNjWXMmDEEBgY6OUJR\n",
              "mU5uoCDEvfvvf//Lp59+yr59+7QyZdRja+eD3a8ldq8W4GYAHVBqQ19QjP5aAYYruehKbdo+/fv3\n",
              "Z/r06QQHBzfAWbgmSYJC3IMrV67w8ccf849//AMARVmeK/xVT2wd/cBwh253ux3D5Rw895/R9gUY\n",
              "OnQos2fPpkOHDs4LXgAyMCLEXbFarWzYsIEJEyZoCbC0W1sKRvQGwNbJ784JEECvx9axFQAFI8Mo\n",
              "NbVHAbt27WLixIn89a9/paSkxElnIUD6BIWotWPHjvH+++9z/vx5AGxtvCnua8Le1gfs9rs+rvJu\n",
              "QXHUg5QGdqTFcQtFmbn8+c9/Zvv27cybN4/+/fvX1SmIciQJClFDFouFVatWsWfPHgCUu5Hi0G5Y\n",
              "A/xBp7vD3jVnb92SQvPDGP93BfcT/yMlJYW5c+cSHR3N888/L4MndczpzeHc3Fy8vb2ZNm2aVrZm\n",
              "zRrGjBkDwO7duwkLCwPg0qVLDBo06J7fc9GiRRQVFd3zcYSw2+0cPXqU1157jaeeeoo9e/agdFD6\n",
              "wH3kjwrD+sB9dZoANTodVlN7CkaGURLYEaXTkZiYyOTJk3n55Zc5dOgQNpvtzscRd+T0muDGjRvp\n",
              "168f8fHxxMXF4e3tXe1rO3XqVGF07W699dZbzJ07Fw8Pj1rtZ7VaMRqlciwgKSmJnTt3sm/fPtLT\n",
              "07Vya+c2lIR0xd7Kq34CcTdS0sdE6YP34f7vCxhTsjhw4AAHDhygXbt2DBo0iNjYWCIiIuonnmbI\n",
              "6TXB1atXM3/+fGJiYti4ceNtX5ucnIyfn5+2/fXXX/PQQw/Ru3dv5s+fT7t27UhOTgbglVdeISIi\n",
              "grCwMGJiYjh79iwAs2bNAmDQoEGEhYWRkZFBRkYGY8eOJSQkhODgYD755BPtPUwmE/PnzycyMpIp\n",
              "U6ZUG1txcTHXr1+vsBQXF9/lT0U0ZtnZ2Tz//PN89dVXpKeno4wGSgP8KXikN0UDe9ZfAixH+XhS\n",
              "HB1IwagwSnp0QLkbuHLlClu3bmX27NlcvHix3mNqLpyaBE+fPs2FCxcYMWIE06ZNY/Xq1TXeNyMj\n",
              "g6lTp7J161ZOnDhBUFBQhYtP58+fz+HDh0lKSuKFF17gpZdeAmDVqlUA7Nu3j6SkJPz9/Zk9ezY9\n",
              "e/bk1KlTfP/99yxZsoSDBw9qx8rKyuLQoUOsW7eu2niWLVtGq1atKizLli2r7Y9ENAF5eXk4rhwr\n",
              "CepE/uh+FEc80CDJrzLl40lJ3/vJ/3/hlDzcRSvPyclpwKiaNqe2/VavXs3kyZMxGAyMGjWKmTNn\n",
              "8tNPP9Vo34MHDxIaGkpQUBAAU6ZM0Wp5ADt27GDlypXk5uZit9vJzs6u9lg7d+7k6NGjAPj7+zN2\n",
              "7Fh27typjbY9++yz6O7Qr/P6668zb968CmUtWrSo0bmIpsXL62aycz9zCeP/rmA1taf0wftQXg37\n",
              "mesKSzCeT8fNkom+4GZL5HbdTOL2nJYES0tL+eKLL3Bzc+PLL78EoKCggNWrV9/z1fApKSm8+OKL\n",
              "HD58mAceeICTJ08SExNT4/0rJ7ya/Adq0aKFJD0X0a5dO95991127NhBYmIieXl5uP90Ebezl7Ca\n",
              "2lPycJd6T4a6whLcTl/E7Zd0dPayWqqXlxdRUVHExsbStWvXeo2nOXFaEvzmm28ICAio0Oz86aef\n",
              "GDJkCEuWLLnj/v379+fkyZOcPXuWnj17snbtWu2i0ZycHNzc3OjYsSNKKT766KMK+/r4+JCTk6P1\n",
              "L/7617/m008/ZenSpWRmZhIfH8/mzZvr7mRFsxMTE0NMTAwlJSXs37+fzZs3c/z4cdx+ycD4vyuU\n",
              "9uxIyUOdwejkGx/Y7LidvYT7TxfRWcuuQQwODuaJJ55g8ODBtR78E7dyWhJcvXo1Tz/9dIWyhx56\n",
              "iM6dO5Obm3vH/f39/fnss88YM2YMLVq0YNiwYXh7e+Pn54fJZGLixIk8/PDDtG3bVrvcxuHll19m\n",
              "2LBheHl58d133/Hhhx/y/PPPExISglKKN954g6ioqLo8XdFMubu7ExsbS2xsLCdOnGDVqlUcP34c\n",
              "99MXMSZnUtzHhK1zG6dcJmO4fJUWxyzo88qavb169eKFF16gX79+d+y+ETXXqL87nJubi4+PDwDb\n",
              "tm3j9ddfr3GfohDOoJRi9+7dxMXFkZaWBoC1gx/FfUwoX0+w2/HefIi8J6JAX8Nxx0r76PKKaJGU\n",
              "jPHiVaCsef7iiy8yYsQISX5O0Kgvilu5ciUbN27EZrPh6+t729FbIeqDTqfDbDYTHR3NmjVryv5P\n",
              "pl3D8K8TlD7gT2lQ57s/eFEp7v+9jNvPaejsCr3BwG8nTGD69Om0bNmy7k5CVNCoa4JCNHYpKSnE\n",
              "xcVx4MABAJQOdAoKzA9jb+9z52ayUuiz8vDa9W+UXqcNeoSHhzNv3jwCAgKcfQouT5KgEHXgyJEj\n",
              "fPLJJ5w6dUors3u4YfNvhb21F8qrBcrNePN+gvnF6K/lY8i8jr7g5l1igoKCmDFjBtHR0dL0rSeS\n",
              "BIWoI0opTpw4wdatW9m7dy+FhYU12s/d3Z2BAwcyduxYGfRoAJIEhXCC4uJiTp48yalTp0hOTr5l\n",
              "jpH27dtrc4yEhYXJpS4NSJKgEMKlNerRYSFuRyml3TLNw8NDmpHirsjt9UWTVVRUhNlsxmw2y/0j\n",
              "xV2TJCiEcGmSBIUQLk2SoBDCpUkSFEK4NEmCQgiXVqNLZH7zm9/c9vKD+Pj4OgtICCHqU42SYOX7\n",
              "9dWUyWRi27Zt2pSaAEOGDGHu3Ll3fcyauHbtGqtWreK1115z2nsIIZqHGiXB283C1hhdu3aN5cuX\n",
              "31USlGk3hXAttf5t37RpE0lJSRUuTl2xYkWt3/jLL78kLi6OkpIS7HY7S5Ys4fHHHwfKaov9+vXj\n",
              "8OHDJCcnM2XKFKKjo3n77bdJTU1lzpw5zJs3D7vdzpw5c9i1axfu7u4YjUYOHDjArFmzyM3NJSws\n",
              "DKPRyJEjR0hLS2POnDkkJydTWFjI6NGjtdv8m0wmfvvb35KQkECPHj2qvG9hcXHxLVNsyrwjQjQD\n",
              "qhZmz56tHnvsMdWxY0c1b9481bVrVzV16tRqX9+9e3cVGBioevfurS0tW7ZUW7duVVeuXFF2u10p\n",
              "pZTFYlH33XefKioqUkopNXjwYDVu3DhltVpVdna28vX1Vb///e+V3W5XqampqmXLlurq1avq2LFj\n",
              "KigoSNlsNqWUUteuXVM2m01ZLBbVqlWrCrEMHz5c7d69WymlVGlpqRoxYoTatGmTFue0adO0eKqy\n",
              "cOFCBVRYFi5cWJsfn6hjBQUFKioqSkVFRamCgoKGDkc0UbWqCSYkJHDixAn69OnD+++/z6uvvnrH\n",
              "pvLGjRtv6RMEsFgsPP3006SmpmI0GsnOzsZisWhTbI4fPx6DwUDr1q0JCAjgscceQ6fT0blzZ9q3\n",
              "b09ycjIBAQFYrVamTp2K2Wzm0UcfRV/FLc3z8/PZtWsX6enpWlleXp42YTvcedpNmXJTiOapVknQ\n",
              "w8MDvV6PTqejtLSUDh06cOnSpbt644kTJ7J8+XLGjx8PQJs2bSo0scvfWshgMNyybbVaadWqFf/+\n",
              "97/Zs2cPCQkJvP766+zdu/eWPj1140Y5Bw8erPaWRXeadlOavkI0T7W6TtDHx4eCggIGDhzIpEmT\n",
              "eOmllypMVF0bV69e5f777wdg7dq1XL16tdbHyMzMJD8/n+HDh/P2229jMpk4ffo0vr6+FBYWalN0\n",
              "ent7YzabWb58ubbvpUuXSE1NvavYhRDNR62S4Pr16zEYDPzxj38kJCQENzc3vvrqq7t647i4OMaP\n",
              "H0+fPn04fvw43bp1q/UxLly4wLBhwwgNDSU4OJjg4GBGjhxJmzZtmDx5MqGhoYSHhwOwbt06zp07\n",
              "R3BwMCEhIYwdO5asrKy7il0I0XzITVVFk1VYWIjZbAbK+qs9PT0bOCLRFNWqT/D06dMsWrSIc+fO\n",
              "YbVatfKTJ0/WeWBCCFEfapUEJ06cyOTJk3nxxRcxGAzOikkIIepNrZKgwWDglVdecVYsQghR72o1\n",
              "MGI2m9m7d6+zYhFCiHpXq4GRH374gREjRuDj44OHhwdKKXQ6Hb/88oszYxSiSkomWhJ1oFZJsGfP\n",
              "nsyfP5/w8PAKfYIPP/ywU4ITQghnq1US7NevH0ePHnVmPEIIUa9q1Sf46KOP8u233zorFiGEqHe1\n",
              "qgm2bt2anJwcPD09adGihdYnmJ2d7cwYhRDCaWp1iUxSUpKTwhBCiIYhX5sTQri0GtUEn3zySdav\n",
              "X0+fPn2qvAzh2LFjdR6YEELUhxolQce3RD744ANnxiKEEPVOmsNCCJdWq4GR5ORk3nnnHc6fP1/h\n",
              "LjLff/99nQd2t6xWK0uXLmX9+vUYjUaMRiORkZG8++67+Pn5VblPUlISZ86cYeLEifUbrKgxu92O\n",
              "3W7HZrOhlNLWjnK73a5tl187/sY7Hpcvc5RXp3LXj06nq7AA2p3WdTqd9thgMGjbjsVRXn5bNA61\n",
              "SoITJkxg6NChjfouMtOmTSM7O5vExERat26NUoqvvvqK7Ozs2ybBbdu2NeskaLPZKC0t1daVF6vV\n",
              "etvt273earVWuV2+3PHYZrPddu14XD7Z2Wy2hv7x1TlHQnQkTKPRiMFg0P5wGwyGW7YrP3Zzc9PK\n",
              "3NzcMBgMuLm54e7urj12LI7XVC5zd3e/5fnKr638nCPm5qJWzeHQ0NBGfe/Ac+fOERoaSkpKCu3a\n",
              "tavwXFpaGk8++STXr1+nqKgIs9nMhx9+yJUrVwgPDycnJ4f777+f/v37s2rVqluOfS9Tbv7www8k\n",
              "JCTU+DzK//I7lqoSRVWPq0s+dru9xu/flJX9cpYtZb+nunLlZdtlxbX8JVaKG3XKSrXH8rVN1/gZ\n",
              "AxWS4u0WR8KuvHY8dvwhqGqCtOo89NBDjB49us4qYrWqCQYHB5OSknJXt8KvD8eOHaNHjx63JEAA\n",
              "Pz8/vv32W7y9vbHZbIwePZpNmzYxceJEFi9ezLZt29i2bVu1x162bBlvvfVWhbKFCxeyaNGi28Z0\n",
              "/fp1Xn311SZdm9HrjRgMbhgN7hgMbhhurI3GG9v6m2V6vQG9zoBeb0Cn16PT6dHryh7rdQZ0Or22\n",
              "6PX6Cts6nR6l4NCRvxIdORWDwXijqalHx421zpHgHE3Sm03LxlI7KUuK5Zvejsd2FAqUHbsqWytV\n",
              "1sRPPPw5Uf2eAR03X1tusdtttzy2KztK2W40/W3Y7TZsttIbSwlW7bFjuwSbrUQruxeOWn9D+Pbb\n",
              "b+ncuTNRUVF1crxaJcHMzEx69+5NdHR0hVnb4uPj6yQYZ7Lb7cyfP5/9+/ejlCIjI4Pg4OAaN4Hv\n",
              "dspNb29vevfu3aQvI7LbrdjtVkpLC2vwal1ZAtTp0ev06PQGba2VaUnQcDPJ3VgcNbfzlv03n3ck\n",
              "uhtJUHcjCVL+8S3JUEf52p/2b7lEeaNO6Hj6xoMbtTxtVamhVK5GWLZ5M8lV3lbYQaElPq1PEkdy\n",
              "Uzf6L8v+QJ6z7KdCwtSSXlmSu5n4yiVFu00rc5WaaPv27bVJ2upCrZLgpEmTmDRpkrZdWlpKXl5e\n",
              "nQVzr/r27cvPP/9MVlYWbdu2rfDcihUryMjI4NChQ3h4eDBv3rwKU3zeyd1OuanX6/n4449vKXc0\n",
              "ect3+DuW8tuOpmz5vrLbNYGrag5X7rcrvy4pKamwrq68utfe2sxW2O1lg2b3UvfNyPzvPezdNGVl\n",
              "W+r0eDqdDnd3d6356egrdPQDVtXv53jdnfoIy/dF1qRJXLk5rNfrtecdg0XlX+soq4/+x1olQcdE\n",
              "62fPnuWzzz7jiy++oEuXLsydO9cZsdXagw8+yLhx45g2bRpr1qzBz88PpRTx8fEcPXqULl264OHh\n",
              "QVpaGps3b2bcuHEA+Pr6kpOTU6+xOjrDm7rKAy6Vk25V29UNitjtdq2Z5agllf+jUP4PhmPtiKG6\n",
              "keHKI8LVratSVTO7qlFhx0gwUGFkuPKIcPlfbMe6fH+YI0ndqS+tqiRU1bqxDl42NjUeGCkoKGDj\n",
              "xo2sXr2aX375hcLCQhITEwkKCnJ2jLVSWlrKkiVL2LBhA0ajEbvdTkxMDG+88Qbjx48nPz+fTp06\n",
              "0aVLF1q1asUHH3xATk4OI0eOJC8vjwEDBlQ5MCKEaJ5qlASfe+454uPjiYmJYerUqYwcOZIePXpg\n",
              "sdRt9V0IIepbjdpjGzZsIDw8nJkzZzJixIgKF4sKIURTVqOLcy5fvsykSZNYvHgx3bt3580332yw\n",
              "4XEhhKhLNUqC3t7eTJs2jR9++IF//etfFBUVUVJSwoABA6oc+RRCiKbirm+gYLVa+frrr/nLX/7C\n",
              "9u3b6zouIYSoF3IXGSGES6vVREtCCNHcNP2rdYWoIZmsXVRFaoLCZTjuHmQ2m2v1lUnRvEkSFEK4\n",
              "NEmCQgiXJklQCOHSJAkKIVyaJEEhhEuTJCiEcGmNMgnGx8fTr18/wsLCCAoKIjY29p4mCjKZTCQl\n",
              "JdVdgEKIZqPRXSx9+fJlZsyYwdGjR+nevTtQNoGSXNgqhHCGRlcTTE9Px2Aw0KZNG62sb9++6HQ6\n",
              "TCYTCxYsIDo6mvvvv58lS5Zor1mxYgURERGEhYURERFBYmJilcdfuXIlv/rVr8jMzCQtLY0JEyYQ\n",
              "GRlJSEgIb775ZrVxFRcXc/369QpL5Sk4hRBNkGpkbDabGjt2rGrdurUaM2aMevfdd1VqaqpSSqnu\n",
              "3bur2bNnK6WUyszMVL6+vtpzGRkZ2jESExNVz549te3u3buro0ePqj/84Q9qzJgxqqCgQCml1PDh\n",
              "w9Xu3buVUkqVlpaqESNGqE2bNlUZ18KFC8umESu3LFy4sM7PXzhPQUGBioqKUlFRUdr/ASEaXXNY\n",
              "r9ezZcsWzpw5w549e/jnP//J0qVLOXLkCABPPfUUAO3atSMgIACLxULnzp05fvw4S5cuJSsrC6PR\n",
              "yNmzZyksLMTT0xOAGTNm0KdPH7Zs2YJeryc/P59du3aRnp6uvXdeXh5nz56tMq67nXJTCNG4Nbok\n",
              "6BAUFERQUBAzZ87kkUce4ZtvvgGoMN+xwWDQpoAcO3YsCQkJREREcP36dVq1akVxcbGWBAcPHsyO\n",
              "HTtIS0ujU6dO2ixjBw8erHDM6tztlJtCiMat0fUJXrx4kQMHDmjbV69exWKx8MADD1S7j+NO1926\n",
              "dQPK+v0qe+aZZ1iwYAGxsbFYLBa8vb0xm80sX75ce82lS5dITU2tw7MRQjR2jS4JWq1WFi9eTGBg\n",
              "IGFhYQwaNIgpU6YwevToavfx9fVlyZIlREZG0q9fP9zd3at83fjx43n//fcZPnw4Z86cYd26dZw7\n",
              "d47g4GBCQkIYO3YsWVlZzjo1IUQjJHeWFi6jsLAQs9kMQEJCgtZVIlxbo6sJCiFEfZIkKIRwaZIE\n",
              "hRAuTZKgEMKlSRIUQrg0GR0WLkPJbHOiClITbEaKi4tZtGiRS93YoTbnrNPp8PT0xNPTs0knQPmc\n",
              "65bUBJsRx9cFc3Jy8PX1behw6oWcs5zzvZKaoBDCpUkSFEK4NEmCQgiXJkmwGWnRogULFy50qVt+\n",
              "yTm7BmeeswyMCCFcmtQEhRAuTZKgEMKlSRIUQrg0SYLNhMlkomfPnoSFhREWFsbGjRsbOqQ6N2fO\n",
              "HEwmEzqdjqSkJK38559/ZsCAAQQGBhIREcF//vOfhguyjlV3zs358y4qKmLMmDEEBgbSu3dvhg0b\n",
              "xrlz5wDIyMjgkUceoUePHgQHB7N37957f8OGmuZO1K3u3bur48ePN3QYTrVnzx514cKFW87VbDar\n",
              "zz//XCml1ObNm1V4eHjDBOgE1Z1zc/68CwsL1fbt25XdbldKKbVy5Uo1ePBgpZRSv/vd77Spbn/8\n",
              "8UfVuXNnVVJSck/vJzVB0WTExMTQpUuXCmUZGRkcOXKESZMmATBu3DguXLig1RyauqrOubnz8PBg\n",
              "1KhR2ve7+/fvT3JyMgCbNm1i1qxZAERERNCpUyf27NlzT+8nSbAZmTx5MiEhIUybNo3MzMyGDqde\n",
              "XLhwgY4dO2I0ls0eq9Pp6NatGykpKQ0cmfO5yucdFxfH6NGjycrKorS0lA4dOmjPmUyme/6sJQk2\n",
              "E3v37uXkyZMcO3aMdu3aMWXKlIYOSTiRq3zeb7/9NufOnWPZsmVOe49GO/m6qB3HnMtubm7MnTuX\n",
              "wMDABo6ofnTt2pXLly9jtVoxGo0opUhJSdF+Hs2VK3ze7733HvHx8ezcuRMvLy+8vLwwGo2kpaVp\n",
              "tcHk5OR7/qylJtgM5Ofnc+3aNW17/fr19OnTp+ECqkf+/v707duXtWvXArBlyxa6dOnCgw8+2MCR\n",
              "OY8rfN4rVqxg/fr17NixAz8/P638iSeeYNWqVQAcPnyYixcvMnjw4Ht6L/naXDPwyy+/MG7cOGw2\n",
              "G0opAgICiIuLw2QyNXRodWrmzJls376dtLQ02rZti4+PD+fOnePs2bM8++yzZGVl4evry+eff05I\n",
              "SEhDh1snqjrn7777rll/3qmpqXTt2pWAgAB8fHyAsu8OHzp0iPT0dJ555hksFgvu7u589NFH2lzS\n",
              "d0uSoBDCpUlzWAjh0iQJCiFcmiRBIYRLkyQomrS33nqL6dOna9v79+9Hp9Oxe/durWzWrFn83//9\n",
              "X7XHmD59OgkJCXd8r0WLFjF37twqn0tKSmLDhg01jls0HpIERZNmNpsrJLyEhASioqJuKYuNja32\n",
              "GJ999tk9jzBKEmy6JAmKJq1///5cunSJ1NRUAHbv3s2CBQu0JHj58mVSUlIIDw/nueeeIzIyktDQ\n",
              "UGbMmEFJSQkAQ4YMYdu2bdrrhw8fTq9evRg+fDgTJ05k0aJF2vtdvnyZxx9/nF69ehEbG0t2djYZ\n",
              "GRksWLCAhIQEwsLCtO+2iqZBkqBo0tzd3RkwYAAJCQkUFxdjsVgYNWoUqampFBUVkZCQQHR0NC+/\n",
              "/DKDBg3ixx9/5MSJE9jtduLi4m453pw5c4iOjub06dP87W9/q1CjBDh06BBr1qzh9OnT+Pv788kn\n",
              "n+Dv78/ixYsxm80kJSVpF/OKpkG+NieaPEeTuHv37kRGRgJlNcTExER2796N2Wxm5cqVJCYmsmLF\n",
              "CgAKCwsxGAy3HGvXrl289957AHTo0IHHHnuswvOPPPIIbdu2BSA6OppTp04589REPZAkKJo8s9nM\n",
              "6tWr6datG0OGDAFg8ODBJCQkkJCQwJo1a/jwww/ZsmVLrb9j67idk4OHh4f22GAwYLVa7zl+0bCk\n",
              "OSyavIiICDIyMli3bl2FJLhhwwYuX75MZGQkY8aM4Z133tGS1tWrV6u852BsbCxr1qwBID09nb//\n",
              "/e81isHX15ecnJw6OR9RvyQJiibPzc2NgQMHkpubS1BQEACBgYHk5uYycOBA3Nzc+NOf/oSnpydh\n",
              "YWGEhoYydOhQ7Uad5cXFxbFv3z569erF008/TVRUVIUv8Fdn6NChFBcXExoaKgMjTYx8d1iIcgoL\n",
              "C3Fzc8NoNJKVlUX//v1Zu3YtUVFRDR2acBLpExSinJ9//pnJkyejlKKkpIQXXnhBEmAzJzVBIYRL\n",
              "kz5BIYRLkyQohHBpkgSFEC5NkqAQwqVJEhRCuDRJgkIIlyZJUAjh0iQJCiFc2v8HwAOaVanMcV4A\n",
              "AAAASUVORK5CYII=\n",
              "\">\n",
              "        \n",
              "      </div>\n",
              "      <script></script>\n",
              "      <script type=\"text/javascript\">\n",
              "        (() => {\n",
              "          const chartElement = document.getElementById(\"chart-8a9c9c81-a4fc-4ec4-833f-e2d271778142\");\n",
              "          async function getCodeForChartHandler(event) {\n",
              "            const chartCodeResponse =  await google.colab.kernel.invokeFunction(\n",
              "                'getCodeForChart', [\"chart-8a9c9c81-a4fc-4ec4-833f-e2d271778142\"], {});\n",
              "            const responseJson = chartCodeResponse.data['application/json'];\n",
              "            await google.colab.notebook.addCell(responseJson.code, 'code');\n",
              "          }\n",
              "          chartElement.onclick = getCodeForChartHandler;\n",
              "        })();\n",
              "      </script>\n",
              "      <style>\n",
              "        .colab-quickchart-chart-with-code  {\n",
              "            display: block;\n",
              "            float: left;\n",
              "            border: 1px solid transparent;\n",
              "        }\n",
              "\n",
              "        .colab-quickchart-chart-with-code:hover {\n",
              "            cursor: pointer;\n",
              "            border: 1px solid #aaa;\n",
              "        }\n",
              "      </style>"
            ]
          },
          "metadata": {}
        },
        {
          "output_type": "display_data",
          "data": {
            "text/plain": [
              "import numpy as np\n",
              "from google.colab import autoviz\n",
              "df_8785923528690381692 = autoviz.get_registered_df('df_8785923528690381692')\n",
              "\n",
              "def violin_plot(df, value_colname, facet_colname, col_width=.3, col_length=3, mpl_palette_name='Dark2', **kwargs):\n",
              "  from matplotlib import pyplot as plt\n",
              "  import seaborn as sns\n",
              "  plt.figure(figsize=(col_length, col_width * len(df[facet_colname].unique())))\n",
              "  sns.violinplot(df, x=value_colname, y=facet_colname, palette=mpl_palette_name, **kwargs)\n",
              "  sns.despine(top=True, right=True, bottom=True, left=True)\n",
              "  return autoviz.MplChart.from_current_mpl_state()\n",
              "\n",
              "chart = violin_plot(df_8785923528690381692, *['Length', 'Animal'], **{'inner': 'stick'})\n",
              "chart"
            ],
            "text/html": [
              "      <div class=\"colab-quickchart-chart-with-code\" id=\"chart-5fc63c0c-3df8-4d8d-8166-e737053754a5\">\n",
              "        <img src=\"data:image/png;base64,iVBORw0KGgoAAAANSUhEUgAAAUEAAACPCAYAAABkm2lBAAAAOXRFWHRTb2Z0d2FyZQBNYXRwbG90\n",
              "bGliIHZlcnNpb24zLjcuMSwgaHR0cHM6Ly9tYXRwbG90bGliLm9yZy/bCgiHAAAACXBIWXMAAA9h\n",
              "AAAPYQGoP6dpAAAc8ElEQVR4nO3deXAT9/k/8PdqddmW5duYkGBDAhjwIccGmySEmJuGTCjwi0lD\n",
              "cAeXawqEQjrAlG9MGK6khAnQMlBwyLQQYg7XSaZNylGOlGu4XIZwNBAZ4viWL1myde3n94esxQIb\n",
              "S45lCet5zeystJZWzxrr4bOfk2OMMRBCiJ+SeDsAQgjxJkqChBC/RkmQEOLXKAkSQvwaJUFCiF+j\n",
              "JEgI8WuUBAkhfo2SICHEr1ESJIT4NUqChBC/JvV2AIS4wmq1wmAwoLGxEUajEQaDAU1NTU6byWRy\n",
              "2iwWC8xmM6xWq7jZbDZxEwQBgiCgrZGjHMeB4zjwPA+JRAKe58HzPKRSKaRSKWQyGaRSKRQKBWQy\n",
              "GRQKBRQKBZRKJZRKJQICAsQtMDAQgYGBUKlUUKlUkMvlXvgNkvZQEiTdzmKxoLa2FjU1NaipqUFt\n",
              "bS3q6uqcNr1eD71ej4aGBjQ2NqKpqcnbYXcZhUIBlUqF4OBgBAcHQ61WIzg4GGFhYQgLC0NoaChC\n",
              "Q0MRHh4ubkql0tth91gcTaBAuorNZkNNTQ0qKytRVVWFyspKVFdXo6qqCtXV1dDpdNDpdKivr+/0\n",
              "ZzBeAibjASkPJpUAMh6M5wGpBIyXAPyDPSSc/bGk5THHARIO4DiAg/P+kQ9iAEPLxsSNExjQsnGC\n",
              "AAgCYGPgbALQsnFWGzirAFht4Kw2+95iP95ZgYGBiIiIQGRkJCIiIhAVFYXIyEhER0cjKipK3Mtk\n",
              "sk5/hr+iJEhcptfrUV5ejoqKCpSXl4uPKyoqxMRns7n2RWccB6aUgilkYEqZfa+Qgcl4KL4rQXP6\n",
              "c/bjcql9k/GAjLcntCeVwFoSog2c2QrObAXMVnDNFiivaGEeGAPObANnsti3Zis4kxmczfWvaHh4\n",
              "OHr16uW0xcTEiFtYWBi4tpK+H6PbYQIAYIyhpqYGZWVlYoIrLy93em4wGDo+DwcwpRwsUA4WIIcQ\n",
              "YN8zpRwswJ7whAA5IJe2XQITBCi+K4G1b8STnfDaIuEAR1IPUjw4LgjAFS3MybGPXjNrSZzNFnBN\n",
              "Zkha9o5N0mQGZ2x5LjCxiuHmzZtthqBQKB5JjL179xYfR0VFQSr1r7TgX1frx5qbm1FZWSmW3Byl\n",
              "uLKyMvGY2Wzu8DxMLoUQqAALktv3gQqwQMdje7KDhEoaXYbjAJkUTCYFCw6A0N7rGANnsoIzmuzJ\n",
              "0WgCZzCBM7Y8NprANVlgMplw//593L9/v83T8DyPqKgoxMTEiMnSsY+OjkavXr2gUql6VGmSkuAT\n",
              "ThAE1NbWQqfTobq6WqyDc9TJObaGhoYOzyWW4oIULYlO8SDhBdkTHqR8N1wVcRvH2asPlPY6wTYr\n",
              "JWyCPUEaWpKiwSQmS3uiNMNms4kl//YEBgaK9ZCOukjH5qivDA8Pf2JKlB6PUq/Xo3fv3sjKykJe\n",
              "Xh4A4NNPP0VhYSEKCwtx8uRJLFmyBEVFRSgtLUVWVha+/fbbn/WZq1evxooVK57IFjWbzYbGxkbU\n",
              "19ejoaHBqcW0trb2kVbVmpoa1+vhpBKwQAWEQHnL3p7YhCC5WKLrcbeg5AFeAqZSwqZq53vBmP22\n",
              "W0yKjgRpBmds2ZutMBqNuHfvHu7du/fYjwsNDUVERATCwsLEVm5Hy3dYWBhCQkLETa1Wey1pevxT\n",
              "8/PzkZqaioKCAmzZsgUqlard1z711FM/OwECwPvvv48lS5a4nQStVqtH/iFu3ryJ7777Dk1NTWIf\n",
              "N0efN4PBIHYH0ev1aGxsbLPf2uMwwN6oECCz178FtKqPC5SDBdgTH2R82/VwhAD20qTjbwfBbb/G\n",
              "amu53TaLt95i3WSTGVyTxZ5IGRP/83ZVYGAg1Gq12H0oKChI7FsZFBSEwMBABAQE4Omnn0ZGRgYk\n",
              "XfQftseTYF5eHv7v//4PO3fuRH5+PnJyctp9bXFxMTQajfiL++KLL7BixQrI5XJMnDgReXl5uHTp\n",
              "EuLi4vDuu+/i1KlTsFgsUKvV2LVrFwYNGoT58+cDAEaOHAme53HkyBEAwPz58/H999+DMYZFixZh\n",
              "3rx5AIC4uDhkZWXhxIkTGDBgAPbt29dmbI4OuK05Osg+TmNjI+bOnQuLxeLS78uBSSX2xCaXgimk\n",
              "D1pPla32ypakp5BSCY50DykPFhwAW3BA+69hDDBZIWk22xNis6O1u2VraRHnzFZwJgtgsYEDYDQa\n",
              "YTQaXQrjz3/+M1JTU7vmkrrkLO24ceMGfvzxR0yYMAFWqxUbN258bBJsrbKyErNnz8aZM2cQHx+P\n",
              "PXv2QKfTiT9fvnw5Nm3aBAD4/PPP8c477+Cbb77Bjh07sHPnTnz77bcIDQ0FAGRlZWHQoEEoKChA\n",
              "ZWUlUlNTkZycjIyMDACATqfDhQsXHlvZu2HDBrz//vtOx3Jzc7F69erHXofBYHgkATKes5fOghT2\n",
              "/3WDWurfVEqwIAWYQmbv50bIk4jjAKUMgtLFPosCA8xWSAwmSAzN9lvw1vWWTWZwFucqn9ra2i4L\n",
              "16NJMC8vD7NmzQLP8/jFL36BefPmtdt0/7Dz588jKSkJ8fHxAIDs7GyxlAcAR48exbZt26DX6yEI\n",
              "Ampqato917Fjx3D58mUAQHR0NKZOnYpjx46JSfDXv/51h61dK1euxNKlS52OdVQKBICAgADwPO9U\n",
              "b8fZGLjGZkgam9t8D5Py9tKfoxQol9n3D5cClXJ7RTglTOJrBGYv/TWZnUuBJou9FduxN1vBmS2A\n",
              "2V4adFVwcDu3653gsSRosVjwt7/9DTKZDJ999hkAe3E3Ly8PCQkJP+vc9+/fx8KFC3Hx4kU8++yz\n",
              "uHbtGl5++WWX3/9wwntcPaWDK7e+bVGr1di8eTO+++47sT7QaDSKY2Ad9YB6vV7sh8c5RhoYTB2c\n",
              "3Y7J+Ad1gMoH9YJCS32gveuKjOoDyc/HWkptjr6JRjMkTfbuN1yTGVxzy3GT1a2k5qBUKhEcHCzW\n",
              "BTrqA1UqlTgO++mnn0ZaWlqXXZLHkuCXX36J/v374/z58+Kxmzdv4pVXXsHatWs7fH9GRgauXbuG\n",
              "27dvY9CgQdi7d6/Yj62+vh4ymQy9e/cGYwx/+tOfnN4bHByM+vp68XZ47Nix2LVrF9atW4eqqioU\n",
              "FBTg4MGDXXexHUhPT0d6enqHr7NarWhsbERDQwMaGhpQX1+P2tpa1NfXi5XMrVuFdTodLBaLfQSC\n",
              "pQmShvbH1zJJS6V3oBxCwMP9/OwtxJA9GV0aiAfZBHtL8MN9DMXHZvsQQRfwPC+2DDv2rVuGQ0ND\n",
              "nVqH1Wq1V4b9eeyvPi8vD2+99ZbTscGDB6NPnz7Q6/Udvj86Ohq7d+/GlClToFAoMG7cOKhUKoSG\n",
              "hiIuLg4zZszA0KFDERERgSlTpji9d9myZRg3bhwCAwNx5MgRbN26FQsWLEBiYiIYY/jDH/7gUlLq\n",
              "blKpVOxC4ArGGPR6vVMfwbb6Cep0OgiCAM5gAgwm8Gj7989kvNgf8OG9va6ynVEe5Mlhtjr3DXQk\n",
              "u5Y6OEmzaw14YWFhTmOWHWOZW28hISHged/vV+rTY4f1er14719YWIiVK1e6XKdIHrBardDpdOIY\n",
              "X8dIkcrKSrFjrEudqXmunf6FLX0PA+Q/vzO1IEB18AIa/1+6/7R4d9U1C4L9ttT4oG/fI6U6S8d9\n",
              "SgMCApyG1kVHR6N3797iiJGoqKhOVQ35Kp++/9m2bRvy8/Nhs9mgVqvb7b5CHk8qlYqD6dtjMBjE\n",
              "4XStxws7htVVV1fbZ0vRN0Oib7tBB3AMq5M710sqHeOHHV16ZDS0zh2OergmS0udW8ve6Oif13Kb\n",
              "2mxxqR4uJCSkzXHDjudqtbpHDYvriE+XBInvMJvNj5QiW5cmKysrXZ7zT+zc7Wjlbt0PUs5DeaUY\n",
              "TS8PbjluHzfbYzp6MwZYBXAW51lkAs59D1PiMw/60DlaUB0tqoJrX1OpVCqW2FqX4lqPAw4MDPTw\n",
              "RT5ZKAmSLuGon3TUQ7Y3n2BtbS0EwbWKdafzA/a5A6X8g/kEZS3zCEp5+5Awx57n7LeVvARMwonz\n",
              "CULC2Z9zreYUhGMP+7HWXwdxTsGH5hJkLfMJ2h6dT5Cztcwj6NhbHswryFms9o7BnfzGqdVqp/G5\n",
              "kZGRj4zhDQsL67KRFP6CkiDpVjabTWzlbm9maUfLuKOl/OGROj0Bz/Nii6hjhmnHrNKOGaZbj7kN\n",
              "Dw+nCVM9hJIg8Xkmk0kcZ+3YHH0um5ubYTQaYTKZ0NzcLA5vNJvNMJlMsFqtMJvts6M41hkRBEFc\n",
              "Y4QxBsaYU+nUsb6IRCIRt9ZrjPA8D7lcDplMBrlcDrlcDoVCAblc3u4aI0FBQeKmVquhUCj8qt7N\n",
              "l1ESJIT4NZ9uHSb+hTGG5mZ7y7NSqaSSEukWVINKfEZzczMyMzORmZkpJkNCPI2SICHEr1ESJIT4\n",
              "NUqChBC/RkmQEOLXKAkSQvyaS11kfvnLXz62u0JBQUGXBUQIId3JpST48Hx9roqLi0NhYSE0Go14\n",
              "7JVXXsGSJUs6fU5X1NXVYceOHVixYoXHPoMQ0jO4lASzs7M9HUeXqqurw8aNGzuVBD217CYhxDe5\n",
              "/W0/cOAAioqKnDqzbt682e0P/uyzz7BlyxaYzWYIgoC1a9fitddeA2AvLaampuLixYsoLi5GdnY2\n",
              "RowYgfXr16OkpASLFy/G0qVLIQgCFi9ejOPHj0Mul0MqleLMmTOYP38+9Ho9NBoNpFIpLl26hPLy\n",
              "cixevBjFxcVoamrC66+/Lk7z78qym51dcpMQ4uOYGxYtWsQmT57MevfuzZYuXcqeeeYZNnv27HZf\n",
              "HxsbywYOHMiSk5PFLSgoiP39739n1dXVTBAExhhjWq2W9erVizU3NzPGGBs1ahSbNm0as1qtrKam\n",
              "hqnVavbb3/6WCYLASkpKWFBQEKutrWVXrlxh8fHxzGazMcYYq6urYzabjWm1WhYSEuIUy/jx49nJ\n",
              "kycZY4xZLBY2YcIEduDAATHOnJwcMZ625ObmMrRMrOTYcnNz3fn1kQ4YjUaWnp7O0tPTmdFo9HY4\n",
              "xE+4VRI8ceIE/vvf/yIlJQUfffQRfv/733d4q5yfn/9InSAAaLVavPXWWygpKYFUKkVNTQ20Wq24\n",
              "xOb06dPFhVr69++PyZMng+M49OnTB1FRUSguLkb//v1htVoxe/ZsZGZm4tVXX21zLjWDwYDjx4+j\n",
              "oqJCPNbY2Ijbt2+LzztadrOzS24SQnybW0lQqVRCIpGA4zhYLBbExMSgtLS0Ux88Y8YMbNy4EdOn\n",
              "TwcAhIeHO91iK5VK8THP8488t1qtCAkJwfXr13Hq1CmcOHECK1euxOnTpx+p02MtE+WcP3/e6Tyt\n",
              "dbTsJt36EtIzudVPMDg4GEajES+99BJmzpyJd955p9NTddfW1qJfv34AgL1793ZqRfmqqioYDAaM\n",
              "Hz8e69evR1xcHG7cuAG1Wo2mpiZxiU6VSoXMzExs3LhRfG9paSlKSko6FTshpOdwKwnu378fPM/j\n",
              "j3/8IxITEyGTyXDo0KFOffCWLVswffp0pKSk4OrVq+jbt6/b5/jxxx8xbtw4JCUlISEhAQkJCZg0\n",
              "aRLCw8Mxa9YsJCUliYs079u3D3fu3EFCQgISExMxdepU6HS6TsVOCOk5aFJV4jOampqQmZkJwF7/\n",
              "HBAQ4OWIiD9wq07wxo0bWL16Ne7cuQOr1Soev3btWpcHRggh3cGtJDhjxgzMmjULCxcufCJWlieE\n",
              "kI64lQR5nse7777rqVgIIaTbudUwkpmZidOnT3sqFkII6XZuNYycPXsWEyZMQHBwMJRKJRhj4DgO\n",
              "P/zwgydjJH6C0UJLxAvcSoKDBg3C8uXLkZaW5lQnOHToUI8ERwghnuZWEkxNTcXly5c9GQ8hfoVK\n",
              "v97nVp3gq6++iq+++spTsRDid2iZUe9zq3V427ZtqK+vR0BAABQKhVgnWFNT46n4CCHEo9xKgkVF\n",
              "RR4KgxBCvMOtJBgbG+upOAghxCtcSoJvvvkm9u/fj5SUlDYrbq9cudLlgRFCSHdwKQk6Rol8/PHH\n",
              "noyFEEK6nUtJMDU1FQAwatQojwZDCCHdza06weLiYnzwwQe4e/eu0ywy//73v7s8sM6yWq1Yt24d\n",
              "9u/fD6lUCqlUiuHDh+PDDz9EaGhom+8pKirCrVu3MGPGjO4NlhDidW4lwTfeeANjxozx6VlkcnJy\n",
              "UFNTg3PnziEsLAyMMRw6dAg1NTWPTYKFhYWUBAnxQ26NGElKSvLpuQPv3LmDpKQk3L9/H5GRkU4/\n",
              "Ky8vx5tvvomGhgaxg+rWrVtRXV2NtLQ01NfXo1+/fsjIyMCOHTseOTctuUk8gSaS9T63RowkJCTg\n",
              "/v37norlZ7ty5QoGDBjwSAIEgNDQUHz11Ve4fPkyrl27huLiYhw4cADR0dFYs2YNMjMzUVRU1GYC\n",
              "BIANGzYgJCTEaduwYYOnL4kQ4mFu3Q5XVVUhOTkZI0aMcFq1raCgoMsD62qCIGD58uX4z3/+A8YY\n",
              "KisrkZCQ4PItMC25SUjP5FYSnDlzJmbOnCk+t1gsaGxs7PKgOuv555/H999/D51Oh4iICKefbd68\n",
              "GZWVlbhw4QKUSiWWLl3q1lhNuvUlpGdy63Y4Ozsb2dnZyMjIwPXr17Fq1Srs3bvXU7G57bnnnsO0\n",
              "adOQk5ODuro6APZZOg4fPozLly8jJiYGSqUS5eXlOHjwoPg+tVqN+vp6L0VNCPEml5Og0WjEnj17\n",
              "8NJLLyEzMxO7d+/GyZMncenSJU/G57ZPPvkEycnJSE9Px9ChQzFkyBAcOXIEW7ZswYULFzB06FC8\n",
              "/fbbGDt2rPieMWPGwGQyISkpCfPnz/di9ISQ7uZS6/CcOXNQUFCAl19+GbNnz8akSZMwYMAAaLXa\n",
              "7oiRkB6LWoe9z6U6wc8//xxpaWmYN28eJkyYAI7jaPJHQkiP4NLtcFlZGWbOnIk1a9YgNjYWq1at\n",
              "gsVi8XRshBDicS4lQZVKhZycHJw9exbffPMNmpubYTab8cILL2D79u2ejpEQQjzGrdZhABgyZAg2\n",
              "bdqEn376CcuWLcM//vEPT8RFCCHdwq1hc4SQrkULLXkfJUFCiF9za8QIIaRrUUnQ+9yuEySEdB1a\n",
              "ctP7KAkSQvwaJUFCiF+jJEgI8WuUBAkhfo2SICHEr1ESJIT4NZ9MggUFBUhNTYVGo0F8fDxGjx4N\n",
              "QRA6fb64uDgUFRV1XYCEkB7D5zpLl5WVYe7cubh8+TJiY2MB2BdQok6khBBP8LmSYEVFBXieR3h4\n",
              "uHjs+eefB8dxiIuLw3vvvYcRI0agX79+WLt2rfiazZs3Y9iwYdBoNBg2bBjOnTvX5vm3bduGF198\n",
              "EVVVVSgvL8cbb7yB4cOHIzExEatWrWo3LpPJhIaGBqft4SU4CSFPIOZjbDYbmzp1KgsLC2NTpkxh\n",
              "H374ISspKWGMMRYbG8sWLVrEGGOsqqqKqdVq8WeVlZXiOc6dO8cGDRokPo+NjWWXL19mv/vd79iU\n",
              "KVOY0WhkjDE2fvx4dvLkScYYYxaLhU2YMIEdOHCgzbhyc3MZAKctNze3y6+f+Bej0cjS09NZenq6\n",
              "+HdJupfP3Q5LJBIcPnwYt27dwqlTp/D1119j3bp14lomv/rVrwAAkZGR6N+/P7RaLfr06YOrV69i\n",
              "3bp10Ol0kEqluH37NpqamsTpyufOnYuUlBQcPnwYEokEBoMBx48fR0VFhfjZjY2NuH37dptx0ZKb\n",
              "hPRMPpcEHeLj4xEfH4958+Zh4sSJ+PLLLwHAab1jnudhtVphNpsxdepUnDhxAsOGDUNDQwNCQkJg\n",
              "MpnEJDhq1CgcPXoU5eXleOqpp8BaJs85f/680znbQ0tuEtIz+Vyd4E8//YQzZ86Iz2tra6HVavHs\n",
              "s8+2+x7HTNd9+/YFYK/3e9jbb7+N9957D6NHj4ZWq4VKpUJmZiY2btwovqa0tBQlJSVdeDWEEF/n\n",
              "c0nQarVizZo1GDhwIDQaDUaOHIns7Gy8/vrr7b5HrVZj7dq1GD58OFJTUyGXy9t83fTp0/HRRx9h\n",
              "/PjxuHXrFvbt24c7d+4gISEBiYmJmDp1KnQ6nacujRDig2hSVUK8iJbc9D6fKwkSQkh3oiRICPFr\n",
              "lAQJIX6NkiAhxK9REiSE+DVqHSbEixitNud1VBL0YSaTCatXr/ariRr87Zo5joNEIsEHH3wAs9ns\n",
              "7XC6jS/9O1NJ0Ic5hv/V19dDrVZ7O5xuQddM19zdqCRICPFrlAQJIX6NkiAhxK9REvRhCoUCubm5\n",
              "fjWFF12zf/Cla6aGEUKIX6OSICHEr1ESJIT4NUqChBC/RknQx+3Zswccx6GwsNDboXhcXFwcBg0a\n",
              "BI1GA41Gg/z8fG+H5HEmkwkLFy7EgAEDkJiYiJkzZ3o7JI/S6XTiv69Go8HAgQMhlUpRU1PjtZh8\n",
              "dqElAhQXF2PXrl3IyMjwdijdJj8/HxqNxtthdJsVK1aA4zj873//A8dxKC8v93ZIHhUREYGioiLx\n",
              "+aZNm3Dq1Cmndca7G5UEfZQgCPjNb36Dbdu2+UQ3AtL1DAYD8vLysG7dOnHihJiYGC9H1b3y8vKQ\n",
              "k5Pj1RgoCfqozZs348UXX0Rqaqq3Q+lWs2bNQmJiInJyclBVVeXtcDzq7t27CA8Px/r165GWloaR\n",
              "I0fi+PHj3g6r25w9exa1tbWYPHmyV+OgJOiDrl+/jsOHD2PVqlXeDqVbnT59GteuXcOVK1cQGRmJ\n",
              "7Oxsb4fkUVarFffu3cOQIUNw6dIlbN26FVlZWaioqPB2aN0iLy8Ps2bNglTq5Vo5RnzO9u3bWUxM\n",
              "DIuNjWWxsbFMoVCwqKgotn37dm+H1m1KS0uZSqXydhgeVVVVxSQSCbNareKxtLQ0dvToUS9G1T30\n",
              "ej1TqVTs5s2b3g6FUUnQBy1YsABlZWUoLi5GcXExMjIy8Je//AULFizwdmgeYzAYUFdXJz7fv38/\n",
              "UlJSvBdQN4iMjMSYMWPwr3/9CwCg1Wqh1WoxePBgL0fmefn5+UhOTkZ8fLy3Q6HWYeIbKioqMG3a\n",
              "NNhsNjDG0L9/f/z1r3/1dlget2PHDuTk5GD58uWQSCTYuXMn+vTp4+2wPC4vLw9z5szxdhgAaOww\n",
              "IcTP0e0wIcSvURIkhPg1SoKEEL9GSZA88eLi4pyGYnnKxx9/7DSsbfXq1ViyZInHP5d4FiVBQlz0\n",
              "cBIkPQMlQdIjXbx4EaNHj0ZaWhpSUlJw8OBBAPZJKUJDQ5Gbm4vU1FQ899xz+Oc//ym+74svvsDg\n",
              "wYORnJyM5cuXIzIyEsXFxVizZg1KS0uRlZUFjUYjljzLysrw2muvYciQIRg9erRXZ0MhneTlztqE\n",
              "/GyxsbHs6tWr4vPa2lqm0WhYaWkpY8w+MuOZZ55hJSUlTKvVMgDs0KFDjDHGvv76azZw4EDGGGMV\n",
              "FRUsPDxcHMXwySefMABMq9W2+Tm5ubksNjaWVVdXM8YYy8rKYuvXr/fw1ZKuRiVB0uOcPXsWP/zw\n",
              "AyZNmgSNRoOxY8cCAG7fvg0AUCqVmDp1KgBgxIgRuHv3LgDg/PnzSEpKEkcxZGdnQy6XP/azJk6c\n",
              "iIiIiEfORZ4cNGKE9DiMMQwdOhRnz5595GfFxcVQKBTi1FU8z8Nms3X6s5RKpfiY53lYrdZOn4t4\n",
              "B5UESY/zwgsvQKvV4tixY+KxoqIimM3mx74vIyMD165dE0uMe/fudXqPWq1GfX29Z4ImXkMlQdIj\n",
              "TJgwATKZTHyen5+P1atXY9myZbBYLOjbt2+HSxRER0dj9+7dmDJlChQKBcaNGweVSoXQ0FAAwOLF\n",
              "izFnzhwEBgbi008/9dzFkG5FY4cJaUWv1yM4OBgAUFhYiJUrV+LmzZtejop4EpUECWll27ZtyM/P\n",
              "h81mg1qtxr59+7wdEvEwKgkSQvwaNYwQQvwaJUFCiF+jJEgI8WuUBAkhfo2SICHEr1ESJIT4NUqC\n",
              "hBC/RkmQEOLX/j8unkERtS0RcgAAAABJRU5ErkJggg==\n",
              "\">\n",
              "        \n",
              "      </div>\n",
              "      <script></script>\n",
              "      <script type=\"text/javascript\">\n",
              "        (() => {\n",
              "          const chartElement = document.getElementById(\"chart-5fc63c0c-3df8-4d8d-8166-e737053754a5\");\n",
              "          async function getCodeForChartHandler(event) {\n",
              "            const chartCodeResponse =  await google.colab.kernel.invokeFunction(\n",
              "                'getCodeForChart', [\"chart-5fc63c0c-3df8-4d8d-8166-e737053754a5\"], {});\n",
              "            const responseJson = chartCodeResponse.data['application/json'];\n",
              "            await google.colab.notebook.addCell(responseJson.code, 'code');\n",
              "          }\n",
              "          chartElement.onclick = getCodeForChartHandler;\n",
              "        })();\n",
              "      </script>\n",
              "      <style>\n",
              "        .colab-quickchart-chart-with-code  {\n",
              "            display: block;\n",
              "            float: left;\n",
              "            border: 1px solid transparent;\n",
              "        }\n",
              "\n",
              "        .colab-quickchart-chart-with-code:hover {\n",
              "            cursor: pointer;\n",
              "            border: 1px solid #aaa;\n",
              "        }\n",
              "      </style>"
            ]
          },
          "metadata": {}
        }
      ]
    },
    {
      "cell_type": "markdown",
      "metadata": {
        "id": "x6wsJ_pyKKdG"
      },
      "source": [
        "We are almost finished our review of Pandas DataFrames. 🤠 Let's now turn our attention to [**.groupby()**](https://pandas.pydata.org/pandas-docs/stable/reference/api/pandas.DataFrame.groupby.html). The Groupby method involves grouping data around a particular category and applying analysis. This would be useful if you were interested in answering the question, \"What's the average weight of all the snakes, cats, hamsters, and alligators?\" To find the average weight of each category of animal, we'll group the animals by animal type and then apply the mean function. We could apply other functions too. We could apply \"sum\" to add up all the weights, \"min\" to find the lowest, \"max\" to get the highest, or \"count\" just to get a count of each animal type:"
      ]
    },
    {
      "cell_type": "code",
      "metadata": {
        "id": "g_QWyOf0KKdJ",
        "colab": {
          "base_uri": "https://localhost:8080/"
        },
        "outputId": "dceffbeb-472e-418a-b7ca-03c07a6835d9"
      },
      "source": [
        "animal_groups = animal.groupby(\"Animal\")\n",
        "animal_groups['Weight'].mean()"
      ],
      "execution_count": null,
      "outputs": [
        {
          "output_type": "execute_result",
          "data": {
            "text/plain": [
              "Animal\n",
              "Alligator    13.5\n",
              "Cat          10.4\n",
              "Hamster       9.0\n",
              "Snake        11.0\n",
              "Name: Weight, dtype: float64"
            ]
          },
          "metadata": {},
          "execution_count": 106
        }
      ]
    },
    {
      "cell_type": "markdown",
      "metadata": {
        "id": "4KhditFY4MKJ"
      },
      "source": [
        "## Exercise 3: DataFrame 🏃\n",
        "Open the [UN Dataset.](http://data.un.org/_Docs/SYB/PDFs/SYB60_T03_Population%20Growth,%20Fertility%20and%20Mortality%20Indicators.pdf) Create a DataFrame using:\n",
        "* **Northern Africa**\n",
        "* **Sub-Saharan Africa**\n",
        "* **Eastern Asia**\n",
        "* **Western Europe**\n",
        "\n",
        "For these areas and the year 2005, create columns for:\n",
        "* *Population Rate of Increase*\n",
        "* *Fertility Rate*\n",
        "* *Infant Mortality*"
      ]
    },
    {
      "cell_type": "code",
      "metadata": {
        "id": "l3OMB15zxBY_",
        "colab": {
          "base_uri": "https://localhost:8080/",
          "height": 175
        },
        "outputId": "d93dc308-4a6a-4b03-f5a4-63f8d0201bdd"
      },
      "source": [
        "UN_Data = {\n",
        "            'Countries': ['Northern Africa', 'Sub-Saharan Africa', 'Eastern Asia', 'Western Europe'],\n",
        "            'Population Rate of Increase': [1.7, 2.7, 0.6, 0.3],\n",
        "            'Fertility Rate': [3.2, 5.6, 1.5, 1.6],\n",
        "            'Infant Mortality': [39.3, 87.3, 23.2, 4.3]\n",
        "\n",
        "}\n",
        "\n",
        "UNdata = pd.DataFrame(UN_Data)\n",
        "UNdata"
      ],
      "execution_count": null,
      "outputs": [
        {
          "output_type": "execute_result",
          "data": {
            "text/plain": [
              "            Countries  Population Rate of Increase  Fertility Rate  \\\n",
              "0     Northern Africa                          1.7             3.2   \n",
              "1  Sub-Saharan Africa                          2.7             5.6   \n",
              "2        Eastern Asia                          0.6             1.5   \n",
              "3      Western Europe                          0.3             1.6   \n",
              "\n",
              "   Infant Mortality  \n",
              "0              39.3  \n",
              "1              87.3  \n",
              "2              23.2  \n",
              "3               4.3  "
            ],
            "text/html": [
              "\n",
              "\n",
              "  <div id=\"df-3b389307-e08b-4b9a-8fcf-463f30434fba\">\n",
              "    <div class=\"colab-df-container\">\n",
              "      <div>\n",
              "<style scoped>\n",
              "    .dataframe tbody tr th:only-of-type {\n",
              "        vertical-align: middle;\n",
              "    }\n",
              "\n",
              "    .dataframe tbody tr th {\n",
              "        vertical-align: top;\n",
              "    }\n",
              "\n",
              "    .dataframe thead th {\n",
              "        text-align: right;\n",
              "    }\n",
              "</style>\n",
              "<table border=\"1\" class=\"dataframe\">\n",
              "  <thead>\n",
              "    <tr style=\"text-align: right;\">\n",
              "      <th></th>\n",
              "      <th>Countries</th>\n",
              "      <th>Population Rate of Increase</th>\n",
              "      <th>Fertility Rate</th>\n",
              "      <th>Infant Mortality</th>\n",
              "    </tr>\n",
              "  </thead>\n",
              "  <tbody>\n",
              "    <tr>\n",
              "      <th>0</th>\n",
              "      <td>Northern Africa</td>\n",
              "      <td>1.7</td>\n",
              "      <td>3.2</td>\n",
              "      <td>39.3</td>\n",
              "    </tr>\n",
              "    <tr>\n",
              "      <th>1</th>\n",
              "      <td>Sub-Saharan Africa</td>\n",
              "      <td>2.7</td>\n",
              "      <td>5.6</td>\n",
              "      <td>87.3</td>\n",
              "    </tr>\n",
              "    <tr>\n",
              "      <th>2</th>\n",
              "      <td>Eastern Asia</td>\n",
              "      <td>0.6</td>\n",
              "      <td>1.5</td>\n",
              "      <td>23.2</td>\n",
              "    </tr>\n",
              "    <tr>\n",
              "      <th>3</th>\n",
              "      <td>Western Europe</td>\n",
              "      <td>0.3</td>\n",
              "      <td>1.6</td>\n",
              "      <td>4.3</td>\n",
              "    </tr>\n",
              "  </tbody>\n",
              "</table>\n",
              "</div>\n",
              "      <button class=\"colab-df-convert\" onclick=\"convertToInteractive('df-3b389307-e08b-4b9a-8fcf-463f30434fba')\"\n",
              "              title=\"Convert this dataframe to an interactive table.\"\n",
              "              style=\"display:none;\">\n",
              "\n",
              "  <svg xmlns=\"http://www.w3.org/2000/svg\" height=\"24px\"viewBox=\"0 0 24 24\"\n",
              "       width=\"24px\">\n",
              "    <path d=\"M0 0h24v24H0V0z\" fill=\"none\"/>\n",
              "    <path d=\"M18.56 5.44l.94 2.06.94-2.06 2.06-.94-2.06-.94-.94-2.06-.94 2.06-2.06.94zm-11 1L8.5 8.5l.94-2.06 2.06-.94-2.06-.94L8.5 2.5l-.94 2.06-2.06.94zm10 10l.94 2.06.94-2.06 2.06-.94-2.06-.94-.94-2.06-.94 2.06-2.06.94z\"/><path d=\"M17.41 7.96l-1.37-1.37c-.4-.4-.92-.59-1.43-.59-.52 0-1.04.2-1.43.59L10.3 9.45l-7.72 7.72c-.78.78-.78 2.05 0 2.83L4 21.41c.39.39.9.59 1.41.59.51 0 1.02-.2 1.41-.59l7.78-7.78 2.81-2.81c.8-.78.8-2.07 0-2.86zM5.41 20L4 18.59l7.72-7.72 1.47 1.35L5.41 20z\"/>\n",
              "  </svg>\n",
              "      </button>\n",
              "\n",
              "\n",
              "\n",
              "    <div id=\"df-d5c9032b-4293-497d-8991-177f517b0329\">\n",
              "      <button class=\"colab-df-quickchart\" onclick=\"quickchart('df-d5c9032b-4293-497d-8991-177f517b0329')\"\n",
              "              title=\"Suggest charts.\"\n",
              "              style=\"display:none;\">\n",
              "\n",
              "<svg xmlns=\"http://www.w3.org/2000/svg\" height=\"24px\"viewBox=\"0 0 24 24\"\n",
              "     width=\"24px\">\n",
              "    <g>\n",
              "        <path d=\"M19 3H5c-1.1 0-2 .9-2 2v14c0 1.1.9 2 2 2h14c1.1 0 2-.9 2-2V5c0-1.1-.9-2-2-2zM9 17H7v-7h2v7zm4 0h-2V7h2v10zm4 0h-2v-4h2v4z\"/>\n",
              "    </g>\n",
              "</svg>\n",
              "      </button>\n",
              "    </div>\n",
              "\n",
              "<style>\n",
              "  .colab-df-quickchart {\n",
              "    background-color: #E8F0FE;\n",
              "    border: none;\n",
              "    border-radius: 50%;\n",
              "    cursor: pointer;\n",
              "    display: none;\n",
              "    fill: #1967D2;\n",
              "    height: 32px;\n",
              "    padding: 0 0 0 0;\n",
              "    width: 32px;\n",
              "  }\n",
              "\n",
              "  .colab-df-quickchart:hover {\n",
              "    background-color: #E2EBFA;\n",
              "    box-shadow: 0px 1px 2px rgba(60, 64, 67, 0.3), 0px 1px 3px 1px rgba(60, 64, 67, 0.15);\n",
              "    fill: #174EA6;\n",
              "  }\n",
              "\n",
              "  [theme=dark] .colab-df-quickchart {\n",
              "    background-color: #3B4455;\n",
              "    fill: #D2E3FC;\n",
              "  }\n",
              "\n",
              "  [theme=dark] .colab-df-quickchart:hover {\n",
              "    background-color: #434B5C;\n",
              "    box-shadow: 0px 1px 3px 1px rgba(0, 0, 0, 0.15);\n",
              "    filter: drop-shadow(0px 1px 2px rgba(0, 0, 0, 0.3));\n",
              "    fill: #FFFFFF;\n",
              "  }\n",
              "</style>\n",
              "\n",
              "    <script>\n",
              "      async function quickchart(key) {\n",
              "        const containerElement = document.querySelector('#' + key);\n",
              "        const charts = await google.colab.kernel.invokeFunction(\n",
              "            'suggestCharts', [key], {});\n",
              "      }\n",
              "    </script>\n",
              "\n",
              "      <script>\n",
              "\n",
              "function displayQuickchartButton(domScope) {\n",
              "  let quickchartButtonEl =\n",
              "    domScope.querySelector('#df-d5c9032b-4293-497d-8991-177f517b0329 button.colab-df-quickchart');\n",
              "  quickchartButtonEl.style.display =\n",
              "    google.colab.kernel.accessAllowed ? 'block' : 'none';\n",
              "}\n",
              "\n",
              "        displayQuickchartButton(document);\n",
              "      </script>\n",
              "      <style>\n",
              "    .colab-df-container {\n",
              "      display:flex;\n",
              "      flex-wrap:wrap;\n",
              "      gap: 12px;\n",
              "    }\n",
              "\n",
              "    .colab-df-convert {\n",
              "      background-color: #E8F0FE;\n",
              "      border: none;\n",
              "      border-radius: 50%;\n",
              "      cursor: pointer;\n",
              "      display: none;\n",
              "      fill: #1967D2;\n",
              "      height: 32px;\n",
              "      padding: 0 0 0 0;\n",
              "      width: 32px;\n",
              "    }\n",
              "\n",
              "    .colab-df-convert:hover {\n",
              "      background-color: #E2EBFA;\n",
              "      box-shadow: 0px 1px 2px rgba(60, 64, 67, 0.3), 0px 1px 3px 1px rgba(60, 64, 67, 0.15);\n",
              "      fill: #174EA6;\n",
              "    }\n",
              "\n",
              "    [theme=dark] .colab-df-convert {\n",
              "      background-color: #3B4455;\n",
              "      fill: #D2E3FC;\n",
              "    }\n",
              "\n",
              "    [theme=dark] .colab-df-convert:hover {\n",
              "      background-color: #434B5C;\n",
              "      box-shadow: 0px 1px 3px 1px rgba(0, 0, 0, 0.15);\n",
              "      filter: drop-shadow(0px 1px 2px rgba(0, 0, 0, 0.3));\n",
              "      fill: #FFFFFF;\n",
              "    }\n",
              "  </style>\n",
              "\n",
              "      <script>\n",
              "        const buttonEl =\n",
              "          document.querySelector('#df-3b389307-e08b-4b9a-8fcf-463f30434fba button.colab-df-convert');\n",
              "        buttonEl.style.display =\n",
              "          google.colab.kernel.accessAllowed ? 'block' : 'none';\n",
              "\n",
              "        async function convertToInteractive(key) {\n",
              "          const element = document.querySelector('#df-3b389307-e08b-4b9a-8fcf-463f30434fba');\n",
              "          const dataTable =\n",
              "            await google.colab.kernel.invokeFunction('convertToInteractive',\n",
              "                                                     [key], {});\n",
              "          if (!dataTable) return;\n",
              "\n",
              "          const docLinkHtml = 'Like what you see? Visit the ' +\n",
              "            '<a target=\"_blank\" href=https://colab.research.google.com/notebooks/data_table.ipynb>data table notebook</a>'\n",
              "            + ' to learn more about interactive tables.';\n",
              "          element.innerHTML = '';\n",
              "          dataTable['output_type'] = 'display_data';\n",
              "          await google.colab.output.renderOutput(dataTable, element);\n",
              "          const docLink = document.createElement('div');\n",
              "          docLink.innerHTML = docLinkHtml;\n",
              "          element.appendChild(docLink);\n",
              "        }\n",
              "      </script>\n",
              "    </div>\n",
              "  </div>\n"
            ]
          },
          "metadata": {},
          "execution_count": 110
        }
      ]
    },
    {
      "cell_type": "markdown",
      "source": [
        "Using filtering, show the areas that have infant mortality between 30 and 50."
      ],
      "metadata": {
        "id": "p3HuplArrTrb"
      }
    },
    {
      "cell_type": "code",
      "source": [
        "UNdata[(UNdata[\"Infant Mortality\"] > 30) & (UNdata[\"Infant Mortality\"] < 50) ]\n"
      ],
      "metadata": {
        "id": "ef53Ev93rS-e",
        "colab": {
          "base_uri": "https://localhost:8080/",
          "height": 81
        },
        "outputId": "6f99cad9-0501-4df6-b5a3-241365afaccd"
      },
      "execution_count": null,
      "outputs": [
        {
          "output_type": "execute_result",
          "data": {
            "text/plain": [
              "         Countries  Population Rate of Increase  Fertility Rate  \\\n",
              "0  Northern Africa                          1.7             3.2   \n",
              "\n",
              "   Infant Mortality  \n",
              "0              39.3  "
            ],
            "text/html": [
              "\n",
              "\n",
              "  <div id=\"df-8c17728e-a4c4-4aa0-b23b-d79aa5ae2370\">\n",
              "    <div class=\"colab-df-container\">\n",
              "      <div>\n",
              "<style scoped>\n",
              "    .dataframe tbody tr th:only-of-type {\n",
              "        vertical-align: middle;\n",
              "    }\n",
              "\n",
              "    .dataframe tbody tr th {\n",
              "        vertical-align: top;\n",
              "    }\n",
              "\n",
              "    .dataframe thead th {\n",
              "        text-align: right;\n",
              "    }\n",
              "</style>\n",
              "<table border=\"1\" class=\"dataframe\">\n",
              "  <thead>\n",
              "    <tr style=\"text-align: right;\">\n",
              "      <th></th>\n",
              "      <th>Countries</th>\n",
              "      <th>Population Rate of Increase</th>\n",
              "      <th>Fertility Rate</th>\n",
              "      <th>Infant Mortality</th>\n",
              "    </tr>\n",
              "  </thead>\n",
              "  <tbody>\n",
              "    <tr>\n",
              "      <th>0</th>\n",
              "      <td>Northern Africa</td>\n",
              "      <td>1.7</td>\n",
              "      <td>3.2</td>\n",
              "      <td>39.3</td>\n",
              "    </tr>\n",
              "  </tbody>\n",
              "</table>\n",
              "</div>\n",
              "      <button class=\"colab-df-convert\" onclick=\"convertToInteractive('df-8c17728e-a4c4-4aa0-b23b-d79aa5ae2370')\"\n",
              "              title=\"Convert this dataframe to an interactive table.\"\n",
              "              style=\"display:none;\">\n",
              "\n",
              "  <svg xmlns=\"http://www.w3.org/2000/svg\" height=\"24px\"viewBox=\"0 0 24 24\"\n",
              "       width=\"24px\">\n",
              "    <path d=\"M0 0h24v24H0V0z\" fill=\"none\"/>\n",
              "    <path d=\"M18.56 5.44l.94 2.06.94-2.06 2.06-.94-2.06-.94-.94-2.06-.94 2.06-2.06.94zm-11 1L8.5 8.5l.94-2.06 2.06-.94-2.06-.94L8.5 2.5l-.94 2.06-2.06.94zm10 10l.94 2.06.94-2.06 2.06-.94-2.06-.94-.94-2.06-.94 2.06-2.06.94z\"/><path d=\"M17.41 7.96l-1.37-1.37c-.4-.4-.92-.59-1.43-.59-.52 0-1.04.2-1.43.59L10.3 9.45l-7.72 7.72c-.78.78-.78 2.05 0 2.83L4 21.41c.39.39.9.59 1.41.59.51 0 1.02-.2 1.41-.59l7.78-7.78 2.81-2.81c.8-.78.8-2.07 0-2.86zM5.41 20L4 18.59l7.72-7.72 1.47 1.35L5.41 20z\"/>\n",
              "  </svg>\n",
              "      </button>\n",
              "\n",
              "\n",
              "\n",
              "    <div id=\"df-12752706-a891-49e2-992c-04f7b23b9c3d\">\n",
              "      <button class=\"colab-df-quickchart\" onclick=\"quickchart('df-12752706-a891-49e2-992c-04f7b23b9c3d')\"\n",
              "              title=\"Suggest charts.\"\n",
              "              style=\"display:none;\">\n",
              "\n",
              "<svg xmlns=\"http://www.w3.org/2000/svg\" height=\"24px\"viewBox=\"0 0 24 24\"\n",
              "     width=\"24px\">\n",
              "    <g>\n",
              "        <path d=\"M19 3H5c-1.1 0-2 .9-2 2v14c0 1.1.9 2 2 2h14c1.1 0 2-.9 2-2V5c0-1.1-.9-2-2-2zM9 17H7v-7h2v7zm4 0h-2V7h2v10zm4 0h-2v-4h2v4z\"/>\n",
              "    </g>\n",
              "</svg>\n",
              "      </button>\n",
              "    </div>\n",
              "\n",
              "<style>\n",
              "  .colab-df-quickchart {\n",
              "    background-color: #E8F0FE;\n",
              "    border: none;\n",
              "    border-radius: 50%;\n",
              "    cursor: pointer;\n",
              "    display: none;\n",
              "    fill: #1967D2;\n",
              "    height: 32px;\n",
              "    padding: 0 0 0 0;\n",
              "    width: 32px;\n",
              "  }\n",
              "\n",
              "  .colab-df-quickchart:hover {\n",
              "    background-color: #E2EBFA;\n",
              "    box-shadow: 0px 1px 2px rgba(60, 64, 67, 0.3), 0px 1px 3px 1px rgba(60, 64, 67, 0.15);\n",
              "    fill: #174EA6;\n",
              "  }\n",
              "\n",
              "  [theme=dark] .colab-df-quickchart {\n",
              "    background-color: #3B4455;\n",
              "    fill: #D2E3FC;\n",
              "  }\n",
              "\n",
              "  [theme=dark] .colab-df-quickchart:hover {\n",
              "    background-color: #434B5C;\n",
              "    box-shadow: 0px 1px 3px 1px rgba(0, 0, 0, 0.15);\n",
              "    filter: drop-shadow(0px 1px 2px rgba(0, 0, 0, 0.3));\n",
              "    fill: #FFFFFF;\n",
              "  }\n",
              "</style>\n",
              "\n",
              "    <script>\n",
              "      async function quickchart(key) {\n",
              "        const containerElement = document.querySelector('#' + key);\n",
              "        const charts = await google.colab.kernel.invokeFunction(\n",
              "            'suggestCharts', [key], {});\n",
              "      }\n",
              "    </script>\n",
              "\n",
              "      <script>\n",
              "\n",
              "function displayQuickchartButton(domScope) {\n",
              "  let quickchartButtonEl =\n",
              "    domScope.querySelector('#df-12752706-a891-49e2-992c-04f7b23b9c3d button.colab-df-quickchart');\n",
              "  quickchartButtonEl.style.display =\n",
              "    google.colab.kernel.accessAllowed ? 'block' : 'none';\n",
              "}\n",
              "\n",
              "        displayQuickchartButton(document);\n",
              "      </script>\n",
              "      <style>\n",
              "    .colab-df-container {\n",
              "      display:flex;\n",
              "      flex-wrap:wrap;\n",
              "      gap: 12px;\n",
              "    }\n",
              "\n",
              "    .colab-df-convert {\n",
              "      background-color: #E8F0FE;\n",
              "      border: none;\n",
              "      border-radius: 50%;\n",
              "      cursor: pointer;\n",
              "      display: none;\n",
              "      fill: #1967D2;\n",
              "      height: 32px;\n",
              "      padding: 0 0 0 0;\n",
              "      width: 32px;\n",
              "    }\n",
              "\n",
              "    .colab-df-convert:hover {\n",
              "      background-color: #E2EBFA;\n",
              "      box-shadow: 0px 1px 2px rgba(60, 64, 67, 0.3), 0px 1px 3px 1px rgba(60, 64, 67, 0.15);\n",
              "      fill: #174EA6;\n",
              "    }\n",
              "\n",
              "    [theme=dark] .colab-df-convert {\n",
              "      background-color: #3B4455;\n",
              "      fill: #D2E3FC;\n",
              "    }\n",
              "\n",
              "    [theme=dark] .colab-df-convert:hover {\n",
              "      background-color: #434B5C;\n",
              "      box-shadow: 0px 1px 3px 1px rgba(0, 0, 0, 0.15);\n",
              "      filter: drop-shadow(0px 1px 2px rgba(0, 0, 0, 0.3));\n",
              "      fill: #FFFFFF;\n",
              "    }\n",
              "  </style>\n",
              "\n",
              "      <script>\n",
              "        const buttonEl =\n",
              "          document.querySelector('#df-8c17728e-a4c4-4aa0-b23b-d79aa5ae2370 button.colab-df-convert');\n",
              "        buttonEl.style.display =\n",
              "          google.colab.kernel.accessAllowed ? 'block' : 'none';\n",
              "\n",
              "        async function convertToInteractive(key) {\n",
              "          const element = document.querySelector('#df-8c17728e-a4c4-4aa0-b23b-d79aa5ae2370');\n",
              "          const dataTable =\n",
              "            await google.colab.kernel.invokeFunction('convertToInteractive',\n",
              "                                                     [key], {});\n",
              "          if (!dataTable) return;\n",
              "\n",
              "          const docLinkHtml = 'Like what you see? Visit the ' +\n",
              "            '<a target=\"_blank\" href=https://colab.research.google.com/notebooks/data_table.ipynb>data table notebook</a>'\n",
              "            + ' to learn more about interactive tables.';\n",
              "          element.innerHTML = '';\n",
              "          dataTable['output_type'] = 'display_data';\n",
              "          await google.colab.output.renderOutput(dataTable, element);\n",
              "          const docLink = document.createElement('div');\n",
              "          docLink.innerHTML = docLinkHtml;\n",
              "          element.appendChild(docLink);\n",
              "        }\n",
              "      </script>\n",
              "    </div>\n",
              "  </div>\n"
            ]
          },
          "metadata": {},
          "execution_count": 121
        }
      ]
    },
    {
      "cell_type": "markdown",
      "source": [
        "Find the max for infant mortality for the four areas."
      ],
      "metadata": {
        "id": "kh9moTXCrWnF"
      }
    },
    {
      "cell_type": "code",
      "source": [
        "UNdata[\"Infant Mortality\"].max()"
      ],
      "metadata": {
        "id": "ETb5JyWTrW8B",
        "colab": {
          "base_uri": "https://localhost:8080/"
        },
        "outputId": "234c26a6-46f8-47d1-859f-e4de6d5d4e22"
      },
      "execution_count": null,
      "outputs": [
        {
          "output_type": "execute_result",
          "data": {
            "text/plain": [
              "87.3"
            ]
          },
          "metadata": {},
          "execution_count": 125
        }
      ]
    },
    {
      "cell_type": "markdown",
      "metadata": {
        "id": "8ni5XbrPKKdM"
      },
      "source": [
        "With that, we've completed our review of the Python library Pandas. If you have any lingering questions, do ask! You can find more on Pandas on their [official website](https://pandas.pydata.org/)."
      ]
    },
    {
      "cell_type": "markdown",
      "metadata": {
        "id": "N6zknks8KKdM"
      },
      "source": [
        "# Matplotlib: A (Tiny) Introduction 📈"
      ]
    },
    {
      "cell_type": "markdown",
      "metadata": {
        "id": "Ncf6gLKkKKdM"
      },
      "source": [
        "Matplotlib is a Python 2D plotting library which produces  plots, histograms, power spectra, bar charts, errorcharts, scatterplots, etc. with just a few lines of code. Source: [Matplotlib](https://matplotlib.org). <br>\n",
        "We'll cover only some of the coolest features in this Notebook due to time constraints. You can explore more on the [official website.](https://matplotlib.org/tutorials/index.html)"
      ]
    },
    {
      "cell_type": "markdown",
      "metadata": {
        "id": "AF_UaXHGKKdM"
      },
      "source": [
        "Let's import the `matplotlib` library under the alias `plt`"
      ]
    },
    {
      "cell_type": "code",
      "metadata": {
        "id": "SPimxVV7KKdM"
      },
      "source": [
        "import matplotlib.pyplot as plt"
      ],
      "execution_count": null,
      "outputs": []
    },
    {
      "cell_type": "markdown",
      "metadata": {
        "id": "sQNhgmjFKKdN"
      },
      "source": [
        "### Pyplot"
      ]
    },
    {
      "cell_type": "markdown",
      "metadata": {
        "id": "9WbbAMlRKKdN"
      },
      "source": [
        "Pyplot is a module of Matplotlib which provides simple functions to add plot elements like lines, images, text, etc. to the current axes in the current figure."
      ]
    },
    {
      "cell_type": "markdown",
      "metadata": {
        "id": "00Fel6ykKKdN"
      },
      "source": [
        "We'll import the Pyplot module to create a simple plot. We will be using two NumPy arrays - one for the x-coordinates and another for the y-coordinates:"
      ]
    },
    {
      "cell_type": "code",
      "metadata": {
        "id": "sLSc7SbHKKdN"
      },
      "source": [
        "plt.plot([1,2,3,4],[1,4,9,16]) # plt.plot([x-coordinates], [y-coordinates])\n",
        "plt.show()"
      ],
      "execution_count": null,
      "outputs": []
    },
    {
      "cell_type": "markdown",
      "metadata": {
        "id": "weoDq9MYKKdO"
      },
      "source": [
        "Now, we can add titles, and labels:"
      ]
    },
    {
      "cell_type": "code",
      "metadata": {
        "id": "iHnwLMXHKKdO"
      },
      "source": [
        "plt.plot([1,2,3,4],[1,4,9,16]) # plt.plot([x-coordinates], [y-coordinates])\n",
        "plt.title(\"First Plot\")\n",
        "plt.xlabel(\"X Label\")\n",
        "plt.ylabel(\"Y Label\")\n",
        "plt.show()"
      ],
      "execution_count": null,
      "outputs": []
    },
    {
      "cell_type": "markdown",
      "metadata": {
        "id": "LH76ssZnKKdP"
      },
      "source": [
        "Another commonly used graph in Machine Learning is the Scatter Plot. Let's create a basic scatterplot in MatPlotLib comparing the distribution of height vs. weight:"
      ]
    },
    {
      "cell_type": "code",
      "metadata": {
        "id": "9O0CPOx4KKdQ"
      },
      "source": [
        "height = np.array([167, 170, 149, 165, 155, 180, 166, 146, 159, 185, 145, 168, 172, 181, 169])\n",
        "weight = np.array([86,74,66,78,68,79,90,73,70,88,66,84, 67, 84, 77])\n",
        "\n",
        "#We can set the limit (lower, upper) for the x-axis and the y-axis using xlim and ylim, respectively.\n",
        "plt.xlim(140, 200)\n",
        "plt.ylim(60,100)\n",
        "#A scatterplot can be generated through .scatter(x,y)\n",
        "plt.scatter(height,weight)\n",
        "plt.title(\"Comparing Height vs. Weight\")\n",
        "plt.xlabel(\"Height\")\n",
        "plt.ylabel(\"Weight\")\n",
        "plt.show()"
      ],
      "execution_count": null,
      "outputs": []
    },
    {
      "cell_type": "markdown",
      "metadata": {
        "id": "6mxMn_4bKKdR"
      },
      "source": [
        "## Exercise: MatPlotLib 🏃"
      ]
    },
    {
      "cell_type": "markdown",
      "metadata": {
        "id": "3LfHjeNWKKdR"
      },
      "source": [
        "Using the data for the animal weights and lengths, create a scatterplot comparing the information.\n",
        "\n",
        "Note: Remember to properly label the graph (x-axis, y-axis, and title!)"
      ]
    },
    {
      "cell_type": "code",
      "source": [
        "animal_length = [8,6,9,1,8,9,5,6,6,6,5,3,4,5]\n",
        "animal_weight = [7,13,8,12,11,8,10,14,9,11,10,10,9,14]\n",
        "\n",
        "# YOUR CODE HERE"
      ],
      "metadata": {
        "id": "NoS5VSM0r9ZB"
      },
      "execution_count": null,
      "outputs": []
    },
    {
      "cell_type": "markdown",
      "metadata": {
        "id": "wh-AfqzEKKdR"
      },
      "source": [
        "# Seaborn: Another (tiny) introduction 🌊"
      ]
    },
    {
      "cell_type": "markdown",
      "metadata": {
        "id": "X3OFm9_LKKdR"
      },
      "source": [
        "Let's first import the library for seaborn under the alias sns:"
      ]
    },
    {
      "cell_type": "code",
      "metadata": {
        "id": "ghg0flCUytpS"
      },
      "source": [
        "import seaborn as sns"
      ],
      "execution_count": null,
      "outputs": []
    },
    {
      "cell_type": "markdown",
      "metadata": {
        "id": "9kT_EQIkKKdS"
      },
      "source": [
        "Let's import a csv file - comma-separated values - that details the total bill costs and the tips. We'll run a scatterplot on this data:"
      ]
    },
    {
      "cell_type": "code",
      "metadata": {
        "id": "bx-QuQQ3KKdT"
      },
      "source": [
        "# Run this code to import the data and read it in using 'pd.read_csv('file')'\n",
        "tips = pd.read_csv('tips.csv')\n",
        "ax = sns.scatterplot(x=\"total_bill\", y=\"tip\", data=tips) #plotting it"
      ],
      "execution_count": null,
      "outputs": []
    },
    {
      "cell_type": "markdown",
      "metadata": {
        "id": "gUDdScq-KKdU"
      },
      "source": [
        "The scatterplot above does not discriminate between the days of the week. What if we wanted to see the distribution of the data for each day?\n",
        "<br>\n",
        "For this, we can consider using a categorical scatterplot with the `.catplot()` method."
      ]
    },
    {
      "cell_type": "code",
      "metadata": {
        "id": "zw8v_e-hKKdU"
      },
      "source": [
        "sns.catplot(x=\"day\", y=\"total_bill\", data=tips);"
      ],
      "execution_count": null,
      "outputs": []
    },
    {
      "cell_type": "markdown",
      "metadata": {
        "id": "6W0Rxlt1KKdW"
      },
      "source": [
        "We can go even further! How about we try sorting the time of the day that the customer dined at the restaraunt? Let's use the `swarm` parameter to prevent the points from overlapping and group by time:"
      ]
    },
    {
      "cell_type": "code",
      "metadata": {
        "id": "vp3BnS7UKKdW"
      },
      "source": [
        "sns.catplot(x=\"total_bill\", y=\"day\", hue=\"time\", kind=\"swarm\", data=tips);"
      ],
      "execution_count": null,
      "outputs": []
    },
    {
      "cell_type": "markdown",
      "metadata": {
        "id": "Aij7Gu_lKKdX"
      },
      "source": [
        "To reiterate, the `hue` parameter allows us to add another dimension to group data by color. The `swarm` parameter helps us to visualize the data more clearly by preventing overlapping points (as opposed to catplot where points with the same data values will lie on top of each other)."
      ]
    },
    {
      "cell_type": "markdown",
      "metadata": {
        "id": "xR4_GYXdKKdX"
      },
      "source": [
        "## Exercise: Seaborn 🐳"
      ]
    },
    {
      "cell_type": "markdown",
      "metadata": {
        "id": "0VYlmLfKKKdX"
      },
      "source": [
        "###Time for one of our last exercises!"
      ]
    },
    {
      "cell_type": "markdown",
      "metadata": {
        "id": "tE5KW2hJKKdX"
      },
      "source": [
        "Create a simple scatterplot comparing size of tip vs. size of table."
      ]
    },
    {
      "cell_type": "code",
      "source": [
        "# YOUR CODE HERE"
      ],
      "metadata": {
        "id": "aF-cWONOsf6w"
      },
      "execution_count": null,
      "outputs": []
    },
    {
      "cell_type": "markdown",
      "metadata": {
        "id": "FuPzuDVVKKdX"
      },
      "source": [
        "# scikit-learn: A Small Preview 👀"
      ]
    },
    {
      "cell_type": "markdown",
      "metadata": {
        "id": "DVRl5hoNKKdY"
      },
      "source": [
        "**scikit-learn** is a free software machine learning library for the Python programming language. It features various classification, regression and clustering algorithms including support vector machines, random forests, gradient boosting, k-means and DBSCAN, and is designed to interoperate with the Python numerical and scientific libraries NumPy and SciPy. Official website: https://scikit-learn.org/ <br>\n",
        "We'll be building a simple linear regression in Scikit-Learn to demonstrate how the library works at the base level."
      ]
    },
    {
      "cell_type": "markdown",
      "metadata": {
        "id": "V7BLSrIJKKdY"
      },
      "source": [
        "## Sneak Peak: Linear Regression 🏡"
      ]
    },
    {
      "cell_type": "markdown",
      "metadata": {
        "id": "NOwFVD4iKKdY"
      },
      "source": [
        "Linear regression is a linear approach to modeling a relationship between an response variable and an explanatory variable. We will study this in detail in the program!\n",
        "\n",
        "We'll create a small model that predicts the relationship between expected and true housing prices using the California Housing Dataset:"
      ]
    },
    {
      "cell_type": "markdown",
      "metadata": {
        "id": "kTMMlpXQKKdY"
      },
      "source": [
        "## Import 📦"
      ]
    },
    {
      "cell_type": "code",
      "metadata": {
        "id": "enQickNWKKdY"
      },
      "source": [
        "from sklearn.model_selection import train_test_split\n",
        "from sklearn.linear_model import LinearRegression\n",
        "from sklearn.datasets import fetch_california_housing\n",
        "data = fetch_california_housing()"
      ],
      "execution_count": null,
      "outputs": []
    },
    {
      "cell_type": "markdown",
      "metadata": {
        "id": "K12JaNpxvbVv"
      },
      "source": [
        "#### What is this data?"
      ]
    },
    {
      "cell_type": "code",
      "metadata": {
        "id": "sGELV4o1vnRr"
      },
      "source": [
        "# Print the description of the dataset (first 1400 characters)\n",
        "print(data.DESCR[:1400])"
      ],
      "execution_count": null,
      "outputs": []
    },
    {
      "cell_type": "code",
      "metadata": {
        "id": "nrq4pWoQv_bb"
      },
      "source": [
        "# data.data are all the houses with their attributes.\n",
        "# data.target are the corresponding house prices in units of 100K\n",
        "\n",
        "print(\"House 1, attributes: \", data.data[0])\n",
        "print(\"House 1, price: \", data.target[0])"
      ],
      "execution_count": null,
      "outputs": []
    },
    {
      "cell_type": "markdown",
      "metadata": {
        "id": "j5vaztG9KKdZ"
      },
      "source": [
        "## Train and Define 🚂"
      ]
    },
    {
      "cell_type": "markdown",
      "metadata": {
        "id": "uEd9diyUKKdZ"
      },
      "source": [
        "We're going to define our X-axis and Y-axis and fit the model to a Linear Regression model."
      ]
    },
    {
      "cell_type": "code",
      "metadata": {
        "id": "rjwnl-z6KKdZ"
      },
      "source": [
        "X_train, X_test, y_train, y_test = train_test_split(data.data, data.target)\n",
        "clf = LinearRegression()\n",
        "clf.fit(X_train, y_train)\n",
        "predicted = clf.predict(X_test)\n",
        "expected = y_test"
      ],
      "execution_count": null,
      "outputs": []
    },
    {
      "cell_type": "markdown",
      "metadata": {
        "id": "0QdXhrp6KKdZ"
      },
      "source": [
        "## Plot 📊"
      ]
    },
    {
      "cell_type": "code",
      "metadata": {
        "id": "hPaS2_nvKKdZ"
      },
      "source": [
        "plt.figure(figsize=(4, 3))\n",
        "plt.scatter(expected, predicted)\n",
        "plt.plot([0, 8], [0, 8], '--k')\n",
        "plt.axis('tight')\n",
        "plt.xlabel('True price ($100,000s)')\n",
        "plt.ylabel('Predicted price ($1000s)')\n",
        "plt.tight_layout()"
      ],
      "execution_count": null,
      "outputs": []
    },
    {
      "cell_type": "markdown",
      "metadata": {
        "id": "iSHOGMQhKKda"
      },
      "source": [
        "Woo! We've just seen a small preview of what Scikit-learn can do. We have the ability to create an accurate ML model with a few lines of code.\n",
        "\n",
        "We hope you learned something useful, and feel more curious to learn more about AI!"
      ]
    }
  ]
}